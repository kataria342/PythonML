{
 "cells": [
  {
   "cell_type": "code",
   "execution_count": 148,
   "metadata": {},
   "outputs": [],
   "source": [
    "from nltk.tokenize import word_tokenize\n",
    "import re\n",
    "import nltk\n",
    "from nltk.corpus import stopwords, wordnet\n",
    "from nltk.corpus import webtext\n",
    "from autocorrect import Speller"
   ]
  },
  {
   "attachments": {},
   "cell_type": "markdown",
   "metadata": {},
   "source": [
    "#### ***Process to Discovering Word Collocations***"
   ]
  },
  {
   "cell_type": "code",
   "execution_count": 63,
   "metadata": {},
   "outputs": [
    {
     "name": "stdout",
     "output_type": "stream",
     "text": [
      "25 sexy male , seeks attrac older single lady , for discreet encounters . 35yo security guard , seeking lady in uniform for fun times . 40 yo single dad , sincere friendly dte seeks r / ship with fem age open s / e 44yo tall seeks working single mum or lady below 45 fship rship . nat open 6 . 2 35 yr old outgoing m seeks fem 28 - 35 for o / door sports - w / e away a professional business male , late 40s , 6 feet tall , slim build , well groomed , great personality , home owner , interests include the arts travel and all things good , ringwood area , is seeking a genuine female of similar age or older , in same area or surrounds , for a meaningful long term rship . looking forward to hearing from you all . able young man seeks , sexy older women . phone for fun ready to play affectionate lady sought by generous guy , 40s , mutual fulfillment are you alone or lost in a r / ship too , with no hope in sight ? maybe we could explore new beginnings together ? im 45 slim / med build , gsoh , high needs and looking for someone similar . you wont be disappointed . amiable 43 y . o . gentleman with european background , 170 cm , medium build , employed , never married , no children . enjoys sports , music , cafes , beach & c . seeks an honest , attractive lady with a european background , without children , who would like to get married and have chil dren in the future . 29 - 39 y . o . prefer non - smoker and living in adelaide . are you a copper redhead ? i am 36 y . o . and looking for companionship / friendship . i enjoy the afl , animals and dining out . attractive 43 y . o . 61 , medium build , financially secure , no children , seeks attractive lady up to 40 y . o . with no children . i enjoy the beach , sports and music . view to permanent relationship . attractive guy late 30s , 57 , taurus . into fitness , cafes , movies , dinner parties . seeks out there female for friendship and fun . aussie 39 solid build , likes music , movies , walks on the beach , single , would like to meet lady for friendship view relationship . australian father 58 with 11 y . o . son , living with me . seeks nice , caring lady who likes children for permanent re lationship in coastal town on eyre peninsula . age open to 55 . australian , slim , fun 5 ft . 8 . enjoy bbqs , sport , fishing , going out for meal & c . fun to be with . looking for a com panion , aged between 35 - 50 . must be genuine and good fun . possible relationship . beautiful , intelligent caring , musical shy , late 20s , size 12 , long blonde hair and likes to drink guiness . if this is you then i want you . blonde hair , blue eyes medium build , im in my early 30s . am honest , caring , likes fishing , animals , golf , bike riding , tv and dvds , quiet nights at home , kissing and cuddling up to a special person in my life . looking for a caring , honest lady for friendship to relationship . businessman 60 '' ish looking for lady , non - smoker , 56 or taller with business outlook , no ties , be prepared to travel and enjoy outdoor sports ( cars , boats etc .), wining / dining . must have s . o . h . and have modern outlook . cuddly full figured lady 50 plus sought by australian gent , early 60s , financially secure , non - drinker , non smoker , for permanent relationship . fit active easygoing 50 y . o . male , 6 ft 2 , med . build , fit and healthy , fully employed no ties , non smoker , light drinker . seeking female friend , 40s , attractive 5 ft 5 +. med . to slim build . view towards a permanent relationship . give me a call lets have a chat . genuine and honest hi im 44 with a good sense of humour , am romantic and love drives , fishing , camping and music . love my 2 kids . am looking for a lady with similar interests , aged between 38 - 45 for friendship / possible relationship . genuine attractive man 40 y . o ., no ties , secure , 5 ft . 9 , slim build . i enjoy outdoors , gym , beach , country drives and quiet nights at home . seeking an honest , caring woman , slim or med . build , who enjoys the simple things in life . age open . good listener well educated , tall , blue eyes , brown hair , mid 20s , good looking , honest n / smoker . likes movies , drives , nights in , looks not important , nor distance / speed . looking for someone to complete my social circles . age open , friendship / relationship . greek / aust . male early 30s , 57 , slim build , non - smoker , enjoys dining out , movies , bbqs ., football and quiet nights at home . seeking slim , attractive female , 20 - 30 with similar interests for friend ship / relationship . handsome businessman tall , slim , independant , under standing , mid 50s , looking for classy lady who wants to retain her privacy , still retain her independance and is looking for a special private relationship . here i am pick me ! pick me ! now that i have your attention im a 35 y . o . 59 attractive guy , non - smoker / social drinker , fit and active , is seeking a slim - medium lady for friendship / relationship . limestone coast region attractive , 6 fit and healthy 46 y . o . country guy . interests incl . self sufficiencies , permaculture animals and travel would like to meet an attractive , non - smoking fun loving lady 35 - 45 for friendship view to permanent relationship male late 50 '' s aust single , tall , prof . interests : music , theatre , dining , art , the beach and the environment . seeking female with similar interests to share concerts , dining etc . outgoing guy late 30s , seeks lady , 25 - 50 , size unimportant for fun and good times . retired gent like to meet slim lady for long term caravan travel , heading darwin in may , share driving . must have sense of humour , non - smoker . age open . romantic 35 y . o . with one child . likes dining , movies , beach , country drives , quiet nights , seeks employed 28 - 40 year old lady for relationship . clare or barossa region or northern suburbs . tall , attractive male 40s no ties , down to earth , easy going with a sense of humour , understanding , with varied interests seeks genuine female for friendship , relationship , and quality times . vietnamese man single , never married , financially secure . seeks australian lady for genuine relationship , single mum welcome , aged up to 40 . widow early 60 '' s self employed professional , well established , 55 , slim build , uk born , many interests incl . sports cars , sexy , young for age , looks and outlook seeks short or long term relationship with slim , petite lady , any age up to 60 years . 31 yo guy slim , seeks 25 - 35 yo female for friendship / relationship , kids ok . eastern suburbs 43 yo male , blond , outgoing , genuine , friendly seeking female bet / w 30 - 35 yo , easygoing , friendly . 50 year old working tall guy , would like to meet attractive lady for long term relationship . central victorian single dad with 2 teen daughters , 46 y . o . looking for a special lady fit & healthy 60 y . o . self emp . tradesman , ns , seeks indian / sri lankan lady , ns , olive to dark complexion , 48 - 60 y . o . for f / dship poss . rel . mature gent . n / s . non drinker . looking for fship / rship with asian or indian lady . 35 - 50 years . romantic sexy country guy 58 ns seeks similar ns lady for fun and friendship . well dressed emotionally healthy man 37 like to meet full figured woman for relationship . 48 slim , shy , s / s , s / d , likes nrl , movies , outdoors , nature walks and quiet time . dtoe , soh , seeks same 38 - 50 , children ok . fship , poss rship , genuine replies only . ala . lots of friends , but lonely . 57yrs n / s , s / d . wltm attractive classy lady , slim to med build for outings , weekends away and poss perm rship , if suited . nationality and age open . attractive 34yo , gsoh , s / d . wltm at tractive prof ladies 40 - 50 who are time poor from work / career and like fun times and nights in or out . have always connected more with older women . e '' taining & interesting 46yo prof . kind , generous and a great listener who enjoys having fun . witty & humorous comb with caring and responsible . enjoys movies , music , reading & being social . wltm lady to enjoy company with view to beginning an exciting new rship . gent 57yrs of age , gsoh , n / s , s / d , 177cm . likes movies and theatre . looking forward to meeting lady with sim int . please send photo . fship , possible rship . gentleman is lonely , likes cooking , house work , gardening , wild life caring , and fishing . would like to meet a lady to share this with me . hi , swm , med build , 54y , likes quiet nts at home , self supporting , happy nat , fun loving , likes cooking . gsoh , s / s , s / d , seeking f 45 - 55 for fship , poss rship , likes to pamper , c / music , r / roll , loves life , not in a hurry . male 58 years old . is there a woman who would like to spend 1 weekend a month in charters towers especially country music festival weekend . if so please write . ref 8826 professional male , tall , fit , 40s , new to area who enjoys walking , travel , outdoors , walks on bch , amongst many other interests . seeking christian woman for fship , view to rship . swm 45 dtoe , honest , s / d , 178cm , 79kg . clean cut , intelligent , natur ist seeks petite open minded red hd or brunette . asian , eurasian welcome . home bch drives . fship , poss rship . wltm sincere , caring lady to share life with . my age is 70 yrs . gsoh , easy going , honest , reliable , dtoe person . i like walks , the beach , fishing , the outdoors , movies , music , dining out , am a n / s , s / d . looking for fship and a poss rship . asian lady 25 + sought by aussie gent 40 for f / ship possible r / ship asian lady sought . kids ok as i love family . nice & honest guy . asian lady with gsoh sought by businessman late 30s for f / ship r / ship athletic tall slim gen prof 40s seeks friendly lady age open morn pen are you out there & working 35 - 50yo ns , sd , gsoh , dte , caring thats me 2 . attractive young male seek ing casual meetings with mature ladies 30 - 50 bright boy with good brain , great cook & physique . 42 , 5 / 11 fair . businessman 60 + n / s s / d seeks lady age open for f / ship r / ship im a good listener so lets have lunch and converse . essendon area and inner suburbs bright happy positive prof male 48 fit / healthy n / s seeks lady same f / r / ship caring loving & generous , seeks petite female up to 38 . caring well dressed rom gent , seeks classy lady 35 + of elegance for r / ship casual discreet weekday meetings no obligation east suburbs . european male 45 , seeks married european lady for r / ship . fit 36yo married male seeks attr married female for discreet encounter . gent , 30 '' s , seeks attr lady , easygoing , gsoh , for long term fship / rship . greek 41yo seeks greek lady 30 - 37 for fship & rship greek guy 46 , seeking greek lady up to 50yo greek male late 30 '' s seeks lady up to 37yrs for long term relationship good looking male seeks larger lady for f / ship . preferably nth subs like to be mistress of your man like to be treated well . bold dte not precious , available during the day , appreciate a generous guy ? lets talk ! ( 50yo ) lj seeks js of bayswater be mine . male 26 tall n / s seeks female early 30s for fun times south east suburbs . male 38 seeking genuine lady s / s age open for f / ship possible r / ship male 60 - burly beared seeks intimate woman for outings n / s s / d f / ston / pen male mid 30 '' s looking for no strings attached fun times . married handyman seeks lady for casual fun any age married male mid 40 '' s attr missing tlc , seeks lady in similar position married man 50 , attrac . fit , seeks lady 40 - 50 to share special times . mt eliza business guy seeks gorg slim lady loves life with passion male 44 fit running / gym seeks slim lady n / s 40 - 45 f / ship ltr male seeks nice girl 25 - 30 serious rship . man 46 attractive fit , assertive , and kind . would like to meet attractive fit stylish female . for dinner and wine . northcote married asian likes to meet lady for good times , call me ! prof guy 68 gsoh casual seeks sexy lady n / s age open mornington . scorpio 47 seeks passionate woman for discreet intimate encounters sexy married male seeks married lady for discreet affair . single dad 44yo , 6ft , 95 kg , male , romantic , caring , sincere & honest seeks medium / slim attrac single mum 35 - 45 def non smoker . knox area single male 45 seeks female 40 - 50 for 4wd weekends away single male 49 seeks fe male for f / ship possible r / ship kids ok single good looking 45 yo seeks 40 + lady casual f / ship & fun married ok slim attractive 40 looking for fun pref asian . stern headmaster with a firm hand , seeks naughty lady sgl 49 yo male 6 '' ave build seeks bi curious fem for fun fship poss rship . single dad . 42 , east sub . 5 \" 9 seeks woman 30 + for f / ship relationship tall fair hair , mid 40 '' s gent , affectionate / loyal , seeks lady 35 - 45 - r / ship want to be spoilt have fun , be sexy warm , natural sgl dte 38yo , prof . seeks similar lady , genuine fship / rship young attractive girls under 23 sought by good looking 30s guy . 39 yr old male dte gsoh looking for lady fun times & outings a businessman 47 seeks slim attract uni student for daytime meetings a friend , a lover self employed single 47 yo romantic easy going gsoh honest reliable looking to find a friend . asian guy , 47 prof , well presented athletic no ties , n / s seeks lady to 47 for r / ship , cuddly lady welcome . attract 32 yo male seeks a younger 18 - 27 lady for f / ship relationship caring fit single 52 yo aust male . n / s gosh financially secure seeks busty / curvaceous lady 42 - 48 for f / ship poss perm r / ship east suburbs . disciplinarian seeks lady for fun times euro guy nth subs seeks lady into cars , friendship , good times & family good guy seeking asian lady , 20 - 30 n / s for f / ship r / ship . guy slim fit seeks lady , any age for intimate encounters genuine , caring 52yo male seeking dte , female 50 + poss . r / ship . harley rider 50 seeks casual affair with married lady . herpes male seeks fem under 36 for r / ship , enjoys , outdoors , movies , dinners . japanese / asian 40 - 50 sought by aussie mid 40s b / man f / ship r / ship love to meet widowed lady over 50 , no children in north west suburbs . male 34 seeking dte lady gsoh for casual fun , age & size open . married 32 fit attractive travels a lot looking for women for fun married 32 personal trainer looking for married woman age open for fun married dark guy 37 seeks married lady 30 - 48 for discreet times . sth e subs . married man 42yo 6ft , fit , seeks lady for discreet fun meetings . mid 30 '' s aussie guy , 6ft 2 '' olive skin , never married no kids , but i have a dog who thinks he is human . i would like to meet a sexy , honest , reliable partner who enjoys being spoilt and is ready for commitment older lady sought by 32 male for friendship relation ship tall male 35 european seeking fun , adventure & other things . 2 nice guys aged 39 & 36 would like to meet two females for quality times , night clubbing , movies , dining out and friendship . to a country boy 50 +, good soh , non smoker , social drinker , harley rider , semi retired , secure . looking for nice attractive lady , slim to medium build , under 55 yrs . must be non smoker , good soh to share life and fun times with . possible relationship . a little magic looking for a lady , who is a non smoker , 45 - 52 , slim to medium build , who likes long walks , articulate conversation , music , and a little fun with a 6 ft . 2 medium build blue / green eyed . gentleman . abound and carefree vibrant personality , n - s , 5 ft . 11 , 49 yrs . young , creative & adventurous , executive , articulate , intelligent & very flexible . love a good laugh , love life & enjoy contrasts and the finer things in life . seeks lady with same outlooks to 55 y . o . about me : 36 easygoing , self employed , 511 , medium build , smoker / social drinker , seeking slim - medium build woman who is happy in life , age open . active 57 years 5 ft . 8 , slim build , non - smoker , social drinker , living southern suburbs . i enjoy a healthy , active lifestyle . interests are : sports , travel , dining out , movies and quiet nights at home . seeking an affectionate , slim , easy going lady to 57 years for relationship . adelaide hills good looking , single , aussie country guy , 43 y . o . med . build , 5 ft . 8 ., honest and sincere . likes bbqs , fishing , camping , dining out . seeking genuine 30 - 45 y . o . lady who enjoys the outdoors and country life . adventurous 42 y . o . sensitive , non smoker , vegetarian , slim , 511 \", well travelled , beach loving . seeks down to earth 25 - 43 y . o ., slim , non smoker , into outdoor life , camping , walks and music . to aged 36 , single , outgoing , good looking , short dark hair . interested in afl , basketball , cricket , 10 pin bowling and enjoy sanfl , travelling , going out for dinner , movies and nightclubs . 52 y . o . tertiary educated professional woman , seeks professional , employed man , with interests in theatre , dining , music , good conversation etc . about me 53 y . o . lady , 5 ft 5 , non smoker , social drinker . i enjoy gardening , music , movies , walking , dining out and quiet nights at home , v8 motor racing . i am an easygoing , honest and caring person , seeking gentleman 50 - 65 for friendship with view to relationship . attractive employed lady late 30s , seeking tall 5 ft . 10 + attractive to very attractive dark haired gentleman , strictly 37 - 41 . no kids , working normal hours , not self employed , living near city . attractive 50 '' ish lady easygoing , down to earth . i enjoy travelling , movies , dining , wining , weekends away . seeking gent 58 - 65 with similar interests . attractive easy going intelligent , slim - medium build , 5 ft . 5 , healthy living - exercise daily , employed and responsible . seeking a trustworthy male 42 - 47 with integrity and good morals , non - smoker , social drinker . children ok . ballroom dancing seeking dancing partner me : mid 60s , 55 \", slimmish and after many years would like to enjoy dancing again . you must be taller than i and to avoid any complications , like me , unattached . city girl seeks country romance attractive 38 y . o . brunette living in adelaide seeks country farmer / land owner ( 36 - 45 ), pref . clean shaven , non smoker , honest with strong family values for social outings and companionship . other callers welcome to reply . do you love to dance ? fun loving and employed , i enjoy gardening , bbqs , dining out , house parties & c . looking for fit rock n roll dance partner . friendship maybe leading to relationship . early 60 '' s vibrant personality , good s . o . h . non - smoker / social drinker . interests include beach walks , movies , fishing , dancing , looking for gent 510 plus . prefer living western / southern suburbs . friendship view to relationship . easygoing 53 y . o . 5ft . 6 in . tall and of large build seeks a good man . i am a nonsmoker , social drinker , single mother of a 15 year old boy . lives ne subs . feisty foxy & a yummy grandmummy late 40s , working full time . looking for love & laughter . are you at least 59 , non - smoker , adventurous enough for exciting travel & comfortable enough to just watch tv , secure , fit but not fanatical ? a bonus would be a love of dancing . garden lover hi ! i am an aust . lady , 62 yo , 5 ft . 1 , slim - med ., build , n - s , s - d . interests : dining out , movies , entertain ., quiet nights at home , walks on beach & gardening seeks gentleman who is honest & looking for friendship , maybe lead to relationship . seeking honest man i am 41 y . o ., 5 ft . 4 , med . build , employed , fun loving lady with a good soh . enjoy movies , dining out , country drives & quiet times . seeks 35 - 45 , honest man with good soh & similar interests , friendship poss . relation ship . southern area . very romantic lady attractive 54 y . o ., medium build , who loves hugs and kisses and those special tingles when we click . no children but a home lover . amongst other things i enjoy being by the river . would like to meet a real romantic , age 50 - 65 y . o . woman of substance 56 , 59 kg ., 50 , fit , n - s , elegant , articulate , seeks honest , sincere , social , n - s , well preserved 6 . prof , sgle . prince charming . living city / inner subs to share a future filled with fun , travel , adventure , glorious sunsets , candlelight dinners , fine wine , romance & true love . yorke peninsula lady late 70s , 53 , pleasingly plump , missing male conversation and company . my interests are : luncheons , cards , travel and indoor bowls . affectionate loyal female , seeks tall male . 35 - 43 for genuine relationship / marriage . melb . subs . 43yo wltm male who enjoys life , dining in / out , movies , long drives , car racing , gardening , travel . must be employed , honest , and loving . 48yo swf wltm a 42 - 54yo genuine , caring , honest and normal man for fship , poss rship . s / s , s / d , gsoh . photo pls . a tall attractive lady , 40 yrs young looking for a male companion to go dancing with . could be light hearted dance classes or out and about . i have some experience in ballroom and jive . lady 51 wltm swm 50 - 57 for company and fship . s / s , s / d , enjoys movies , dining out and sedate outdoor walks . photo appreciated . lady 63 . wltm a genu ine person dtoe , possibly religious , loves horses , dogs , natural food ( vegetarian ), beaches , reading , fish ing . friendship please . lady , 43 well presented . wltm gent for dating , rship . likes fishing , dining out , movies , life and wine . n / s , must be fin . secure . if you would like to meet a lovely , sexy lady please reply with a photo if poss . genuine replies . slim well presented fem . early 50s , outgoing , intelligent , independant , into fitness , outdoor activites , sport , beach , music , theatre , movies , read ing . wltm n / s male with sim . int to share outings . poss rship . swf 40yo , s / d , s / s , sgl mum . looking to meet gen , honest , caring , non judgemental guy up to 45yo . must enjoy danc ing and life in general . must be comfortable with themselves . photo pls . only gen enquiries . abbreviations gsoh good sense of humour soh sense of humour n / d non drinker s / d social drinker s / s social smoker n / s non smoker ala all letters answered wltm would like to meet dtoe down to earth dont forget .. its free to advertise in perfect match !\n",
      "Total Number of Words : 4867\n",
      "Total Number of Characters : 22606\n"
     ]
    }
   ],
   "source": [
    "## converting to lowercase and putting them into dictionary\n",
    "#words = [w.lower() for w in webtext.words('grail.txt')]\n",
    "words = [w.lower() for w in webtext.words('singles.txt')]\n",
    "output = ' '.join(words)\n",
    "print(output)\n",
    "print('Total Number of Words :', len(words))\n",
    "print('Total Number of Characters :',len(output))"
   ]
  },
  {
   "cell_type": "code",
   "execution_count": 64,
   "metadata": {},
   "outputs": [
    {
     "name": "stdout",
     "output_type": "stream",
     "text": [
      "25 sexy male  seeks attrac older single lady  for discreet encounters  35yo security guard  seeking lady in uniform for fun times  40 yo single dad  sincere friendly dte seeks r  ship with fem age open s  e 44yo tall seeks working single mum or lady below 45 fship rship  nat open 6  2 35 yr old outgoing m seeks fem 28  35 for o  door sports  w  e away a professional business male  late 40s  6 feet tall  slim build  well groomed  great personality  home owner  interests include the arts travel and all things good  ringwood area  is seeking a genuine female of similar age or older  in same area or surrounds  for a meaningful long term rship  looking forward to hearing from you all  able young man seeks  sexy older women  phone for fun ready to play affectionate lady sought by generous guy  40s  mutual fulfillment are you alone or lost in a r  ship too  with no hope in sight  maybe we could explore new beginnings together  im 45 slim  med build  gsoh  high needs and looking for someone similar  you wont be disappointed  amiable 43 y  o  gentleman with european background  170 cm  medium build  employed  never married  no children  enjoys sports  music  cafes  beach  c  seeks an honest  attractive lady with a european background  without children  who would like to get married and have chil dren in the future  29  39 y  o  prefer non  smoker and living in adelaide  are you a copper redhead  i am 36 y  o  and looking for companionship  friendship  i enjoy the afl  animals and dining out  attractive 43 y  o  61  medium build  financially secure  no children  seeks attractive lady up to 40 y  o  with no children  i enjoy the beach  sports and music  view to permanent relationship  attractive guy late 30s  57  taurus  into fitness  cafes  movies  dinner parties  seeks out there female for friendship and fun  aussie 39 solid build  likes music  movies  walks on the beach  single  would like to meet lady for friendship view relationship  australian father 58 with 11 y  o  son  living with me  seeks nice  caring lady who likes children for permanent re lationship in coastal town on eyre peninsula  age open to 55  australian  slim  fun 5 ft  8  enjoy bbqs  sport  fishing  going out for meal  c  fun to be with  looking for a com panion  aged between 35  50  must be genuine and good fun  possible relationship  beautiful  intelligent caring  musical shy  late 20s  size 12  long blonde hair and likes to drink guiness  if this is you then i want you  blonde hair  blue eyes medium build  im in my early 30s  am honest  caring  likes fishing  animals  golf  bike riding  tv and dvds  quiet nights at home  kissing and cuddling up to a special person in my life  looking for a caring  honest lady for friendship to relationship  businessman 60  ish looking for lady  non  smoker  56 or taller with business outlook  no ties  be prepared to travel and enjoy outdoor sports  cars  boats etc  wining  dining  must have s  o  h  and have modern outlook  cuddly full figured lady 50 plus sought by australian gent  early 60s  financially secure  non  drinker  non smoker  for permanent relationship  fit active easygoing 50 y  o  male  6 ft 2  med  build  fit and healthy  fully employed no ties  non smoker  light drinker  seeking female friend  40s  attractive 5 ft 5  med  to slim build  view towards a permanent relationship  give me a call lets have a chat  genuine and honest hi im 44 with a good sense of humour  am romantic and love drives  fishing  camping and music  love my 2 kids  am looking for a lady with similar interests  aged between 38  45 for friendship  possible relationship  genuine attractive man 40 y  o  no ties  secure  5 ft  9  slim build  i enjoy outdoors  gym  beach  country drives and quiet nights at home  seeking an honest  caring woman  slim or med  build  who enjoys the simple things in life  age open  good listener well educated  tall  blue eyes  brown hair  mid 20s  good looking  honest n  smoker  likes movies  drives  nights in  looks not important  nor distance  speed  looking for someone to complete my social circles  age open  friendship  relationship  greek  aust  male early 30s  57  slim build  non  smoker  enjoys dining out  movies  bbqs  football and quiet nights at home  seeking slim  attractive female  20  30 with similar interests for friend ship  relationship  handsome businessman tall  slim  independant  under standing  mid 50s  looking for classy lady who wants to retain her privacy  still retain her independance and is looking for a special private relationship  here i am pick me  pick me  now that i have your attention im a 35 y  o  59 attractive guy  non  smoker  social drinker  fit and active  is seeking a slim  medium lady for friendship  relationship  limestone coast region attractive  6 fit and healthy 46 y  o  country guy  interests incl  self sufficiencies  permaculture animals and travel would like to meet an attractive  non  smoking fun loving lady 35  45 for friendship view to permanent relationship male late 50  s aust single  tall  prof  interests  music  theatre  dining  art  the beach and the environment  seeking female with similar interests to share concerts  dining etc  outgoing guy late 30s  seeks lady  25  50  size unimportant for fun and good times  retired gent like to meet slim lady for long term caravan travel  heading darwin in may  share driving  must have sense of humour  non  smoker  age open  romantic 35 y  o  with one child  likes dining  movies  beach  country drives  quiet nights  seeks employed 28  40 year old lady for relationship  clare or barossa region or northern suburbs  tall  attractive male 40s no ties  down to earth  easy going with a sense of humour  understanding  with varied interests seeks genuine female for friendship  relationship  and quality times  vietnamese man single  never married  financially secure  seeks australian lady for genuine relationship  single mum welcome  aged up to 40  widow early 60  s self employed professional  well established  55  slim build  uk born  many interests incl  sports cars  sexy  young for age  looks and outlook seeks short or long term relationship with slim  petite lady  any age up to 60 years  31 yo guy slim  seeks 25  35 yo female for friendship  relationship  kids ok  eastern suburbs 43 yo male  blond  outgoing  genuine  friendly seeking female bet  w 30  35 yo  easygoing  friendly  50 year old working tall guy  would like to meet attractive lady for long term relationship  central victorian single dad with 2 teen daughters  46 y  o  looking for a special lady fit  healthy 60 y  o  self emp  tradesman  ns  seeks indian  sri lankan lady  ns  olive to dark complexion  48  60 y  o  for f  dship poss  rel  mature gent  n  s  non drinker  looking for fship  rship with asian or indian lady  35  50 years  romantic sexy country guy 58 ns seeks similar ns lady for fun and friendship  well dressed emotionally healthy man 37 like to meet full figured woman for relationship  48 slim  shy  s  s  s  d  likes nrl  movies  outdoors  nature walks and quiet time  dtoe  soh  seeks same 38  50  children ok  fship  poss rship  genuine replies only  ala  lots of friends  but lonely  57yrs n  s  s  d  wltm attractive classy lady  slim to med build for outings  weekends away and poss perm rship  if suited  nationality and age open  attractive 34yo  gsoh  s  d  wltm at tractive prof ladies 40  50 who are time poor from work  career and like fun times and nights in or out  have always connected more with older women  e  taining  interesting 46yo prof  kind  generous and a great listener who enjoys having fun  witty  humorous comb with caring and responsible  enjoys movies  music  reading  being social  wltm lady to enjoy company with view to beginning an exciting new rship  gent 57yrs of age  gsoh  n  s  s  d  177cm  likes movies and theatre  looking forward to meeting lady with sim int  please send photo  fship  possible rship  gentleman is lonely  likes cooking  house work  gardening  wild life caring  and fishing  would like to meet a lady to share this with me  hi  swm  med build  54y  likes quiet nts at home  self supporting  happy nat  fun loving  likes cooking  gsoh  s  s  s  d  seeking f 45  55 for fship  poss rship  likes to pamper  c  music  r  roll  loves life  not in a hurry  male 58 years old  is there a woman who would like to spend 1 weekend a month in charters towers especially country music festival weekend  if so please write  ref 8826 professional male  tall  fit  40s  new to area who enjoys walking  travel  outdoors  walks on bch  amongst many other interests  seeking christian woman for fship  view to rship  swm 45 dtoe  honest  s  d  178cm  79kg  clean cut  intelligent  natur ist seeks petite open minded red hd or brunette  asian  eurasian welcome  home bch drives  fship  poss rship  wltm sincere  caring lady to share life with  my age is 70 yrs  gsoh  easy going  honest  reliable  dtoe person  i like walks  the beach  fishing  the outdoors  movies  music  dining out  am a n  s  s  d  looking for fship and a poss rship  asian lady 25  sought by aussie gent 40 for f  ship possible r  ship asian lady sought  kids ok as i love family  nice  honest guy  asian lady with gsoh sought by businessman late 30s for f  ship r  ship athletic tall slim gen prof 40s seeks friendly lady age open morn pen are you out there  working 35  50yo ns  sd  gsoh  dte  caring thats me 2  attractive young male seek ing casual meetings with mature ladies 30  50 bright boy with good brain  great cook  physique  42  5  11 fair  businessman 60  n  s s  d seeks lady age open for f  ship r  ship im a good listener so lets have lunch and converse  essendon area and inner suburbs bright happy positive prof male 48 fit  healthy n  s seeks lady same f  r  ship caring loving  generous  seeks petite female up to 38  caring well dressed rom gent  seeks classy lady 35  of elegance for r  ship casual discreet weekday meetings no obligation east suburbs  european male 45  seeks married european lady for r  ship  fit 36yo married male seeks attr married female for discreet encounter  gent  30  s  seeks attr lady  easygoing  gsoh  for long term fship  rship  greek 41yo seeks greek lady 30  37 for fship  rship greek guy 46  seeking greek lady up to 50yo greek male late 30  s seeks lady up to 37yrs for long term relationship good looking male seeks larger lady for f  ship  preferably nth subs like to be mistress of your man like to be treated well  bold dte not precious  available during the day  appreciate a generous guy  lets talk   50yo  lj seeks js of bayswater be mine  male 26 tall n  s seeks female early 30s for fun times south east suburbs  male 38 seeking genuine lady s  s age open for f  ship possible r  ship male 60  burly beared seeks intimate woman for outings n  s s  d f  ston  pen male mid 30  s looking for no strings attached fun times  married handyman seeks lady for casual fun any age married male mid 40  s attr missing tlc  seeks lady in similar position married man 50  attrac  fit  seeks lady 40  50 to share special times  mt eliza business guy seeks gorg slim lady loves life with passion male 44 fit running  gym seeks slim lady n  s 40  45 f  ship ltr male seeks nice girl 25  30 serious rship  man 46 attractive fit  assertive  and kind  would like to meet attractive fit stylish female  for dinner and wine  northcote married asian likes to meet lady for good times  call me  prof guy 68 gsoh casual seeks sexy lady n  s age open mornington  scorpio 47 seeks passionate woman for discreet intimate encounters sexy married male seeks married lady for discreet affair  single dad 44yo  6ft  95 kg  male  romantic  caring  sincere  honest seeks medium  slim attrac single mum 35  45 def non smoker  knox area single male 45 seeks female 40  50 for 4wd weekends away single male 49 seeks fe male for f  ship possible r  ship kids ok single good looking 45 yo seeks 40  lady casual f  ship  fun married ok slim attractive 40 looking for fun pref asian  stern headmaster with a firm hand  seeks naughty lady sgl 49 yo male 6  ave build seeks bi curious fem for fun fship poss rship  single dad  42  east sub  5  9 seeks woman 30  for f  ship relationship tall fair hair  mid 40  s gent  affectionate  loyal  seeks lady 35  45  r  ship want to be spoilt have fun  be sexy warm  natural sgl dte 38yo  prof  seeks similar lady  genuine fship  rship young attractive girls under 23 sought by good looking 30s guy  39 yr old male dte gsoh looking for lady fun times  outings a businessman 47 seeks slim attract uni student for daytime meetings a friend  a lover self employed single 47 yo romantic easy going gsoh honest reliable looking to find a friend  asian guy  47 prof  well presented athletic no ties  n  s seeks lady to 47 for r  ship  cuddly lady welcome  attract 32 yo male seeks a younger 18  27 lady for f  ship relationship caring fit single 52 yo aust male  n  s gosh financially secure seeks busty  curvaceous lady 42  48 for f  ship poss perm r  ship east suburbs  disciplinarian seeks lady for fun times euro guy nth subs seeks lady into cars  friendship  good times  family good guy seeking asian lady  20  30 n  s for f  ship r  ship  guy slim fit seeks lady  any age for intimate encounters genuine  caring 52yo male seeking dte  female 50  poss  r  ship  harley rider 50 seeks casual affair with married lady  herpes male seeks fem under 36 for r  ship  enjoys  outdoors  movies  dinners  japanese  asian 40  50 sought by aussie mid 40s b  man f  ship r  ship love to meet widowed lady over 50  no children in north west suburbs  male 34 seeking dte lady gsoh for casual fun  age  size open  married 32 fit attractive travels a lot looking for women for fun married 32 personal trainer looking for married woman age open for fun married dark guy 37 seeks married lady 30  48 for discreet times  sth e subs  married man 42yo 6ft  fit  seeks lady for discreet fun meetings  mid 30  s aussie guy  6ft 2  olive skin  never married no kids  but i have a dog who thinks he is human  i would like to meet a sexy  honest  reliable partner who enjoys being spoilt and is ready for commitment older lady sought by 32 male for friendship relation ship tall male 35 european seeking fun  adventure  other things  2 nice guys aged 39  36 would like to meet two females for quality times  night clubbing  movies  dining out and friendship  to a country boy 50  good soh  non smoker  social drinker  harley rider  semi retired  secure  looking for nice attractive lady  slim to medium build  under 55 yrs  must be non smoker  good soh to share life and fun times with  possible relationship  a little magic looking for a lady  who is a non smoker  45  52  slim to medium build  who likes long walks  articulate conversation  music  and a little fun with a 6 ft  2 medium build blue  green eyed  gentleman  abound and carefree vibrant personality  n  s  5 ft  11  49 yrs  young  creative  adventurous  executive  articulate  intelligent  very flexible  love a good laugh  love life  enjoy contrasts and the finer things in life  seeks lady with same outlooks to 55 y  o  about me  36 easygoing  self employed  511  medium build  smoker  social drinker  seeking slim  medium build woman who is happy in life  age open  active 57 years 5 ft  8  slim build  non  smoker  social drinker  living southern suburbs  i enjoy a healthy  active lifestyle  interests are  sports  travel  dining out  movies and quiet nights at home  seeking an affectionate  slim  easy going lady to 57 years for relationship  adelaide hills good looking  single  aussie country guy  43 y  o  med  build  5 ft  8  honest and sincere  likes bbqs  fishing  camping  dining out  seeking genuine 30  45 y  o  lady who enjoys the outdoors and country life  adventurous 42 y  o  sensitive  non smoker  vegetarian  slim  511  well travelled  beach loving  seeks down to earth 25  43 y  o  slim  non smoker  into outdoor life  camping  walks and music  to aged 36  single  outgoing  good looking  short dark hair  interested in afl  basketball  cricket  10 pin bowling and enjoy sanfl  travelling  going out for dinner  movies and nightclubs  52 y  o  tertiary educated professional woman  seeks professional  employed man  with interests in theatre  dining  music  good conversation etc  about me 53 y  o  lady  5 ft 5  non smoker  social drinker  i enjoy gardening  music  movies  walking  dining out and quiet nights at home  v8 motor racing  i am an easygoing  honest and caring person  seeking gentleman 50  65 for friendship with view to relationship  attractive employed lady late 30s  seeking tall 5 ft  10  attractive to very attractive dark haired gentleman  strictly 37  41  no kids  working normal hours  not self employed  living near city  attractive 50  ish lady easygoing  down to earth  i enjoy travelling  movies  dining  wining  weekends away  seeking gent 58  65 with similar interests  attractive easy going intelligent  slim  medium build  5 ft  5  healthy living  exercise daily  employed and responsible  seeking a trustworthy male 42  47 with integrity and good morals  non  smoker  social drinker  children ok  ballroom dancing seeking dancing partner me  mid 60s  55  slimmish and after many years would like to enjoy dancing again  you must be taller than i and to avoid any complications  like me  unattached  city girl seeks country romance attractive 38 y  o  brunette living in adelaide seeks country farmer  land owner  36  45  pref  clean shaven  non smoker  honest with strong family values for social outings and companionship  other callers welcome to reply  do you love to dance  fun loving and employed  i enjoy gardening  bbqs  dining out  house parties  c  looking for fit rock n roll dance partner  friendship maybe leading to relationship  early 60  s vibrant personality  good s  o  h  non  smoker  social drinker  interests include beach walks  movies  fishing  dancing  looking for gent 510 plus  prefer living western  southern suburbs  friendship view to relationship  easygoing 53 y  o  5ft  6 in  tall and of large build seeks a good man  i am a nonsmoker  social drinker  single mother of a 15 year old boy  lives ne subs  feisty foxy  a yummy grandmummy late 40s  working full time  looking for love  laughter  are you at least 59  non  smoker  adventurous enough for exciting travel  comfortable enough to just watch tv  secure  fit but not fanatical  a bonus would be a love of dancing  garden lover hi  i am an aust  lady  62 yo  5 ft  1  slim  med  build  n  s  s  d  interests  dining out  movies  entertain  quiet nights at home  walks on beach  gardening seeks gentleman who is honest  looking for friendship  maybe lead to relationship  seeking honest man i am 41 y  o  5 ft  4  med  build  employed  fun loving lady with a good soh  enjoy movies  dining out  country drives  quiet times  seeks 35  45  honest man with good soh  similar interests  friendship poss  relation ship  southern area  very romantic lady attractive 54 y  o  medium build  who loves hugs and kisses and those special tingles when we click  no children but a home lover  amongst other things i enjoy being by the river  would like to meet a real romantic  age 50  65 y  o  woman of substance 56  59 kg  50  fit  n  s  elegant  articulate  seeks honest  sincere  social  n  s  well preserved 6  prof  sgle  prince charming  living city  inner subs to share a future filled with fun  travel  adventure  glorious sunsets  candlelight dinners  fine wine  romance  true love  yorke peninsula lady late 70s  53  pleasingly plump  missing male conversation and company  my interests are  luncheons  cards  travel and indoor bowls  affectionate loyal female  seeks tall male  35  43 for genuine relationship  marriage  melb  subs  43yo wltm male who enjoys life  dining in  out  movies  long drives  car racing  gardening  travel  must be employed  honest  and loving  48yo swf wltm a 42  54yo genuine  caring  honest and normal man for fship  poss rship  s  s  s  d  gsoh  photo pls  a tall attractive lady  40 yrs young looking for a male companion to go dancing with  could be light hearted dance classes or out and about  i have some experience in ballroom and jive  lady 51 wltm swm 50  57 for company and fship  s  s  s  d  enjoys movies  dining out and sedate outdoor walks  photo appreciated  lady 63  wltm a genu ine person dtoe  possibly religious  loves horses  dogs  natural food  vegetarian  beaches  reading  fish ing  friendship please  lady  43 well presented  wltm gent for dating  rship  likes fishing  dining out  movies  life and wine  n  s  must be fin  secure  if you would like to meet a lovely  sexy lady please reply with a photo if poss  genuine replies  slim well presented fem  early 50s  outgoing  intelligent  independant  into fitness  outdoor activites  sport  beach  music  theatre  movies  read ing  wltm n  s male with sim  int to share outings  poss rship  swf 40yo  s  d  s  s  sgl mum  looking to meet gen  honest  caring  non judgemental guy up to 45yo  must enjoy danc ing and life in general  must be comfortable with themselves  photo pls  only gen enquiries  abbreviations gsoh good sense of humour soh sense of humour n  d non drinker s  d social drinker s  s social smoker n  s non smoker ala all letters answered wltm would like to meet dtoe down to earth dont forget  its free to advertise in perfect match \n",
      "21414\n",
      "3707\n",
      "4867\n"
     ]
    }
   ],
   "source": [
    "## Removing puncutions from string\n",
    "removedpunctuationsList = re.sub(r'[^\\w\\s]', '', output)\n",
    "print(removedpunctuationsList)\n",
    "print(len(removedpunctuationsList))\n",
    "newlist = []\n",
    "for i in words:\n",
    "    if re.match(r'[^\\w\\s]', i):\n",
    "        continue\n",
    "    else:\n",
    "        newlist.append(i)\n",
    "print(len(newlist))\n",
    "print(len(words))"
   ]
  },
  {
   "cell_type": "code",
   "execution_count": 65,
   "metadata": {},
   "outputs": [
    {
     "name": "stdout",
     "output_type": "stream",
     "text": [
      "25 sexy male seeks attrac older single lady discreet encounters 35yo security guard seeking lady uniform fun times 40 yo single dad sincere friendly dte seeks r ship fem age open e 44yo tall seeks working single mum lady 45 fship rship nat open 6 2 35 yr old outgoing seeks fem 28 35 door sports w e away professional business male late 40s 6 feet tall slim build well groomed great personality home owner interests include arts travel things good ringwood area seeking genuine female similar age older area surrounds meaningful long term rship looking forward hearing able young man seeks sexy older women phone fun ready play affectionate lady sought generous guy 40s mutual fulfillment alone lost r ship hope sight maybe could explore new beginnings together im 45 slim med build gsoh high needs looking someone similar wont disappointed amiable 43 gentleman european background 170 cm medium build employed never married children enjoys sports music cafes beach c seeks honest attractive lady european background without children would like get married chil dren future 29 39 prefer non smoker living adelaide copper redhead 36 looking companionship friendship enjoy afl animals dining attractive 43 61 medium build financially secure children seeks attractive lady 40 children enjoy beach sports music view permanent relationship attractive guy late 30s 57 taurus fitness cafes movies dinner parties seeks female friendship fun aussie 39 solid build likes music movies walks beach single would like meet lady friendship view relationship australian father 58 11 son living seeks nice caring lady likes children permanent lationship coastal town eyre peninsula age open 55 australian slim fun 5 ft 8 enjoy bbqs sport fishing going meal c fun looking com panion aged 35 50 must genuine good fun possible relationship beautiful intelligent caring musical shy late 20s size 12 long blonde hair likes drink guiness want blonde hair blue eyes medium build im early 30s honest caring likes fishing animals golf bike riding tv dvds quiet nights home kissing cuddling special person life looking caring honest lady friendship relationship businessman 60 ish looking lady non smoker 56 taller business outlook ties prepared travel enjoy outdoor sports cars boats etc wining dining must h modern outlook cuddly full figured lady 50 plus sought australian gent early 60s financially secure non drinker non smoker permanent relationship fit active easygoing 50 male 6 ft 2 med build fit healthy fully employed ties non smoker light drinker seeking female friend 40s attractive 5 ft 5 med slim build view towards permanent relationship give call lets chat genuine honest hi im 44 good sense humour romantic love drives fishing camping music love 2 kids looking lady similar interests aged 38 45 friendship possible relationship genuine attractive man 40 ties secure 5 ft 9 slim build enjoy outdoors gym beach country drives quiet nights home seeking honest caring woman slim med build enjoys simple things life age open good listener well educated tall blue eyes brown hair mid 20s good looking honest n smoker likes movies drives nights looks important distance speed looking someone complete social circles age open friendship relationship greek aust male early 30s 57 slim build non smoker enjoys dining movies bbqs football quiet nights home seeking slim attractive female 20 30 similar interests friend ship relationship handsome businessman tall slim independant standing mid 50s looking classy lady wants retain privacy still retain independance looking special private relationship pick pick attention im 35 59 attractive guy non smoker social drinker fit active seeking slim medium lady friendship relationship limestone coast region attractive 6 fit healthy 46 country guy interests incl self sufficiencies permaculture animals travel would like meet attractive non smoking fun loving lady 35 45 friendship view permanent relationship male late 50 aust single tall prof interests music theatre dining art beach environment seeking female similar interests share concerts dining etc outgoing guy late 30s seeks lady 25 50 size unimportant fun good times retired gent like meet slim lady long term caravan travel heading darwin may share driving must sense humour non smoker age open romantic 35 one child likes dining movies beach country drives quiet nights seeks employed 28 40 year old lady relationship clare barossa region northern suburbs tall attractive male 40s ties earth easy going sense humour understanding varied interests seeks genuine female friendship relationship quality times vietnamese man single never married financially secure seeks australian lady genuine relationship single mum welcome aged 40 widow early 60 self employed professional well established 55 slim build uk born many interests incl sports cars sexy young age looks outlook seeks short long term relationship slim petite lady age 60 years 31 yo guy slim seeks 25 35 yo female friendship relationship kids ok eastern suburbs 43 yo male blond outgoing genuine friendly seeking female bet w 30 35 yo easygoing friendly 50 year old working tall guy would like meet attractive lady long term relationship central victorian single dad 2 teen daughters 46 looking special lady fit healthy 60 self emp tradesman ns seeks indian sri lankan lady ns olive dark complexion 48 60 f dship poss rel mature gent n non drinker looking fship rship asian indian lady 35 50 years romantic sexy country guy 58 ns seeks similar ns lady fun friendship well dressed emotionally healthy man 37 like meet full figured woman relationship 48 slim shy likes nrl movies outdoors nature walks quiet time dtoe soh seeks 38 50 children ok fship poss rship genuine replies ala lots friends lonely 57yrs n wltm attractive classy lady slim med build outings weekends away poss perm rship suited nationality age open attractive 34yo gsoh wltm tractive prof ladies 40 50 time poor work career like fun times nights always connected older women e taining interesting 46yo prof kind generous great listener enjoys fun witty humorous comb caring responsible enjoys movies music reading social wltm lady enjoy company view beginning exciting new rship gent 57yrs age gsoh n 177cm likes movies theatre looking forward meeting lady sim int please send photo fship possible rship gentleman lonely likes cooking house work gardening wild life caring fishing would like meet lady share hi swm med build 54y likes quiet nts home self supporting happy nat fun loving likes cooking gsoh seeking f 45 55 fship poss rship likes pamper c music r roll loves life hurry male 58 years old woman would like spend 1 weekend month charters towers especially country music festival weekend please write ref 8826 professional male tall fit 40s new area enjoys walking travel outdoors walks bch amongst many interests seeking christian woman fship view rship swm 45 dtoe honest 178cm 79kg clean cut intelligent natur ist seeks petite open minded red hd brunette asian eurasian welcome home bch drives fship poss rship wltm sincere caring lady share life age 70 yrs gsoh easy going honest reliable dtoe person like walks beach fishing outdoors movies music dining n looking fship poss rship asian lady 25 sought aussie gent 40 f ship possible r ship asian lady sought kids ok love family nice honest guy asian lady gsoh sought businessman late 30s f ship r ship athletic tall slim gen prof 40s seeks friendly lady age open morn pen working 35 50yo ns sd gsoh dte caring thats 2 attractive young male seek ing casual meetings mature ladies 30 50 bright boy good brain great cook physique 42 5 11 fair businessman 60 n seeks lady age open f ship r ship im good listener lets lunch converse essendon area inner suburbs bright happy positive prof male 48 fit healthy n seeks lady f r ship caring loving generous seeks petite female 38 caring well dressed rom gent seeks classy lady 35 elegance r ship casual discreet weekday meetings obligation east suburbs european male 45 seeks married european lady r ship fit 36yo married male seeks attr married female discreet encounter gent 30 seeks attr lady easygoing gsoh long term fship rship greek 41yo seeks greek lady 30 37 fship rship greek guy 46 seeking greek lady 50yo greek male late 30 seeks lady 37yrs long term relationship good looking male seeks larger lady f ship preferably nth subs like mistress man like treated well bold dte precious available day appreciate generous guy lets talk 50yo lj seeks js bayswater mine male 26 tall n seeks female early 30s fun times south east suburbs male 38 seeking genuine lady age open f ship possible r ship male 60 burly beared seeks intimate woman outings n f ston pen male mid 30 looking strings attached fun times married handyman seeks lady casual fun age married male mid 40 attr missing tlc seeks lady similar position married man 50 attrac fit seeks lady 40 50 share special times mt eliza business guy seeks gorg slim lady loves life passion male 44 fit running gym seeks slim lady n 40 45 f ship ltr male seeks nice girl 25 30 serious rship man 46 attractive fit assertive kind would like meet attractive fit stylish female dinner wine northcote married asian likes meet lady good times call prof guy 68 gsoh casual seeks sexy lady n age open mornington scorpio 47 seeks passionate woman discreet intimate encounters sexy married male seeks married lady discreet affair single dad 44yo 6ft 95 kg male romantic caring sincere honest seeks medium slim attrac single mum 35 45 def non smoker knox area single male 45 seeks female 40 50 4wd weekends away single male 49 seeks fe male f ship possible r ship kids ok single good looking 45 yo seeks 40 lady casual f ship fun married ok slim attractive 40 looking fun pref asian stern headmaster firm hand seeks naughty lady sgl 49 yo male 6 ave build seeks bi curious fem fun fship poss rship single dad 42 east sub 5 9 seeks woman 30 f ship relationship tall fair hair mid 40 gent affectionate loyal seeks lady 35 45 r ship want spoilt fun sexy warm natural sgl dte 38yo prof seeks similar lady genuine fship rship young attractive girls 23 sought good looking 30s guy 39 yr old male dte gsoh looking lady fun times outings businessman 47 seeks slim attract uni student daytime meetings friend lover self employed single 47 yo romantic easy going gsoh honest reliable looking find friend asian guy 47 prof well presented athletic ties n seeks lady 47 r ship cuddly lady welcome attract 32 yo male seeks younger 18 27 lady f ship relationship caring fit single 52 yo aust male n gosh financially secure seeks busty curvaceous lady 42 48 f ship poss perm r ship east suburbs disciplinarian seeks lady fun times euro guy nth subs seeks lady cars friendship good times family good guy seeking asian lady 20 30 n f ship r ship guy slim fit seeks lady age intimate encounters genuine caring 52yo male seeking dte female 50 poss r ship harley rider 50 seeks casual affair married lady herpes male seeks fem 36 r ship enjoys outdoors movies dinners japanese asian 40 50 sought aussie mid 40s b man f ship r ship love meet widowed lady 50 children north west suburbs male 34 seeking dte lady gsoh casual fun age size open married 32 fit attractive travels lot looking women fun married 32 personal trainer looking married woman age open fun married dark guy 37 seeks married lady 30 48 discreet times sth e subs married man 42yo 6ft fit seeks lady discreet fun meetings mid 30 aussie guy 6ft 2 olive skin never married kids dog thinks human would like meet sexy honest reliable partner enjoys spoilt ready commitment older lady sought 32 male friendship relation ship tall male 35 european seeking fun adventure things 2 nice guys aged 39 36 would like meet two females quality times night clubbing movies dining friendship country boy 50 good soh non smoker social drinker harley rider semi retired secure looking nice attractive lady slim medium build 55 yrs must non smoker good soh share life fun times possible relationship little magic looking lady non smoker 45 52 slim medium build likes long walks articulate conversation music little fun 6 ft 2 medium build blue green eyed gentleman abound carefree vibrant personality n 5 ft 11 49 yrs young creative adventurous executive articulate intelligent flexible love good laugh love life enjoy contrasts finer things life seeks lady outlooks 55 36 easygoing self employed 511 medium build smoker social drinker seeking slim medium build woman happy life age open active 57 years 5 ft 8 slim build non smoker social drinker living southern suburbs enjoy healthy active lifestyle interests sports travel dining movies quiet nights home seeking affectionate slim easy going lady 57 years relationship adelaide hills good looking single aussie country guy 43 med build 5 ft 8 honest sincere likes bbqs fishing camping dining seeking genuine 30 45 lady enjoys outdoors country life adventurous 42 sensitive non smoker vegetarian slim 511 well travelled beach loving seeks earth 25 43 slim non smoker outdoor life camping walks music aged 36 single outgoing good looking short dark hair interested afl basketball cricket 10 pin bowling enjoy sanfl travelling going dinner movies nightclubs 52 tertiary educated professional woman seeks professional employed man interests theatre dining music good conversation etc 53 lady 5 ft 5 non smoker social drinker enjoy gardening music movies walking dining quiet nights home v8 motor racing easygoing honest caring person seeking gentleman 50 65 friendship view relationship attractive employed lady late 30s seeking tall 5 ft 10 attractive attractive dark haired gentleman strictly 37 41 kids working normal hours self employed living near city attractive 50 ish lady easygoing earth enjoy travelling movies dining wining weekends away seeking gent 58 65 similar interests attractive easy going intelligent slim medium build 5 ft 5 healthy living exercise daily employed responsible seeking trustworthy male 42 47 integrity good morals non smoker social drinker children ok ballroom dancing seeking dancing partner mid 60s 55 slimmish many years would like enjoy dancing must taller avoid complications like unattached city girl seeks country romance attractive 38 brunette living adelaide seeks country farmer land owner 36 45 pref clean shaven non smoker honest strong family values social outings companionship callers welcome reply love dance fun loving employed enjoy gardening bbqs dining house parties c looking fit rock n roll dance partner friendship maybe leading relationship early 60 vibrant personality good h non smoker social drinker interests include beach walks movies fishing dancing looking gent 510 plus prefer living western southern suburbs friendship view relationship easygoing 53 5ft 6 tall large build seeks good man nonsmoker social drinker single mother 15 year old boy lives ne subs feisty foxy yummy grandmummy late 40s working full time looking love laughter least 59 non smoker adventurous enough exciting travel comfortable enough watch tv secure fit fanatical bonus would love dancing garden lover hi aust lady 62 yo 5 ft 1 slim med build n interests dining movies entertain quiet nights home walks beach gardening seeks gentleman honest looking friendship maybe lead relationship seeking honest man 41 5 ft 4 med build employed fun loving lady good soh enjoy movies dining country drives quiet times seeks 35 45 honest man good soh similar interests friendship poss relation ship southern area romantic lady attractive 54 medium build loves hugs kisses special tingles click children home lover amongst things enjoy river would like meet real romantic age 50 65 woman substance 56 59 kg 50 fit n elegant articulate seeks honest sincere social n well preserved 6 prof sgle prince charming living city inner subs share future filled fun travel adventure glorious sunsets candlelight dinners fine wine romance true love yorke peninsula lady late 70s 53 pleasingly plump missing male conversation company interests luncheons cards travel indoor bowls affectionate loyal female seeks tall male 35 43 genuine relationship marriage melb subs 43yo wltm male enjoys life dining movies long drives car racing gardening travel must employed honest loving 48yo swf wltm 42 54yo genuine caring honest normal man fship poss rship gsoh photo pls tall attractive lady 40 yrs young looking male companion go dancing could light hearted dance classes experience ballroom jive lady 51 wltm swm 50 57 company fship enjoys movies dining sedate outdoor walks photo appreciated lady 63 wltm genu ine person dtoe possibly religious loves horses dogs natural food vegetarian beaches reading fish ing friendship please lady 43 well presented wltm gent dating rship likes fishing dining movies life wine n must fin secure would like meet lovely sexy lady please reply photo poss genuine replies slim well presented fem early 50s outgoing intelligent independant fitness outdoor activites sport beach music theatre movies read ing wltm n male sim int share outings poss rship swf 40yo sgl mum looking meet gen honest caring non judgemental guy 45yo must enjoy danc ing life general must comfortable photo pls gen enquiries abbreviations gsoh good sense humour soh sense humour n non drinker social drinker social smoker n non smoker ala letters answered wltm would like meet dtoe earth dont forget free advertise perfect match\n"
     ]
    }
   ],
   "source": [
    "## removing stopwords\n",
    "wordList = stopwords.words('english')\n",
    "tokenzied_list = word_tokenize(removedpunctuationsList)\n",
    "list_without_spotwords = []\n",
    "for x in tokenzied_list:\n",
    "    if x not in wordList:\n",
    "        list_without_spotwords.append(x)\n",
    "\n",
    "final_string = ' '.join(list_without_spotwords)\n",
    "print(final_string)"
   ]
  },
  {
   "cell_type": "code",
   "execution_count": 66,
   "metadata": {},
   "outputs": [
    {
     "name": "stdout",
     "output_type": "stream",
     "text": [
      "[('/', 'ship'), ('looking', 'for'), ('would', 'like'), ('.', 'o'), ('r', '/'), ('y', '.'), ('like', 'to'), ('to', 'meet'), ('5', 'ft'), ('age', 'open')]\n"
     ]
    }
   ],
   "source": [
    "from nltk.collocations import BigramCollocationFinder, TrigramCollocationFinder\n",
    "from nltk.metrics import BigramAssocMeasures, TrigramAssocMeasures\n",
    "\n",
    "\n",
    "bcf = BigramCollocationFinder.from_words(words)\n",
    "\n",
    "print(bcf.nbest(BigramAssocMeasures.likelihood_ratio,10))  # only print out 10 combination"
   ]
  },
  {
   "cell_type": "code",
   "execution_count": 76,
   "metadata": {},
   "outputs": [
    {
     "name": "stdout",
     "output_type": "stream",
     "text": [
      "[('would', 'like'), ('age', 'open'), ('medium', 'build'), ('social', 'drinker'), ('non', 'smoker'), ('quiet', 'nights'), ('long', 'term'), ('easy', 'going'), ('poss', 'rship'), ('fun', 'times')]\n"
     ]
    }
   ],
   "source": [
    "stopset = set(stopwords.words('english'))\n",
    "\n",
    "filter_stop = lambda w: len(w)<3 or w in stopset\n",
    "\n",
    "bcf.apply_word_filter(filter_stop)\n",
    "n = 2\n",
    "bcf.apply_freq_filter(n)\n",
    "print(bcf.nbest(BigramAssocMeasures.likelihood_ratio,10))"
   ]
  },
  {
   "cell_type": "code",
   "execution_count": 77,
   "metadata": {},
   "outputs": [
    {
     "name": "stdout",
     "output_type": "stream",
     "text": [
      "[('lady', 'age', 'open'), ('long', 'term', 'relationship'), ('guy', 'late', '30s'), ('seeks', 'married', 'lady'), ('fun', 'loving', 'lady'), ('married', 'male', 'seeks')]\n"
     ]
    }
   ],
   "source": [
    "tcf = TrigramCollocationFinder.from_words(words)\n",
    "tcf.apply_word_filter(filter_stop)\n",
    "tcf.apply_freq_filter(n)\n",
    "print(tcf.nbest(TrigramAssocMeasures.likelihood_ratio, 10))\n"
   ]
  },
  {
   "cell_type": "code",
   "execution_count": 69,
   "metadata": {},
   "outputs": [
    {
     "name": "stdout",
     "output_type": "stream",
     "text": [
      "0\n"
     ]
    }
   ],
   "source": [
    "print(len(re.findall('clop clop clop', output)))"
   ]
  },
  {
   "cell_type": "code",
   "execution_count": 78,
   "metadata": {},
   "outputs": [
    {
     "name": "stdout",
     "output_type": "stream",
     "text": [
      "('guy', 'late', '30s') 2\n",
      "('fun', 'loving', 'lady') 2\n",
      "('long', 'term', 'relationship') 3\n",
      "('lady', 'age', 'open') 2\n",
      "('married', 'male', 'seeks') 2\n",
      "('seeks', 'married', 'lady') 2\n"
     ]
    }
   ],
   "source": [
    "for k,v in tcf.ngram_fd.items():\n",
    "    print(k,v)"
   ]
  },
  {
   "cell_type": "code",
   "execution_count": 79,
   "metadata": {},
   "outputs": [
    {
     "name": "stdout",
     "output_type": "stream",
     "text": [
      "('fun', 'times') 7\n",
      "('age', 'open') 12\n",
      "('slim', 'build') 6\n",
      "('long', 'term') 6\n",
      "('medium', 'build') 10\n",
      "('attractive', 'lady') 5\n",
      "('would', 'like') 13\n",
      "('quiet', 'nights') 7\n",
      "('non', 'smoker') 11\n",
      "('similar', 'interests') 5\n",
      "('good', 'looking') 6\n",
      "('social', 'drinker') 9\n",
      "('seeks', 'lady') 14\n",
      "('easy', 'going') 5\n",
      "('poss', 'rship') 7\n",
      "('male', 'seeks') 6\n"
     ]
    }
   ],
   "source": [
    "for k,v in bcf.ngram_fd.items():\n",
    "    print(k,v)"
   ]
  },
  {
   "attachments": {},
   "cell_type": "markdown",
   "metadata": {},
   "source": [
    "#### ***Pointwise mutual information*** "
   ]
  },
  {
   "cell_type": "code",
   "execution_count": 72,
   "metadata": {},
   "outputs": [
    {
     "name": "stdout",
     "output_type": "stream",
     "text": [
      "(('this', 'is', 'a'), 8.339850002884624)\n",
      "(('is', 'a', 'foo'), 7.339850002884624)\n",
      "(('black', 'sheep', 'shep'), 5.754887502163468)\n",
      "(('a', 'foo', 'bar'), 4.754887502163468)\n",
      "(('black', 'sheep', 'foo'), 4.754887502163468)\n",
      "(('sheep', 'shep', 'bar'), 4.754887502163468)\n",
      "(('bar', 'black', 'sentence'), 4.169925001442312)\n",
      "(('bar', 'black', 'sheep'), 4.169925001442312)\n",
      "(('sheep', 'foo', 'bar'), 3.7548875021634682)\n",
      "(('bar', 'bar', 'black'), 3.169925001442312)\n",
      "(('foo', 'bar', 'bar'), 3.169925001442312)\n",
      "(('shep', 'bar', 'bar'), 3.169925001442312)\n"
     ]
    }
   ],
   "source": [
    "from nltk.collections import *\n",
    "text = \"this is a foo bar bar black sheep foo bar bar black sheep shep bar bar black sentence\"\n",
    "trigram_measures = nltk.collocations.TrigramAssocMeasures()\n",
    "finder = TrigramCollocationFinder.from_words(word_tokenize(text))\n",
    "for i in finder.score_ngrams(trigram_measures.pmi):\n",
    "    print(i)\n"
   ]
  },
  {
   "cell_type": "code",
   "execution_count": 73,
   "metadata": {},
   "outputs": [
    {
     "name": "stdout",
     "output_type": "stream",
     "text": [
      "(('is', 'a'), 4.169925001442312)\n",
      "(('this', 'is'), 4.169925001442312)\n",
      "(('a', 'foo'), 3.169925001442312)\n",
      "(('sheep', 'shep'), 3.169925001442312)\n",
      "(('black', 'sentence'), 2.584962500721156)\n",
      "(('black', 'sheep'), 2.584962500721156)\n",
      "(('sheep', 'foo'), 2.169925001442312)\n",
      "(('bar', 'black'), 1.584962500721156)\n",
      "(('foo', 'bar'), 1.584962500721156)\n",
      "(('shep', 'bar'), 1.584962500721156)\n",
      "(('bar', 'bar'), 0.5849625007211561)\n"
     ]
    }
   ],
   "source": [
    "from nltk.collections import *\n",
    "text = \"this is a foo bar bar black sheep foo bar bar black sheep shep bar bar black sentence\"\n",
    "biigram_measures = nltk.collocations.BigramAssocMeasures()\n",
    "finder = BigramCollocationFinder.from_words(word_tokenize(text))\n",
    "for i in finder.score_ngrams(biigram_measures.pmi):\n",
    "    print(i)\n"
   ]
  },
  {
   "attachments": {},
   "cell_type": "markdown",
   "metadata": {},
   "source": [
    "#### ***Synonym and antonym***"
   ]
  },
  {
   "cell_type": "code",
   "execution_count": 85,
   "metadata": {},
   "outputs": [
    {
     "name": "stdout",
     "output_type": "stream",
     "text": [
      "[Synset('spring.n.01'), Synset('spring.n.02'), Synset('spring.n.03'), Synset('spring.n.04'), Synset('give.n.01'), Synset('leap.n.01'), Synset('jump.v.01'), Synset('form.v.03'), Synset('bounce.v.01'), Synset('spring.v.04'), Synset('spring.v.05')]\n",
      "11\n"
     ]
    }
   ],
   "source": [
    "syn = wordnet.synsets('spring')\n",
    "print(syn)\n",
    "print(len(syn))"
   ]
  },
  {
   "cell_type": "code",
   "execution_count": 95,
   "metadata": {},
   "outputs": [
    {
     "name": "stdout",
     "output_type": "stream",
     "text": [
      "{'exam', 'tryout', 'screen', 'test', 'psychometric_test', 'quiz', 'try_out', 'essay', 'trial', 'mental_testing', 'trial_run', 'prove', 'try', 'run', 'examine', 'examination', 'mental_test'}\n",
      "------------------------------------\n",
      "set()\n"
     ]
    }
   ],
   "source": [
    "sysn = []\n",
    "antn = []\n",
    "\n",
    "input_word = input()\n",
    "\n",
    "for syn in wordnet.synsets(input_word):\n",
    "    for l in syn.lemmas():\n",
    "        sysn.append(l.name())\n",
    "        if l.antonyms():\n",
    "            antn.append(l.antonyms()[0].name())\n",
    "        \n",
    "print(set(sysn))\n",
    "print(\"------------------------------------\")\n",
    "print(set(antn))"
   ]
  },
  {
   "cell_type": "code",
   "execution_count": 129,
   "metadata": {},
   "outputs": [
    {
     "name": "stdout",
     "output_type": "stream",
     "text": [
      "sysns :  [Synset('jump.n.01'), Synset('leap.n.02'), Synset('jump.n.03'), Synset('startle.n.01'), Synset('jump.n.05'), Synset('jump.n.06'), Synset('jump.v.01'), Synset('startle.v.02'), Synset('jump.v.03'), Synset('jump.v.04'), Synset('leap_out.v.01'), Synset('jump.v.06'), Synset('rise.v.11'), Synset('jump.v.08'), Synset('derail.v.02'), Synset('chute.v.01'), Synset('jump.v.11'), Synset('jumpstart.v.01'), Synset('jump.v.13'), Synset('leap.v.02'), Synset('alternate.v.01')]\n",
      "Name:  startle.n.01\n",
      "Lemma name: leap_out\n",
      "Defination of the word :  a sudden and decisive increase\n",
      "Example of word : ['a jump in attendance']\n"
     ]
    }
   ],
   "source": [
    "syns = wordnet.synsets('jump')\n",
    "print('sysns : ', syns)\n",
    "\n",
    "print('Name: ', syns[3].name())\n",
    "\n",
    "print('Lemma name:', syns[10].lemmas()[0].name())\n",
    "\n",
    "print('Defination of the word : ', syns[0].definition())\n",
    "\n",
    "print('Example of word :', syns[0].examples())"
   ]
  },
  {
   "attachments": {},
   "cell_type": "markdown",
   "metadata": {},
   "source": [
    "#### ***Simmilarity b/w words***"
   ]
  },
  {
   "cell_type": "code",
   "execution_count": 1,
   "metadata": {},
   "outputs": [
    {
     "ename": "NameError",
     "evalue": "name 'wordnet' is not defined",
     "output_type": "error",
     "traceback": [
      "\u001b[1;31m---------------------------------------------------------------------------\u001b[0m",
      "\u001b[1;31mNameError\u001b[0m                                 Traceback (most recent call last)",
      "Cell \u001b[1;32mIn[1], line 1\u001b[0m\n\u001b[1;32m----> 1\u001b[0m w1 \u001b[39m=\u001b[39m wordnet\u001b[39m.\u001b[39msynset(\u001b[39m'\u001b[39m\u001b[39mship.n.01\u001b[39m\u001b[39m'\u001b[39m)\n\u001b[0;32m      2\u001b[0m w2 \u001b[39m=\u001b[39m wordnet\u001b[39m.\u001b[39msynset(\u001b[39m'\u001b[39m\u001b[39mmobile.n.01\u001b[39m\u001b[39m'\u001b[39m)\n\u001b[0;32m      4\u001b[0m \u001b[39mprint\u001b[39m(w1\u001b[39m.\u001b[39mwup_similarity(w2))\n",
      "\u001b[1;31mNameError\u001b[0m: name 'wordnet' is not defined"
     ]
    }
   ],
   "source": [
    "w1 = wordnet.synset('ship.n.01')\n",
    "w2 = wordnet.synset('boat.n.01')\n",
    "\n",
    "print(w1.wup_similarity(w2))\n"
   ]
  },
  {
   "attachments": {},
   "cell_type": "markdown",
   "metadata": {},
   "source": [
    "#### ***Fixing Word Lengthening***"
   ]
  },
  {
   "cell_type": "code",
   "execution_count": 144,
   "metadata": {},
   "outputs": [
    {
     "name": "stdout",
     "output_type": "stream",
     "text": [
      "heloo\n"
     ]
    }
   ],
   "source": [
    "text = 'helooo'\n",
    "\n",
    "patt = re.compile(r\"(.)\\1{2,}\")\n",
    "print(patt.sub(r\"\\1\\1\",text))\n"
   ]
  },
  {
   "cell_type": "code",
   "execution_count": 147,
   "metadata": {},
   "outputs": [
    {
     "name": "stdout",
     "output_type": "stream",
     "text": [
      "Type of pattern:  <class 're.Pattern'>\n",
      "Output from str1 : ['251', '761', '231', '451']\n",
      "Output from str2: ['111', '212', '415', '121']\n"
     ]
    }
   ],
   "source": [
    "str1 = \"Emma's luck number are 251 761 231 451\"\n",
    "\n",
    "string_pattern = r\"\\d{3}\"\n",
    "\n",
    "regex_pattern = re.compile(string_pattern)\n",
    "\n",
    "print(\"Type of pattern: \", type(regex_pattern))\n",
    "\n",
    "result = regex_pattern.findall(str1)\n",
    "\n",
    "print('Output from str1 :', result)\n",
    "\n",
    "str2 = \"Kelly's 33 luck numbers are 111 212 415 12124\"\n",
    "\n",
    "result = regex_pattern.findall(str2)\n",
    "print(\"Output from str2:\", result)"
   ]
  },
  {
   "cell_type": "code",
   "execution_count": 156,
   "metadata": {},
   "outputs": [
    {
     "name": "stdout",
     "output_type": "stream",
     "text": [
      "heloo\n"
     ]
    }
   ],
   "source": [
    "text = 'helooo'\n",
    "\n",
    "patt = re.compile(r\"(.)\\1{2,}\")\n",
    "print(patt.sub(r\"\\1\\1\",text))\n"
   ]
  },
  {
   "cell_type": "markdown",
   "metadata": {},
   "source": [
    "#### ***Spell Checker Autocorrect***"
   ]
  },
  {
   "cell_type": "code",
   "execution_count": 159,
   "metadata": {},
   "outputs": [
    {
     "name": "stdout",
     "output_type": "stream",
     "text": [
      "Message\n",
      "hello\n"
     ]
    }
   ],
   "source": [
    "spell = Speller(lang='en')\n",
    "print(spell('Mussage'))\n",
    "print(spell('helooo'))"
   ]
  }
 ],
 "metadata": {
  "kernelspec": {
   "display_name": "Python 3",
   "language": "python",
   "name": "python3"
  },
  "language_info": {
   "codemirror_mode": {
    "name": "ipython",
    "version": 3
   },
   "file_extension": ".py",
   "mimetype": "text/x-python",
   "name": "python",
   "nbconvert_exporter": "python",
   "pygments_lexer": "ipython3",
   "version": "3.10.11"
  },
  "orig_nbformat": 4
 },
 "nbformat": 4,
 "nbformat_minor": 2
}
