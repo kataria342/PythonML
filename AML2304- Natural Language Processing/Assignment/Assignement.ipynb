{
 "cells": [
  {
   "cell_type": "code",
   "execution_count": 2,
   "metadata": {},
   "outputs": [],
   "source": [
    "import pandas as pd"
   ]
  },
  {
   "cell_type": "code",
   "execution_count": 4,
   "metadata": {},
   "outputs": [],
   "source": [
    "df = pd.read_csv('reviews.csv')"
   ]
  },
  {
   "cell_type": "code",
   "execution_count": 5,
   "metadata": {},
   "outputs": [
    {
     "data": {
      "text/html": [
       "<div>\n",
       "<style scoped>\n",
       "    .dataframe tbody tr th:only-of-type {\n",
       "        vertical-align: middle;\n",
       "    }\n",
       "\n",
       "    .dataframe tbody tr th {\n",
       "        vertical-align: top;\n",
       "    }\n",
       "\n",
       "    .dataframe thead th {\n",
       "        text-align: right;\n",
       "    }\n",
       "</style>\n",
       "<table border=\"1\" class=\"dataframe\">\n",
       "  <thead>\n",
       "    <tr style=\"text-align: right;\">\n",
       "      <th></th>\n",
       "      <th>Unnamed: 0</th>\n",
       "      <th>spoilers</th>\n",
       "      <th>rating</th>\n",
       "      <th>title</th>\n",
       "      <th>user</th>\n",
       "      <th>date</th>\n",
       "      <th>content</th>\n",
       "    </tr>\n",
       "  </thead>\n",
       "  <tbody>\n",
       "    <tr>\n",
       "      <th>0</th>\n",
       "      <td>0</td>\n",
       "      <td>True</td>\n",
       "      <td>10/10</td>\n",
       "      <td>Some birds aren\\'t meant to be caged.</td>\n",
       "      <td>hitchcockthelegend</td>\n",
       "      <td>24 July 2010</td>\n",
       "      <td>The Shawshank Redemption is written and direct...</td>\n",
       "    </tr>\n",
       "    <tr>\n",
       "      <th>1</th>\n",
       "      <td>1</td>\n",
       "      <td>False</td>\n",
       "      <td>10/10</td>\n",
       "      <td>An incredible movie. One that lives with you.</td>\n",
       "      <td>Sleepin_Dragon</td>\n",
       "      <td>17 February 2021</td>\n",
       "      <td>It is no wonder that the film has such a high ...</td>\n",
       "    </tr>\n",
       "    <tr>\n",
       "      <th>2</th>\n",
       "      <td>2</td>\n",
       "      <td>False</td>\n",
       "      <td>10/10</td>\n",
       "      <td>Don\\'t Rent Shawshank.</td>\n",
       "      <td>EyeDunno</td>\n",
       "      <td>21 November 2005</td>\n",
       "      <td>I'm trying to save you money; this is the last...</td>\n",
       "    </tr>\n",
       "  </tbody>\n",
       "</table>\n",
       "</div>"
      ],
      "text/plain": [
       "   Unnamed: 0  spoilers rating                                          title  \\\n",
       "0           0      True  10/10          Some birds aren\\'t meant to be caged.   \n",
       "1           1     False  10/10  An incredible movie. One that lives with you.   \n",
       "2           2     False  10/10                         Don\\'t Rent Shawshank.   \n",
       "\n",
       "                 user              date  \\\n",
       "0  hitchcockthelegend      24 July 2010   \n",
       "1      Sleepin_Dragon  17 February 2021   \n",
       "2            EyeDunno  21 November 2005   \n",
       "\n",
       "                                             content  \n",
       "0  The Shawshank Redemption is written and direct...  \n",
       "1  It is no wonder that the film has such a high ...  \n",
       "2  I'm trying to save you money; this is the last...  "
      ]
     },
     "execution_count": 5,
     "metadata": {},
     "output_type": "execute_result"
    }
   ],
   "source": [
    "df.head(3)"
   ]
  },
  {
   "cell_type": "code",
   "execution_count": 10,
   "metadata": {},
   "outputs": [
    {
     "name": "stdout",
     "output_type": "stream",
     "text": [
      "<class 'pandas.core.frame.DataFrame'>\n",
      "RangeIndex: 2494 entries, 0 to 2493\n",
      "Data columns (total 7 columns):\n",
      " #   Column      Non-Null Count  Dtype \n",
      "---  ------      --------------  ----- \n",
      " 0   Unnamed: 0  2494 non-null   int64 \n",
      " 1   spoilers    2494 non-null   bool  \n",
      " 2   rating      2186 non-null   object\n",
      " 3   title       2494 non-null   object\n",
      " 4   user        2494 non-null   object\n",
      " 5   date        2494 non-null   object\n",
      " 6   content     2494 non-null   object\n",
      "dtypes: bool(1), int64(1), object(5)\n",
      "memory usage: 119.5+ KB\n"
     ]
    }
   ],
   "source": [
    "df.info()"
   ]
  },
  {
   "cell_type": "code",
   "execution_count": 15,
   "metadata": {},
   "outputs": [],
   "source": [
    "df.drop('Unnamed: 0', axis=1, inplace=True)"
   ]
  },
  {
   "cell_type": "code",
   "execution_count": 16,
   "metadata": {},
   "outputs": [
    {
     "name": "stdout",
     "output_type": "stream",
     "text": [
      "<class 'pandas.core.frame.DataFrame'>\n",
      "RangeIndex: 2494 entries, 0 to 2493\n",
      "Data columns (total 6 columns):\n",
      " #   Column    Non-Null Count  Dtype \n",
      "---  ------    --------------  ----- \n",
      " 0   spoilers  2494 non-null   bool  \n",
      " 1   rating    2186 non-null   object\n",
      " 2   title     2494 non-null   object\n",
      " 3   user      2494 non-null   object\n",
      " 4   date      2494 non-null   object\n",
      " 5   content   2494 non-null   object\n",
      "dtypes: bool(1), object(5)\n",
      "memory usage: 100.0+ KB\n"
     ]
    }
   ],
   "source": [
    "df.info()"
   ]
  },
  {
   "cell_type": "code",
   "execution_count": 17,
   "metadata": {},
   "outputs": [
    {
     "data": {
      "text/html": [
       "<div>\n",
       "<style scoped>\n",
       "    .dataframe tbody tr th:only-of-type {\n",
       "        vertical-align: middle;\n",
       "    }\n",
       "\n",
       "    .dataframe tbody tr th {\n",
       "        vertical-align: top;\n",
       "    }\n",
       "\n",
       "    .dataframe thead th {\n",
       "        text-align: right;\n",
       "    }\n",
       "</style>\n",
       "<table border=\"1\" class=\"dataframe\">\n",
       "  <thead>\n",
       "    <tr style=\"text-align: right;\">\n",
       "      <th></th>\n",
       "      <th>spoilers</th>\n",
       "      <th>rating</th>\n",
       "      <th>title</th>\n",
       "      <th>user</th>\n",
       "      <th>date</th>\n",
       "      <th>content</th>\n",
       "    </tr>\n",
       "  </thead>\n",
       "  <tbody>\n",
       "    <tr>\n",
       "      <th>0</th>\n",
       "      <td>True</td>\n",
       "      <td>10/10</td>\n",
       "      <td>Some birds aren\\'t meant to be caged.</td>\n",
       "      <td>hitchcockthelegend</td>\n",
       "      <td>24 July 2010</td>\n",
       "      <td>The Shawshank Redemption is written and direct...</td>\n",
       "    </tr>\n",
       "    <tr>\n",
       "      <th>1</th>\n",
       "      <td>False</td>\n",
       "      <td>10/10</td>\n",
       "      <td>An incredible movie. One that lives with you.</td>\n",
       "      <td>Sleepin_Dragon</td>\n",
       "      <td>17 February 2021</td>\n",
       "      <td>It is no wonder that the film has such a high ...</td>\n",
       "    </tr>\n",
       "    <tr>\n",
       "      <th>2</th>\n",
       "      <td>False</td>\n",
       "      <td>10/10</td>\n",
       "      <td>Don\\'t Rent Shawshank.</td>\n",
       "      <td>EyeDunno</td>\n",
       "      <td>21 November 2005</td>\n",
       "      <td>I'm trying to save you money; this is the last...</td>\n",
       "    </tr>\n",
       "  </tbody>\n",
       "</table>\n",
       "</div>"
      ],
      "text/plain": [
       "   spoilers rating                                          title  \\\n",
       "0      True  10/10          Some birds aren\\'t meant to be caged.   \n",
       "1     False  10/10  An incredible movie. One that lives with you.   \n",
       "2     False  10/10                         Don\\'t Rent Shawshank.   \n",
       "\n",
       "                 user              date  \\\n",
       "0  hitchcockthelegend      24 July 2010   \n",
       "1      Sleepin_Dragon  17 February 2021   \n",
       "2            EyeDunno  21 November 2005   \n",
       "\n",
       "                                             content  \n",
       "0  The Shawshank Redemption is written and direct...  \n",
       "1  It is no wonder that the film has such a high ...  \n",
       "2  I'm trying to save you money; this is the last...  "
      ]
     },
     "execution_count": 17,
     "metadata": {},
     "output_type": "execute_result"
    }
   ],
   "source": [
    "df.head(3)"
   ]
  },
  {
   "cell_type": "code",
   "execution_count": 25,
   "metadata": {},
   "outputs": [
    {
     "data": {
      "text/plain": [
       "1392"
      ]
     },
     "execution_count": 25,
     "metadata": {},
     "output_type": "execute_result"
    }
   ],
   "source": [
    "#df['user'].value_counts()\n",
    "df['user'].nunique()"
   ]
  },
  {
   "cell_type": "code",
   "execution_count": null,
   "metadata": {},
   "outputs": [],
   "source": []
  }
 ],
 "metadata": {
  "kernelspec": {
   "display_name": "Python 3",
   "language": "python",
   "name": "python3"
  },
  "language_info": {
   "codemirror_mode": {
    "name": "ipython",
    "version": 3
   },
   "file_extension": ".py",
   "mimetype": "text/x-python",
   "name": "python",
   "nbconvert_exporter": "python",
   "pygments_lexer": "ipython3",
   "version": "3.10.11"
  },
  "orig_nbformat": 4
 },
 "nbformat": 4,
 "nbformat_minor": 2
}
