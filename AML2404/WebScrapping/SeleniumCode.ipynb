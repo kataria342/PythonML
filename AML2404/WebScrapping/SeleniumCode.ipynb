{
 "cells": [
  {
   "cell_type": "code",
   "execution_count": 5,
   "metadata": {},
   "outputs": [],
   "source": [
    "from selenium import webdriver\n",
    "from selenium.webdriver.common.by import By"
   ]
  },
  {
   "cell_type": "code",
   "execution_count": 17,
   "metadata": {},
   "outputs": [
    {
     "ename": "NoSuchElementException",
     "evalue": "Message: no such element: Unable to locate element: {\"method\":\"xpath\",\"selector\":\"//*[@id='react-autowhatever-navSuggestionSearch--item-0']/a\"}\n  (Session info: chrome=113.0.5672.94)\nStacktrace:\nBacktrace:\n\tGetHandleVerifier [0x00CD8893+48451]\n\t(No symbol) [0x00C6B8A1]\n\t(No symbol) [0x00B75058]\n\t(No symbol) [0x00BA0467]\n\t(No symbol) [0x00BA069B]\n\t(No symbol) [0x00BCDD92]\n\t(No symbol) [0x00BBA304]\n\t(No symbol) [0x00BCC482]\n\t(No symbol) [0x00BBA0B6]\n\t(No symbol) [0x00B97E08]\n\t(No symbol) [0x00B98F2D]\n\tGetHandleVerifier [0x00F38E3A+2540266]\n\tGetHandleVerifier [0x00F78959+2801161]\n\tGetHandleVerifier [0x00F7295C+2776588]\n\tGetHandleVerifier [0x00D62280+612144]\n\t(No symbol) [0x00C74F6C]\n\t(No symbol) [0x00C711D8]\n\t(No symbol) [0x00C712BB]\n\t(No symbol) [0x00C64857]\n\tBaseThreadInitThunk [0x75147D59+25]\n\tRtlInitializeExceptionChain [0x7748B74B+107]\n\tRtlClearBits [0x7748B6CF+191]\n",
     "output_type": "error",
     "traceback": [
      "\u001b[1;31m---------------------------------------------------------------------------\u001b[0m",
      "\u001b[1;31mNoSuchElementException\u001b[0m                    Traceback (most recent call last)",
      "Cell \u001b[1;32mIn[17], line 6\u001b[0m\n\u001b[0;32m      3\u001b[0m search_field \u001b[39m=\u001b[39m driver\u001b[39m.\u001b[39mfind_element(By\u001b[39m.\u001b[39mID,\u001b[39m\"\u001b[39m\u001b[39msuggestion-search\u001b[39m\u001b[39m\"\u001b[39m)\n\u001b[0;32m      4\u001b[0m search_field\u001b[39m.\u001b[39msend_keys(\u001b[39m'\u001b[39m\u001b[39mEmma Watson\u001b[39m\u001b[39m'\u001b[39m)\n\u001b[1;32m----> 6\u001b[0m driver\u001b[39m.\u001b[39;49mfind_element(By\u001b[39m.\u001b[39;49mXPATH, \u001b[39m\"\u001b[39;49m\u001b[39m//*[@id=\u001b[39;49m\u001b[39m'\u001b[39;49m\u001b[39mreact-autowhatever-navSuggestionSearch--item-0\u001b[39;49m\u001b[39m'\u001b[39;49m\u001b[39m]/a\u001b[39;49m\u001b[39m\"\u001b[39;49m)\u001b[39m.\u001b[39mclick()\n\u001b[0;32m      7\u001b[0m \u001b[39m# driver.find_element(By.CLASS_NAME, \"ipc-responsive-button__text\").click()\u001b[39;00m\n\u001b[0;32m      8\u001b[0m \u001b[39m# driver.find_element(By.XPATH,\"//*[@id='imdbHeader']/div[2]/aside/div/div[2]/div/div[4]/span/div/div/ul/a[3]\").click()\u001b[39;00m\n",
      "File \u001b[1;32m~\\AppData\\Local\\Packages\\PythonSoftwareFoundation.Python.3.10_qbz5n2kfra8p0\\LocalCache\\local-packages\\Python310\\site-packages\\selenium\\webdriver\\remote\\webdriver.py:831\u001b[0m, in \u001b[0;36mWebDriver.find_element\u001b[1;34m(self, by, value)\u001b[0m\n\u001b[0;32m    828\u001b[0m     by \u001b[39m=\u001b[39m By\u001b[39m.\u001b[39mCSS_SELECTOR\n\u001b[0;32m    829\u001b[0m     value \u001b[39m=\u001b[39m \u001b[39mf\u001b[39m\u001b[39m'\u001b[39m\u001b[39m[name=\u001b[39m\u001b[39m\"\u001b[39m\u001b[39m{\u001b[39;00mvalue\u001b[39m}\u001b[39;00m\u001b[39m\"\u001b[39m\u001b[39m]\u001b[39m\u001b[39m'\u001b[39m\n\u001b[1;32m--> 831\u001b[0m \u001b[39mreturn\u001b[39;00m \u001b[39mself\u001b[39;49m\u001b[39m.\u001b[39;49mexecute(Command\u001b[39m.\u001b[39;49mFIND_ELEMENT, {\u001b[39m\"\u001b[39;49m\u001b[39musing\u001b[39;49m\u001b[39m\"\u001b[39;49m: by, \u001b[39m\"\u001b[39;49m\u001b[39mvalue\u001b[39;49m\u001b[39m\"\u001b[39;49m: value})[\u001b[39m\"\u001b[39m\u001b[39mvalue\u001b[39m\u001b[39m\"\u001b[39m]\n",
      "File \u001b[1;32m~\\AppData\\Local\\Packages\\PythonSoftwareFoundation.Python.3.10_qbz5n2kfra8p0\\LocalCache\\local-packages\\Python310\\site-packages\\selenium\\webdriver\\remote\\webdriver.py:440\u001b[0m, in \u001b[0;36mWebDriver.execute\u001b[1;34m(self, driver_command, params)\u001b[0m\n\u001b[0;32m    438\u001b[0m response \u001b[39m=\u001b[39m \u001b[39mself\u001b[39m\u001b[39m.\u001b[39mcommand_executor\u001b[39m.\u001b[39mexecute(driver_command, params)\n\u001b[0;32m    439\u001b[0m \u001b[39mif\u001b[39;00m response:\n\u001b[1;32m--> 440\u001b[0m     \u001b[39mself\u001b[39;49m\u001b[39m.\u001b[39;49merror_handler\u001b[39m.\u001b[39;49mcheck_response(response)\n\u001b[0;32m    441\u001b[0m     response[\u001b[39m\"\u001b[39m\u001b[39mvalue\u001b[39m\u001b[39m\"\u001b[39m] \u001b[39m=\u001b[39m \u001b[39mself\u001b[39m\u001b[39m.\u001b[39m_unwrap_value(response\u001b[39m.\u001b[39mget(\u001b[39m\"\u001b[39m\u001b[39mvalue\u001b[39m\u001b[39m\"\u001b[39m, \u001b[39mNone\u001b[39;00m))\n\u001b[0;32m    442\u001b[0m     \u001b[39mreturn\u001b[39;00m response\n",
      "File \u001b[1;32m~\\AppData\\Local\\Packages\\PythonSoftwareFoundation.Python.3.10_qbz5n2kfra8p0\\LocalCache\\local-packages\\Python310\\site-packages\\selenium\\webdriver\\remote\\errorhandler.py:245\u001b[0m, in \u001b[0;36mErrorHandler.check_response\u001b[1;34m(self, response)\u001b[0m\n\u001b[0;32m    243\u001b[0m         alert_text \u001b[39m=\u001b[39m value[\u001b[39m\"\u001b[39m\u001b[39malert\u001b[39m\u001b[39m\"\u001b[39m]\u001b[39m.\u001b[39mget(\u001b[39m\"\u001b[39m\u001b[39mtext\u001b[39m\u001b[39m\"\u001b[39m)\n\u001b[0;32m    244\u001b[0m     \u001b[39mraise\u001b[39;00m exception_class(message, screen, stacktrace, alert_text)  \u001b[39m# type: ignore[call-arg]  # mypy is not smart enough here\u001b[39;00m\n\u001b[1;32m--> 245\u001b[0m \u001b[39mraise\u001b[39;00m exception_class(message, screen, stacktrace)\n",
      "\u001b[1;31mNoSuchElementException\u001b[0m: Message: no such element: Unable to locate element: {\"method\":\"xpath\",\"selector\":\"//*[@id='react-autowhatever-navSuggestionSearch--item-0']/a\"}\n  (Session info: chrome=113.0.5672.94)\nStacktrace:\nBacktrace:\n\tGetHandleVerifier [0x00CD8893+48451]\n\t(No symbol) [0x00C6B8A1]\n\t(No symbol) [0x00B75058]\n\t(No symbol) [0x00BA0467]\n\t(No symbol) [0x00BA069B]\n\t(No symbol) [0x00BCDD92]\n\t(No symbol) [0x00BBA304]\n\t(No symbol) [0x00BCC482]\n\t(No symbol) [0x00BBA0B6]\n\t(No symbol) [0x00B97E08]\n\t(No symbol) [0x00B98F2D]\n\tGetHandleVerifier [0x00F38E3A+2540266]\n\tGetHandleVerifier [0x00F78959+2801161]\n\tGetHandleVerifier [0x00F7295C+2776588]\n\tGetHandleVerifier [0x00D62280+612144]\n\t(No symbol) [0x00C74F6C]\n\t(No symbol) [0x00C711D8]\n\t(No symbol) [0x00C712BB]\n\t(No symbol) [0x00C64857]\n\tBaseThreadInitThunk [0x75147D59+25]\n\tRtlInitializeExceptionChain [0x7748B74B+107]\n\tRtlClearBits [0x7748B6CF+191]\n"
     ]
    }
   ],
   "source": [
    "\n",
    "driver = webdriver.Chrome('chromedriver')\n",
    "driver.get('https://www.imdb.com/')\n",
    "search_field = driver.find_element(By.ID,\"suggestion-search\")\n",
    "search_field.send_keys('Emma Watson')\n",
    "\n",
    "driver.find_element(By.XPATH, \"//*[@id='react-autowhatever-navSuggestionSearch--item-0']/a\").click()\n",
    "# driver.find_element(By.CLASS_NAME, \"ipc-responsive-button__text\").click()\n",
    "# driver.find_element(By.XPATH,\"//*[@id='imdbHeader']/div[2]/aside/div/div[2]/div/div[4]/span/div/div/ul/a[3]\").click()"
   ]
  },
  {
   "cell_type": "code",
   "execution_count": null,
   "metadata": {},
   "outputs": [],
   "source": []
  }
 ],
 "metadata": {
  "kernelspec": {
   "display_name": "Python 3",
   "language": "python",
   "name": "python3"
  },
  "language_info": {
   "codemirror_mode": {
    "name": "ipython",
    "version": 3
   },
   "file_extension": ".py",
   "mimetype": "text/x-python",
   "name": "python",
   "nbconvert_exporter": "python",
   "pygments_lexer": "ipython3",
   "version": "3.10.11"
  },
  "orig_nbformat": 4
 },
 "nbformat": 4,
 "nbformat_minor": 2
}
