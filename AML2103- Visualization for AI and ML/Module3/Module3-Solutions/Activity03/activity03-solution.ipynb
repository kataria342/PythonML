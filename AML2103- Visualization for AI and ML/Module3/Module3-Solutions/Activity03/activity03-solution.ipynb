{
 "cells": [
  {
   "cell_type": "markdown",
   "metadata": {},
   "source": [
    "## Activity 03: Filtering, Sorting, and Reshaping"
   ]
  },
  {
   "cell_type": "markdown",
   "metadata": {},
   "source": [
    "Following up on the last activity, we are asked to deliver some more complex operations.   \n",
    "We will, therefore, continue to work with the same dataset, our `normal_distribution.csv`."
   ]
  },
  {
   "cell_type": "markdown",
   "metadata": {},
   "source": [
    "#### Loading the dataset"
   ]
  },
  {
   "cell_type": "code",
   "execution_count": 4,
   "metadata": {},
   "outputs": [],
   "source": [
    "# importing the necessary dependencies\n",
    "import numpy as np"
   ]
  },
  {
   "cell_type": "code",
   "execution_count": 5,
   "metadata": {},
   "outputs": [],
   "source": [
    "# loading the Dataset\n",
    "dataset = np.genfromtxt('./data/normal_distribution.csv', delimiter=',')"
   ]
  },
  {
   "cell_type": "code",
   "execution_count": 6,
   "metadata": {},
   "outputs": [
    {
     "data": {
      "text/plain": [
       "array([[ 99.14931546, 104.03852715, 107.43534677,  97.85230675,\n",
       "         98.74986914,  98.80833412,  96.81964892,  98.56783189,\n",
       "        101.34745901],\n",
       "       [ 92.02628776,  97.10439252,  99.32066924,  97.24584816,\n",
       "         92.9267508 ,  92.65657752, 105.7197853 , 101.23162942,\n",
       "         93.87155456],\n",
       "       [ 95.66253664,  95.17750125,  90.93318132, 110.18889465,\n",
       "         98.80084371, 105.95297652,  98.37481387, 106.54654286,\n",
       "        107.22482426],\n",
       "       [ 91.37294597, 100.96781394, 100.40118279, 113.42090475,\n",
       "        105.48508838,  91.6604946 , 106.1472841 ,  95.08715803,\n",
       "        103.40412146],\n",
       "       [101.20862522, 103.5730309 , 100.28690912, 105.85269352,\n",
       "         93.37126331, 108.57980357, 100.79478953,  94.20019732,\n",
       "         96.10020311],\n",
       "       [102.80387079,  98.29687616,  93.24376389,  97.24130034,\n",
       "         89.03452725,  96.2832753 , 104.60344836, 101.13442416,\n",
       "         97.62787811],\n",
       "       [106.71751618, 102.97585605,  98.45723272, 100.72418901,\n",
       "        106.39798503,  95.46493436,  94.35373179, 106.83273763,\n",
       "        100.07721494],\n",
       "       [ 96.02548256, 102.82360856, 106.47551845, 101.34745901,\n",
       "        102.45651798,  98.74767493,  97.57544275,  92.5748759 ,\n",
       "         91.37294597],\n",
       "       [105.30350449,  92.87730812, 103.19258339, 104.40518318,\n",
       "        101.29326772, 100.85447132, 101.2226037 , 106.03868807,\n",
       "         97.85230675],\n",
       "       [110.44484313,  93.87155456, 101.5363647 ,  97.65393524,\n",
       "         92.75048583, 101.72074646,  96.96851209, 103.29147111,\n",
       "         99.14931546],\n",
       "       [101.3514185 , 100.37372248, 106.6471081 , 100.61742813,\n",
       "        105.0320535 ,  99.35999981,  98.87007532,  95.85284217,\n",
       "         93.97853495],\n",
       "       [ 97.21315663, 107.02874163, 102.17642112,  96.74630281,\n",
       "         95.93799169, 102.62384733, 105.07475277,  97.59572169,\n",
       "        106.57364584],\n",
       "       [ 95.65982034, 107.22482426, 107.19119932, 102.93039474,\n",
       "         85.98839623,  95.19184343,  91.32093303, 102.35313953,\n",
       "        100.39303522],\n",
       "       [100.39303522,  92.0108226 ,  97.75887636,  93.18884302,\n",
       "        100.44940274, 108.09423367,  96.50342927,  99.58664719,\n",
       "         95.19184343],\n",
       "       [103.1521596 , 109.40523174,  93.83969256,  99.95827854,\n",
       "        101.83462816,  99.69982772, 103.05289628, 103.93383957,\n",
       "        104.15899829],\n",
       "       [106.11454989,  88.80221141,  94.5081787 ,  94.59300658,\n",
       "        101.08830521,  96.34622848,  96.89244283,  98.07122664,\n",
       "        100.28690912],\n",
       "       [ 96.78266211,  99.84251605, 104.03478031, 106.57052697,\n",
       "        105.13668343, 105.37011896,  99.07551254, 104.15899829,\n",
       "         98.75108352],\n",
       "       [101.86186193, 103.61720152,  99.57859892,  99.4889538 ,\n",
       "        103.05541444,  98.65912661,  98.72774132, 104.70526438,\n",
       "        110.44484313],\n",
       "       [ 97.49594839,  96.59385486, 104.63817694, 102.55198606,\n",
       "        105.86078488,  96.5937781 ,  93.04610867,  99.92159953,\n",
       "        100.96781394],\n",
       "       [ 96.76814836,  91.6779221 , 101.79132774, 101.20773355,\n",
       "         98.29243952, 101.83845792,  97.94046856, 102.20618501,\n",
       "         91.37294597],\n",
       "       [106.89005002, 106.57364584, 102.26648279, 107.40064604,\n",
       "         99.94318168, 103.40412146, 106.38276709,  98.00253006,\n",
       "         97.10439252],\n",
       "       [ 99.80873105, 101.63973121, 106.46476468, 110.43976681,\n",
       "        100.69156231,  99.99579473, 101.32113654,  94.76253572,\n",
       "         97.24130034],\n",
       "       [ 96.10020311,  94.57421727, 100.80409326, 105.02389857,\n",
       "         98.61325194,  95.62359311,  97.99762409, 103.83852459,\n",
       "        101.2226037 ],\n",
       "       [ 94.11176915,  99.62387832, 104.51786419,  97.62787811,\n",
       "         93.97853495,  98.75108352, 106.05042487, 100.07721494,\n",
       "        106.89005002]])"
      ]
     },
     "execution_count": 6,
     "metadata": {},
     "output_type": "execute_result"
    }
   ],
   "source": [
    "dataset"
   ]
  },
  {
   "cell_type": "markdown",
   "metadata": {},
   "source": [
    "---"
   ]
  },
  {
   "cell_type": "markdown",
   "metadata": {},
   "source": [
    "#### Filtering"
   ]
  },
  {
   "cell_type": "markdown",
   "metadata": {},
   "source": [
    "To get better insights into our dataset, we want to only look at the value that fulfills certain conditions.   \n",
    "Our client reaches out to us and asks us to provide lists of values that fulfills these conditions:\n",
    "- all values greater than 105 (>105)\n",
    "- all values that are between 90 and 95 (>90 and <95)\n",
    "- the indices of all values that have a delta of less than 1 to 100 (x-100 < 1)"
   ]
  },
  {
   "cell_type": "code",
   "execution_count": 10,
   "metadata": {},
   "outputs": [],
   "source": [
    "# values that are greater than 105\n",
    "vals_greater_five = dataset[dataset > 105]"
   ]
  },
  {
   "cell_type": "code",
   "execution_count": 11,
   "metadata": {},
   "outputs": [
    {
     "data": {
      "text/plain": [
       "array([92.02628776, 92.9267508 , 92.65657752, 93.87155456, 90.93318132,\n",
       "       91.37294597, 91.6604946 , 93.37126331, 94.20019732, 93.24376389,\n",
       "       94.35373179, 92.5748759 , 91.37294597, 92.87730812, 93.87155456,\n",
       "       92.75048583, 93.97853495, 91.32093303, 92.0108226 , 93.18884302,\n",
       "       93.83969256, 94.5081787 , 94.59300658, 93.04610867, 91.6779221 ,\n",
       "       91.37294597, 94.76253572, 94.57421727, 94.11176915, 93.97853495])"
      ]
     },
     "execution_count": 11,
     "metadata": {},
     "output_type": "execute_result"
    }
   ],
   "source": [
    "# values that are between 90 and 95\n",
    "vals_between_90_95 = np.extract((dataset > 90) & (dataset < 95), dataset)\n",
    "vals_between_90_95"
   ]
  },
  {
   "cell_type": "markdown",
   "metadata": {},
   "source": [
    "> **Note:**    \n",
    "Conditional filtering can be done either using the brackets syntax or NumPys `extract` method"
   ]
  },
  {
   "cell_type": "code",
   "execution_count": 14,
   "metadata": {},
   "outputs": [
    {
     "data": {
      "text/plain": [
       "[[0, 0],\n",
       " [1, 2],\n",
       " [3, 1],\n",
       " [3, 2],\n",
       " [4, 2],\n",
       " [4, 6],\n",
       " [6, 3],\n",
       " [6, 8],\n",
       " [8, 5],\n",
       " [9, 8],\n",
       " [10, 1],\n",
       " [10, 3],\n",
       " [10, 5],\n",
       " [12, 8],\n",
       " [13, 0],\n",
       " [13, 4],\n",
       " [13, 7],\n",
       " [14, 3],\n",
       " [14, 5],\n",
       " [15, 8],\n",
       " [16, 1],\n",
       " [16, 6],\n",
       " [17, 2],\n",
       " [17, 3],\n",
       " [18, 7],\n",
       " [18, 8],\n",
       " [20, 4],\n",
       " [21, 0],\n",
       " [21, 4],\n",
       " [21, 5],\n",
       " [22, 2],\n",
       " [23, 1],\n",
       " [23, 7]]"
      ]
     },
     "execution_count": 14,
     "metadata": {},
     "output_type": "execute_result"
    }
   ],
   "source": [
    "# indices of values that have a delta of less than 1 to 100\n",
    "rows, cols = np.where(abs(dataset - 100) < 1)\n",
    "\n",
    "one_away_indices = [[rows[index], cols[index]] for (index, _) in np.ndenumerate(rows)]\n",
    "one_away_indices"
   ]
  },
  {
   "cell_type": "markdown",
   "metadata": {},
   "source": [
    "---"
   ]
  },
  {
   "cell_type": "markdown",
   "metadata": {},
   "source": [
    "#### Sorting"
   ]
  },
  {
   "cell_type": "markdown",
   "metadata": {},
   "source": [
    "They also want to experiment with some more plotting techniques so they ask you to also deliver these datasets:\n",
    "- values sorted in ascending order for each row\n",
    "- values sorted in ascending order for each column\n",
    "- the matrix of indices indicating the position in a sorted list of each value   \n",
    "```\n",
    "[3, 1, 2, 5, 4]  =>  [1, 2, 0, 4, 3]\n",
    "```"
   ]
  },
  {
   "cell_type": "code",
   "execution_count": 83,
   "metadata": {},
   "outputs": [],
   "source": [
    "# values sorted for each row\n",
    "row_sorted = np.sort(dataset)"
   ]
  },
  {
   "cell_type": "markdown",
   "metadata": {},
   "source": [
    "> **Note:**   \n",
    "By default, sorting will always be done along the last axis. In our case this is 1, leading to each row being sorted."
   ]
  },
  {
   "cell_type": "code",
   "execution_count": 84,
   "metadata": {},
   "outputs": [],
   "source": [
    "# values sorted for each column\n",
    "col_sorted = np.sort(dataset, axis=0)"
   ]
  },
  {
   "cell_type": "code",
   "execution_count": 87,
   "metadata": {},
   "outputs": [],
   "source": [
    "# indices of positions for each row\n",
    "index_sorted = np.argsort(dataset)"
   ]
  },
  {
   "cell_type": "markdown",
   "metadata": {},
   "source": [
    "---"
   ]
  },
  {
   "cell_type": "markdown",
   "metadata": {},
   "source": [
    "#### Combining"
   ]
  },
  {
   "cell_type": "markdown",
   "metadata": {},
   "source": [
    "After finishing their visualization and doing ask you to deliver a way they can incrementally add the split parts of the dataset to make sure it works with every subset, too.   \n",
    "They want you to send them examples for:\n",
    "- adding the second half of the first column\n",
    "- adding the second column\n",
    "- adding the third and last separate column\n"
   ]
  },
  {
   "cell_type": "code",
   "execution_count": 80,
   "metadata": {},
   "outputs": [
    {
     "data": {
      "text/plain": [
       "array([[ 99.14931546, 104.03852715, 107.43534677],\n",
       "       [ 92.02628776,  97.10439252,  99.32066924],\n",
       "       [ 95.66253664,  95.17750125,  90.93318132],\n",
       "       [ 91.37294597, 100.96781394, 100.40118279],\n",
       "       [101.20862522, 103.5730309 , 100.28690912],\n",
       "       [102.80387079,  98.29687616,  93.24376389],\n",
       "       [106.71751618, 102.97585605,  98.45723272],\n",
       "       [ 96.02548256, 102.82360856, 106.47551845],\n",
       "       [105.30350449,  92.87730812, 103.19258339],\n",
       "       [110.44484313,  93.87155456, 101.5363647 ],\n",
       "       [101.3514185 , 100.37372248, 106.6471081 ],\n",
       "       [ 97.21315663, 107.02874163, 102.17642112]])"
      ]
     },
     "execution_count": 80,
     "metadata": {},
     "output_type": "execute_result"
    }
   ],
   "source": [
    "# split up dataset from activity03\n",
    "thirds = np.hsplit(dataset, (3))\n",
    "halfed_first = np.vsplit(thirds[0], (2))\n",
    "\n",
    "# this is the part we've sent the client in activity03\n",
    "halfed_first[0]"
   ]
  },
  {
   "cell_type": "code",
   "execution_count": 70,
   "metadata": {},
   "outputs": [],
   "source": [
    "# adding the second half of the first column to the data\n",
    "first_col = np.vstack([halfed_first[0], halfed_first[1]])"
   ]
  },
  {
   "cell_type": "code",
   "execution_count": 78,
   "metadata": {},
   "outputs": [],
   "source": [
    "# adding the second column to our combined dataset\n",
    "first_second_col = np.hstack([first_col, thirds[1]])"
   ]
  },
  {
   "cell_type": "code",
   "execution_count": 79,
   "metadata": {},
   "outputs": [],
   "source": [
    "# adding the third column to our combined dataset\n",
    "full_data = np.hstack([first_second_col, thirds[2]])"
   ]
  },
  {
   "cell_type": "markdown",
   "metadata": {},
   "source": [
    "> **Note:**    \n",
    "The same results can be achieved with `np.concatenate` and `np.stack`.    \n",
    "For both methods, you need to provide the axis onto which it should be appended.   \n",
    "Depending on your preferences you might want to use those."
   ]
  },
  {
   "cell_type": "markdown",
   "metadata": {},
   "source": [
    "---"
   ]
  },
  {
   "cell_type": "markdown",
   "metadata": {},
   "source": [
    "#### Reshaping"
   ]
  },
  {
   "cell_type": "markdown",
   "metadata": {},
   "source": [
    "For their internal AI algorithms, they need the dataset in a reshaped manner that reduces the number of columns.   \n",
    "They asked us to deliver the whole dataset in the following shapes:\n",
    "- reshaped in a one-dimensional list with all values\n",
    "- reshaped in a matrix with only 2 columns"
   ]
  },
  {
   "cell_type": "code",
   "execution_count": 125,
   "metadata": {},
   "outputs": [],
   "source": [
    "# reshaping to a list of values\n",
    "single_list = np.reshape(dataset, (1, -1))"
   ]
  },
  {
   "cell_type": "code",
   "execution_count": 126,
   "metadata": {},
   "outputs": [],
   "source": [
    "# reshaping to a matrix with two columns\n",
    "two_col_dataset = dataset.reshape(-1, 2)"
   ]
  },
  {
   "cell_type": "markdown",
   "metadata": {},
   "source": [
    "> **Note:**   \n",
    "-1 in the dimension definition means that it figures out the other dimension on its own"
   ]
  },
  {
   "cell_type": "code",
   "execution_count": 3,
   "metadata": {},
   "outputs": [
    {
     "data": {
      "image/png": "[encoded data removed]",
      "text/plain": [
       "<Figure size 640x480 with 1 Axes>"
      ]
     },
     "metadata": {},
     "output_type": "display_data"
    }
   ],
   "source": [
    "import matplotlib.pyplot as plt\n",
    "plt.plot(5,2)\n",
    "plt.show()"
   ]
  },
  {
   "cell_type": "code",
   "execution_count": null,
   "metadata": {},
   "outputs": [],
   "source": []
  }
 ],
 "metadata": {
  "kernelspec": {
   "display_name": "Python 3",
   "language": "python",
   "name": "python3"
  },
  "language_info": {
   "codemirror_mode": {
    "name": "ipython",
    "version": 3
   },
   "file_extension": ".py",
   "mimetype": "text/x-python",
   "name": "python",
   "nbconvert_exporter": "python",
   "pygments_lexer": "ipython3",
   "version": "3.10.11"
  }
 },
 "nbformat": 4,
 "nbformat_minor": 2
}
