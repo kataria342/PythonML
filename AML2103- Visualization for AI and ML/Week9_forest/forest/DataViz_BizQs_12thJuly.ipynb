{
 "cells": [
  {
   "cell_type": "code",
   "execution_count": 1,
   "id": "046c7fa6",
   "metadata": {},
   "outputs": [],
   "source": [
    "# Import needed libraries. Load the DF. "
   ]
  },
  {
   "cell_type": "code",
   "execution_count": 2,
   "id": "a8597e42",
   "metadata": {},
   "outputs": [],
   "source": [
    "import pandas as pd\n",
    "import numpy as np\n",
    "import matplotlib.pyplot as plt\n",
    "import seaborn as sns"
   ]
  },
  {
   "cell_type": "code",
   "execution_count": 3,
   "id": "44565454",
   "metadata": {},
   "outputs": [
    {
     "name": "stderr",
     "output_type": "stream",
     "text": [
      "C:\\Users\\prabh\\AppData\\Local\\Temp\\ipykernel_6868\\292825117.py:1: DtypeWarning: Columns (7) have mixed types. Specify dtype option on import or set low_memory=False.\n",
      "  df = pd.read_csv(r\"C:\\Users\\prabh\\OneDrive\\Documents\\Lambton\\Semester 2\\Visualization for AI and ML\\Week9_forest\\forest\\fires.csv\")\n"
     ]
    }
   ],
   "source": [
    "df = pd.read_csv(r\"C:\\Users\\prabh\\OneDrive\\Documents\\Lambton\\Semester 2\\Visualization for AI and ML\\Week9_forest\\forest\\fires.csv\")"
   ]
  },
  {
   "cell_type": "markdown",
   "id": "4ab0e9b1",
   "metadata": {},
   "source": [
    "#### (I) Explore the data:\n",
    "\n",
    "\n",
    "\n"
   ]
  },
  {
   "cell_type": "markdown",
   "id": "cb12a679",
   "metadata": {},
   "source": [
    "Q1. Find the dimensions of the DF. Make the colnames lowercase."
   ]
  },
  {
   "cell_type": "code",
   "execution_count": 4,
   "id": "0a6f2e79",
   "metadata": {},
   "outputs": [
    {
     "data": {
      "text/plain": [
       "(1880465, 8)"
      ]
     },
     "execution_count": 4,
     "metadata": {},
     "output_type": "execute_result"
    }
   ],
   "source": [
    "df.shape"
   ]
  },
  {
   "cell_type": "code",
   "execution_count": 5,
   "id": "0599ffb3",
   "metadata": {},
   "outputs": [
    {
     "data": {
      "text/plain": [
       "Index(['fire_name', 'fire_size', 'state', 'latitude', 'longitude', 'fire_year',\n",
       "       'discovery_date', 'contain_date'],\n",
       "      dtype='object')"
      ]
     },
     "execution_count": 5,
     "metadata": {},
     "output_type": "execute_result"
    }
   ],
   "source": [
    "columns = df.columns\n",
    "columns\n",
    "df.columns = [col.lower() for col in columns ]\n",
    "df.columns"
   ]
  },
  {
   "cell_type": "markdown",
   "id": "16322ec5",
   "metadata": {},
   "source": [
    "Q2. Rename the column `fire_size` to `acres_burned`."
   ]
  },
  {
   "cell_type": "code",
   "execution_count": 6,
   "id": "2d71998e",
   "metadata": {},
   "outputs": [],
   "source": [
    "df.rename(columns={'fire_size':'acres_burned'}, inplace=True)"
   ]
  },
  {
   "cell_type": "markdown",
   "id": "344bbe7d",
   "metadata": {},
   "source": [
    "Q3. Convert the data in the `fire_name` column such that the data starts with a capital letter. (ie `PIGEON` -> `Pigeon`)"
   ]
  },
  {
   "cell_type": "code",
   "execution_count": 7,
   "id": "c2fdae0e",
   "metadata": {},
   "outputs": [
    {
     "data": {
      "text/html": [
       "<div>\n",
       "<style scoped>\n",
       "    .dataframe tbody tr th:only-of-type {\n",
       "        vertical-align: middle;\n",
       "    }\n",
       "\n",
       "    .dataframe tbody tr th {\n",
       "        vertical-align: top;\n",
       "    }\n",
       "\n",
       "    .dataframe thead th {\n",
       "        text-align: right;\n",
       "    }\n",
       "</style>\n",
       "<table border=\"1\" class=\"dataframe\">\n",
       "  <thead>\n",
       "    <tr style=\"text-align: right;\">\n",
       "      <th></th>\n",
       "      <th>fire_name</th>\n",
       "      <th>acres_burned</th>\n",
       "      <th>state</th>\n",
       "      <th>latitude</th>\n",
       "      <th>longitude</th>\n",
       "      <th>fire_year</th>\n",
       "      <th>discovery_date</th>\n",
       "      <th>contain_date</th>\n",
       "    </tr>\n",
       "  </thead>\n",
       "  <tbody>\n",
       "    <tr>\n",
       "      <th>0</th>\n",
       "      <td>Fountain</td>\n",
       "      <td>0.10</td>\n",
       "      <td>CA</td>\n",
       "      <td>40.036944</td>\n",
       "      <td>-121.005833</td>\n",
       "      <td>2005</td>\n",
       "      <td>2005-02-02 00:00:00</td>\n",
       "      <td>2005-02-02 00:00:00</td>\n",
       "    </tr>\n",
       "    <tr>\n",
       "      <th>1</th>\n",
       "      <td>Pigeon</td>\n",
       "      <td>0.25</td>\n",
       "      <td>CA</td>\n",
       "      <td>38.933056</td>\n",
       "      <td>-120.404444</td>\n",
       "      <td>2004</td>\n",
       "      <td>2004-05-12 00:00:00</td>\n",
       "      <td>2004-05-12 00:00:00</td>\n",
       "    </tr>\n",
       "  </tbody>\n",
       "</table>\n",
       "</div>"
      ],
      "text/plain": [
       "  fire_name  acres_burned state   latitude   longitude  fire_year  \\\n",
       "0  Fountain          0.10    CA  40.036944 -121.005833       2005   \n",
       "1    Pigeon          0.25    CA  38.933056 -120.404444       2004   \n",
       "\n",
       "        discovery_date         contain_date  \n",
       "0  2005-02-02 00:00:00  2005-02-02 00:00:00  \n",
       "1  2004-05-12 00:00:00  2004-05-12 00:00:00  "
      ]
     },
     "execution_count": 7,
     "metadata": {},
     "output_type": "execute_result"
    }
   ],
   "source": [
    "values = df['fire_name'].to_numpy()\n",
    "strValues = [str(name) for name in values]\n",
    "df['fire_name'] = pd.DataFrame([name.capitalize() for name in strValues])\n",
    "df.head(2)\n"
   ]
  },
  {
   "cell_type": "markdown",
   "id": "9de787ed",
   "metadata": {},
   "source": [
    "Q4. Drop unnecessary rows- having fire size less than 10 acres."
   ]
  },
  {
   "cell_type": "code",
   "execution_count": 8,
   "id": "22be3f4c",
   "metadata": {},
   "outputs": [
    {
     "data": {
      "text/plain": [
       "(1880465, 8)"
      ]
     },
     "execution_count": 8,
     "metadata": {},
     "output_type": "execute_result"
    }
   ],
   "source": [
    "df.shape"
   ]
  },
  {
   "cell_type": "code",
   "execution_count": 9,
   "id": "fec114e1",
   "metadata": {},
   "outputs": [
    {
     "data": {
      "text/plain": [
       "(274170, 8)"
      ]
     },
     "execution_count": 9,
     "metadata": {},
     "output_type": "execute_result"
    }
   ],
   "source": [
    "df = df.drop(df[df['acres_burned'] < 10].index)\n",
    "df.shape"
   ]
  },
  {
   "cell_type": "markdown",
   "id": "6b437c6e",
   "metadata": {},
   "source": [
    "\n",
    "Q5. Drop duplicate rows, if any. If so, keep the first duplicate of each such duplicate set.\n"
   ]
  },
  {
   "cell_type": "code",
   "execution_count": 10,
   "id": "b4a2144e",
   "metadata": {},
   "outputs": [
    {
     "data": {
      "text/plain": [
       "(274123, 8)"
      ]
     },
     "execution_count": 10,
     "metadata": {},
     "output_type": "execute_result"
    }
   ],
   "source": [
    "df.drop_duplicates(keep='first',inplace=True)\n",
    "df.shape"
   ]
  },
  {
   "cell_type": "markdown",
   "id": "03937737",
   "metadata": {},
   "source": [
    "\n",
    "Q6. Ensure that the `date` columns have the correct datatype.\n"
   ]
  },
  {
   "cell_type": "code",
   "execution_count": 11,
   "id": "9ac5da6c",
   "metadata": {},
   "outputs": [
    {
     "name": "stdout",
     "output_type": "stream",
     "text": [
      "<class 'pandas.core.frame.DataFrame'>\n",
      "Int64Index: 274123 entries, 16 to 1880441\n",
      "Data columns (total 8 columns):\n",
      " #   Column          Non-Null Count   Dtype         \n",
      "---  ------          --------------   -----         \n",
      " 0   fire_name       274123 non-null  object        \n",
      " 1   acres_burned    274123 non-null  float64       \n",
      " 2   state           274123 non-null  object        \n",
      " 3   latitude        274123 non-null  float64       \n",
      " 4   longitude       274123 non-null  float64       \n",
      " 5   fire_year       274123 non-null  int64         \n",
      " 6   discovery_date  274123 non-null  datetime64[ns]\n",
      " 7   contain_date    137376 non-null  datetime64[ns]\n",
      "dtypes: datetime64[ns](2), float64(3), int64(1), object(2)\n",
      "memory usage: 18.8+ MB\n"
     ]
    }
   ],
   "source": [
    "df['discovery_date']= pd.to_datetime(df['discovery_date'])\n",
    "df['contain_date']= pd.to_datetime(df['contain_date'])\n",
    "df['discovery_date'].dtype\n",
    "df.info()"
   ]
  },
  {
   "cell_type": "markdown",
   "id": "c1293775",
   "metadata": {},
   "source": [
    "\n",
    "Q7. Check for missing values in the `contain_date` column. Find the number.\n",
    "\n",
    "a) Check for missing values of  `contain_date`  where fires exceed 10000 acres.\n",
    "\n",
    "b) Check the values of  `contain_date` to see if they are reasonable.\n"
   ]
  },
  {
   "cell_type": "code",
   "execution_count": 12,
   "id": "b7f6acd3",
   "metadata": {},
   "outputs": [
    {
     "data": {
      "text/html": [
       "<div>\n",
       "<style scoped>\n",
       "    .dataframe tbody tr th:only-of-type {\n",
       "        vertical-align: middle;\n",
       "    }\n",
       "\n",
       "    .dataframe tbody tr th {\n",
       "        vertical-align: top;\n",
       "    }\n",
       "\n",
       "    .dataframe thead th {\n",
       "        text-align: right;\n",
       "    }\n",
       "</style>\n",
       "<table border=\"1\" class=\"dataframe\">\n",
       "  <thead>\n",
       "    <tr style=\"text-align: right;\">\n",
       "      <th></th>\n",
       "      <th>fire_name</th>\n",
       "      <th>acres_burned</th>\n",
       "      <th>state</th>\n",
       "      <th>latitude</th>\n",
       "      <th>longitude</th>\n",
       "      <th>fire_year</th>\n",
       "      <th>discovery_date</th>\n",
       "      <th>contain_date</th>\n",
       "    </tr>\n",
       "  </thead>\n",
       "  <tbody>\n",
       "    <tr>\n",
       "      <th>1566</th>\n",
       "      <td>Seven springs</td>\n",
       "      <td>85.0</td>\n",
       "      <td>MO</td>\n",
       "      <td>36.992500</td>\n",
       "      <td>-92.186111</td>\n",
       "      <td>2005</td>\n",
       "      <td>2005-03-17</td>\n",
       "      <td>NaT</td>\n",
       "    </tr>\n",
       "    <tr>\n",
       "      <th>5095</th>\n",
       "      <td>Peppin</td>\n",
       "      <td>64488.0</td>\n",
       "      <td>NM</td>\n",
       "      <td>33.601389</td>\n",
       "      <td>-105.433333</td>\n",
       "      <td>2004</td>\n",
       "      <td>2004-05-15</td>\n",
       "      <td>NaT</td>\n",
       "    </tr>\n",
       "  </tbody>\n",
       "</table>\n",
       "</div>"
      ],
      "text/plain": [
       "          fire_name  acres_burned state   latitude   longitude  fire_year  \\\n",
       "1566  Seven springs          85.0    MO  36.992500  -92.186111       2005   \n",
       "5095         Peppin       64488.0    NM  33.601389 -105.433333       2004   \n",
       "\n",
       "     discovery_date contain_date  \n",
       "1566     2005-03-17          NaT  \n",
       "5095     2004-05-15          NaT  "
      ]
     },
     "execution_count": 12,
     "metadata": {},
     "output_type": "execute_result"
    }
   ],
   "source": [
    "df[df['contain_date'].isna()].head(2)"
   ]
  },
  {
   "cell_type": "code",
   "execution_count": 13,
   "id": "64f23bd3",
   "metadata": {},
   "outputs": [
    {
     "data": {
      "text/html": [
       "<div>\n",
       "<style scoped>\n",
       "    .dataframe tbody tr th:only-of-type {\n",
       "        vertical-align: middle;\n",
       "    }\n",
       "\n",
       "    .dataframe tbody tr th {\n",
       "        vertical-align: top;\n",
       "    }\n",
       "\n",
       "    .dataframe thead th {\n",
       "        text-align: right;\n",
       "    }\n",
       "</style>\n",
       "<table border=\"1\" class=\"dataframe\">\n",
       "  <thead>\n",
       "    <tr style=\"text-align: right;\">\n",
       "      <th></th>\n",
       "      <th>fire_name</th>\n",
       "      <th>acres_burned</th>\n",
       "      <th>state</th>\n",
       "      <th>latitude</th>\n",
       "      <th>longitude</th>\n",
       "      <th>fire_year</th>\n",
       "      <th>discovery_date</th>\n",
       "      <th>contain_date</th>\n",
       "    </tr>\n",
       "  </thead>\n",
       "  <tbody>\n",
       "    <tr>\n",
       "      <th>5095</th>\n",
       "      <td>Peppin</td>\n",
       "      <td>64488.0</td>\n",
       "      <td>NM</td>\n",
       "      <td>33.601389</td>\n",
       "      <td>-105.433333</td>\n",
       "      <td>2004</td>\n",
       "      <td>2004-05-15</td>\n",
       "      <td>NaT</td>\n",
       "    </tr>\n",
       "    <tr>\n",
       "      <th>14306</th>\n",
       "      <td>Harvey</td>\n",
       "      <td>1247.0</td>\n",
       "      <td>CA</td>\n",
       "      <td>40.058889</td>\n",
       "      <td>-122.908056</td>\n",
       "      <td>2006</td>\n",
       "      <td>2006-06-26</td>\n",
       "      <td>NaT</td>\n",
       "    </tr>\n",
       "  </tbody>\n",
       "</table>\n",
       "</div>"
      ],
      "text/plain": [
       "      fire_name  acres_burned state   latitude   longitude  fire_year  \\\n",
       "5095     Peppin       64488.0    NM  33.601389 -105.433333       2004   \n",
       "14306    Harvey        1247.0    CA  40.058889 -122.908056       2006   \n",
       "\n",
       "      discovery_date contain_date  \n",
       "5095      2004-05-15          NaT  \n",
       "14306     2006-06-26          NaT  "
      ]
     },
     "execution_count": 13,
     "metadata": {},
     "output_type": "execute_result"
    }
   ],
   "source": [
    "df[(df['contain_date'].isna()) & (df['acres_burned'] > 1000)].head(2)\n",
    "#df.query(\"contain_date == 'NaT' and fire_size > 1000\")"
   ]
  },
  {
   "cell_type": "code",
   "execution_count": 14,
   "id": "91ee5ad2",
   "metadata": {},
   "outputs": [
    {
     "data": {
      "text/html": [
       "<div>\n",
       "<style scoped>\n",
       "    .dataframe tbody tr th:only-of-type {\n",
       "        vertical-align: middle;\n",
       "    }\n",
       "\n",
       "    .dataframe tbody tr th {\n",
       "        vertical-align: top;\n",
       "    }\n",
       "\n",
       "    .dataframe thead th {\n",
       "        text-align: right;\n",
       "    }\n",
       "</style>\n",
       "<table border=\"1\" class=\"dataframe\">\n",
       "  <thead>\n",
       "    <tr style=\"text-align: right;\">\n",
       "      <th></th>\n",
       "      <th>fire_name</th>\n",
       "      <th>acres_burned</th>\n",
       "      <th>state</th>\n",
       "      <th>latitude</th>\n",
       "      <th>longitude</th>\n",
       "      <th>fire_year</th>\n",
       "      <th>discovery_date</th>\n",
       "      <th>contain_date</th>\n",
       "    </tr>\n",
       "  </thead>\n",
       "  <tbody>\n",
       "    <tr>\n",
       "      <th>211296</th>\n",
       "      <td>Inowak</td>\n",
       "      <td>606945.0</td>\n",
       "      <td>AK</td>\n",
       "      <td>61.982700</td>\n",
       "      <td>-157.085700</td>\n",
       "      <td>1997</td>\n",
       "      <td>1997-06-25</td>\n",
       "      <td>1997-09-09</td>\n",
       "    </tr>\n",
       "    <tr>\n",
       "      <th>1579574</th>\n",
       "      <td>Long draw</td>\n",
       "      <td>558198.3</td>\n",
       "      <td>OR</td>\n",
       "      <td>42.391894</td>\n",
       "      <td>-117.893687</td>\n",
       "      <td>2012</td>\n",
       "      <td>2012-07-08</td>\n",
       "      <td>2012-07-30</td>\n",
       "    </tr>\n",
       "    <tr>\n",
       "      <th>1459664</th>\n",
       "      <td>Wallow</td>\n",
       "      <td>538049.0</td>\n",
       "      <td>AZ</td>\n",
       "      <td>33.606111</td>\n",
       "      <td>-109.449722</td>\n",
       "      <td>2011</td>\n",
       "      <td>2011-05-29</td>\n",
       "      <td>2011-07-12</td>\n",
       "    </tr>\n",
       "    <tr>\n",
       "      <th>305585</th>\n",
       "      <td>Boundary</td>\n",
       "      <td>537627.0</td>\n",
       "      <td>AK</td>\n",
       "      <td>65.266300</td>\n",
       "      <td>-146.885800</td>\n",
       "      <td>2004</td>\n",
       "      <td>2004-06-13</td>\n",
       "      <td>2004-09-30</td>\n",
       "    </tr>\n",
       "    <tr>\n",
       "      <th>1215267</th>\n",
       "      <td>Minto flats south</td>\n",
       "      <td>517078.0</td>\n",
       "      <td>AK</td>\n",
       "      <td>64.746700</td>\n",
       "      <td>-149.504700</td>\n",
       "      <td>2009</td>\n",
       "      <td>2009-06-21</td>\n",
       "      <td>2009-09-11</td>\n",
       "    </tr>\n",
       "    <tr>\n",
       "      <th>...</th>\n",
       "      <td>...</td>\n",
       "      <td>...</td>\n",
       "      <td>...</td>\n",
       "      <td>...</td>\n",
       "      <td>...</td>\n",
       "      <td>...</td>\n",
       "      <td>...</td>\n",
       "      <td>...</td>\n",
       "    </tr>\n",
       "    <tr>\n",
       "      <th>1325050</th>\n",
       "      <td>Abbotts branch</td>\n",
       "      <td>1001.0</td>\n",
       "      <td>WV</td>\n",
       "      <td>38.000612</td>\n",
       "      <td>-81.399058</td>\n",
       "      <td>1995</td>\n",
       "      <td>1995-04-05</td>\n",
       "      <td>1995-04-11</td>\n",
       "    </tr>\n",
       "    <tr>\n",
       "      <th>1573796</th>\n",
       "      <td>Impact</td>\n",
       "      <td>1001.0</td>\n",
       "      <td>ID</td>\n",
       "      <td>43.257130</td>\n",
       "      <td>-116.090220</td>\n",
       "      <td>2012</td>\n",
       "      <td>2012-06-07</td>\n",
       "      <td>2012-06-07</td>\n",
       "    </tr>\n",
       "    <tr>\n",
       "      <th>1796371</th>\n",
       "      <td>Whitefish lake 2</td>\n",
       "      <td>1000.4</td>\n",
       "      <td>AK</td>\n",
       "      <td>61.380000</td>\n",
       "      <td>-160.370000</td>\n",
       "      <td>2015</td>\n",
       "      <td>2015-05-31</td>\n",
       "      <td>2015-06-02</td>\n",
       "    </tr>\n",
       "    <tr>\n",
       "      <th>340311</th>\n",
       "      <td>Jack mtn</td>\n",
       "      <td>1000.1</td>\n",
       "      <td>OR</td>\n",
       "      <td>42.965400</td>\n",
       "      <td>-118.966600</td>\n",
       "      <td>2006</td>\n",
       "      <td>2006-07-23</td>\n",
       "      <td>2006-07-25</td>\n",
       "    </tr>\n",
       "    <tr>\n",
       "      <th>391599</th>\n",
       "      <td>Theba</td>\n",
       "      <td>1000.1</td>\n",
       "      <td>AZ</td>\n",
       "      <td>32.927465</td>\n",
       "      <td>-112.933628</td>\n",
       "      <td>2005</td>\n",
       "      <td>2005-06-17</td>\n",
       "      <td>NaT</td>\n",
       "    </tr>\n",
       "  </tbody>\n",
       "</table>\n",
       "<p>11087 rows × 8 columns</p>\n",
       "</div>"
      ],
      "text/plain": [
       "                 fire_name  acres_burned state   latitude   longitude  \\\n",
       "211296              Inowak      606945.0    AK  61.982700 -157.085700   \n",
       "1579574          Long draw      558198.3    OR  42.391894 -117.893687   \n",
       "1459664             Wallow      538049.0    AZ  33.606111 -109.449722   \n",
       "305585            Boundary      537627.0    AK  65.266300 -146.885800   \n",
       "1215267  Minto flats south      517078.0    AK  64.746700 -149.504700   \n",
       "...                    ...           ...   ...        ...         ...   \n",
       "1325050     Abbotts branch        1001.0    WV  38.000612  -81.399058   \n",
       "1573796             Impact        1001.0    ID  43.257130 -116.090220   \n",
       "1796371   Whitefish lake 2        1000.4    AK  61.380000 -160.370000   \n",
       "340311            Jack mtn        1000.1    OR  42.965400 -118.966600   \n",
       "391599               Theba        1000.1    AZ  32.927465 -112.933628   \n",
       "\n",
       "         fire_year discovery_date contain_date  \n",
       "211296        1997     1997-06-25   1997-09-09  \n",
       "1579574       2012     2012-07-08   2012-07-30  \n",
       "1459664       2011     2011-05-29   2011-07-12  \n",
       "305585        2004     2004-06-13   2004-09-30  \n",
       "1215267       2009     2009-06-21   2009-09-11  \n",
       "...            ...            ...          ...  \n",
       "1325050       1995     1995-04-05   1995-04-11  \n",
       "1573796       2012     2012-06-07   2012-06-07  \n",
       "1796371       2015     2015-05-31   2015-06-02  \n",
       "340311        2006     2006-07-23   2006-07-25  \n",
       "391599        2005     2005-06-17          NaT  \n",
       "\n",
       "[11087 rows x 8 columns]"
      ]
     },
     "execution_count": 14,
     "metadata": {},
     "output_type": "execute_result"
    }
   ],
   "source": [
    "df.query('acres_burned > 1000').sort_values('acres_burned', ascending=False)"
   ]
  },
  {
   "cell_type": "markdown",
   "id": "b8434343",
   "metadata": {},
   "source": [
    "#### (II) Prepare the data:"
   ]
  },
  {
   "cell_type": "markdown",
   "id": "51992f5e",
   "metadata": {},
   "source": [
    "Q9. Add the `fire_month` and `days_burning` columns"
   ]
  },
  {
   "cell_type": "code",
   "execution_count": 15,
   "id": "9865ec0f",
   "metadata": {},
   "outputs": [
    {
     "data": {
      "text/html": [
       "<div>\n",
       "<style scoped>\n",
       "    .dataframe tbody tr th:only-of-type {\n",
       "        vertical-align: middle;\n",
       "    }\n",
       "\n",
       "    .dataframe tbody tr th {\n",
       "        vertical-align: top;\n",
       "    }\n",
       "\n",
       "    .dataframe thead th {\n",
       "        text-align: right;\n",
       "    }\n",
       "</style>\n",
       "<table border=\"1\" class=\"dataframe\">\n",
       "  <thead>\n",
       "    <tr style=\"text-align: right;\">\n",
       "      <th></th>\n",
       "      <th>fire_name</th>\n",
       "      <th>acres_burned</th>\n",
       "      <th>state</th>\n",
       "      <th>latitude</th>\n",
       "      <th>longitude</th>\n",
       "      <th>fire_year</th>\n",
       "      <th>discovery_date</th>\n",
       "      <th>contain_date</th>\n",
       "      <th>fire_month</th>\n",
       "      <th>days_burning</th>\n",
       "    </tr>\n",
       "  </thead>\n",
       "  <tbody>\n",
       "    <tr>\n",
       "      <th>16</th>\n",
       "      <td>Power</td>\n",
       "      <td>16823.0</td>\n",
       "      <td>CA</td>\n",
       "      <td>38.523333</td>\n",
       "      <td>-120.211667</td>\n",
       "      <td>2004</td>\n",
       "      <td>2004-10-06</td>\n",
       "      <td>2004-10-21</td>\n",
       "      <td>Oct</td>\n",
       "      <td>15.0</td>\n",
       "    </tr>\n",
       "    <tr>\n",
       "      <th>17</th>\n",
       "      <td>Freds</td>\n",
       "      <td>7700.0</td>\n",
       "      <td>CA</td>\n",
       "      <td>38.780000</td>\n",
       "      <td>-120.260000</td>\n",
       "      <td>2004</td>\n",
       "      <td>2004-10-13</td>\n",
       "      <td>2004-10-17</td>\n",
       "      <td>Oct</td>\n",
       "      <td>4.0</td>\n",
       "    </tr>\n",
       "    <tr>\n",
       "      <th>25</th>\n",
       "      <td>Bachelor</td>\n",
       "      <td>10.0</td>\n",
       "      <td>NM</td>\n",
       "      <td>33.315833</td>\n",
       "      <td>-105.512222</td>\n",
       "      <td>2004</td>\n",
       "      <td>2004-07-20</td>\n",
       "      <td>2004-07-20</td>\n",
       "      <td>Jul</td>\n",
       "      <td>0.0</td>\n",
       "    </tr>\n",
       "    <tr>\n",
       "      <th>37</th>\n",
       "      <td>Howard gap</td>\n",
       "      <td>50.3</td>\n",
       "      <td>NC</td>\n",
       "      <td>35.000278</td>\n",
       "      <td>-83.351111</td>\n",
       "      <td>2005</td>\n",
       "      <td>2005-01-27</td>\n",
       "      <td>2005-01-28</td>\n",
       "      <td>Jan</td>\n",
       "      <td>1.0</td>\n",
       "    </tr>\n",
       "    <tr>\n",
       "      <th>39</th>\n",
       "      <td>Austin creek</td>\n",
       "      <td>125.0</td>\n",
       "      <td>NC</td>\n",
       "      <td>36.001667</td>\n",
       "      <td>-81.590000</td>\n",
       "      <td>2005</td>\n",
       "      <td>2005-02-12</td>\n",
       "      <td>2005-02-13</td>\n",
       "      <td>Feb</td>\n",
       "      <td>1.0</td>\n",
       "    </tr>\n",
       "    <tr>\n",
       "      <th>40</th>\n",
       "      <td>Headquarters</td>\n",
       "      <td>25.0</td>\n",
       "      <td>NC</td>\n",
       "      <td>35.985000</td>\n",
       "      <td>-81.851667</td>\n",
       "      <td>2005</td>\n",
       "      <td>2005-04-16</td>\n",
       "      <td>2005-04-16</td>\n",
       "      <td>Apr</td>\n",
       "      <td>0.0</td>\n",
       "    </tr>\n",
       "    <tr>\n",
       "      <th>42</th>\n",
       "      <td>Mountain</td>\n",
       "      <td>10.0</td>\n",
       "      <td>NC</td>\n",
       "      <td>36.035000</td>\n",
       "      <td>-81.585000</td>\n",
       "      <td>2005</td>\n",
       "      <td>2005-05-09</td>\n",
       "      <td>2005-05-09</td>\n",
       "      <td>May</td>\n",
       "      <td>0.0</td>\n",
       "    </tr>\n",
       "    <tr>\n",
       "      <th>45</th>\n",
       "      <td>Waterloo</td>\n",
       "      <td>10.0</td>\n",
       "      <td>NC</td>\n",
       "      <td>35.001389</td>\n",
       "      <td>-83.384167</td>\n",
       "      <td>2005</td>\n",
       "      <td>2005-03-11</td>\n",
       "      <td>2005-03-11</td>\n",
       "      <td>Mar</td>\n",
       "      <td>0.0</td>\n",
       "    </tr>\n",
       "    <tr>\n",
       "      <th>70</th>\n",
       "      <td>Olsen hill</td>\n",
       "      <td>17.0</td>\n",
       "      <td>MT</td>\n",
       "      <td>48.966667</td>\n",
       "      <td>-115.206667</td>\n",
       "      <td>2005</td>\n",
       "      <td>2005-05-02</td>\n",
       "      <td>2005-05-02</td>\n",
       "      <td>May</td>\n",
       "      <td>0.0</td>\n",
       "    </tr>\n",
       "    <tr>\n",
       "      <th>85</th>\n",
       "      <td>Antelope</td>\n",
       "      <td>45.6</td>\n",
       "      <td>NM</td>\n",
       "      <td>32.467222</td>\n",
       "      <td>-104.941667</td>\n",
       "      <td>2005</td>\n",
       "      <td>2005-07-07</td>\n",
       "      <td>2005-07-08</td>\n",
       "      <td>Jul</td>\n",
       "      <td>1.0</td>\n",
       "    </tr>\n",
       "  </tbody>\n",
       "</table>\n",
       "</div>"
      ],
      "text/plain": [
       "       fire_name  acres_burned state   latitude   longitude  fire_year  \\\n",
       "16         Power       16823.0    CA  38.523333 -120.211667       2004   \n",
       "17         Freds        7700.0    CA  38.780000 -120.260000       2004   \n",
       "25      Bachelor          10.0    NM  33.315833 -105.512222       2004   \n",
       "37    Howard gap          50.3    NC  35.000278  -83.351111       2005   \n",
       "39  Austin creek         125.0    NC  36.001667  -81.590000       2005   \n",
       "40  Headquarters          25.0    NC  35.985000  -81.851667       2005   \n",
       "42      Mountain          10.0    NC  36.035000  -81.585000       2005   \n",
       "45      Waterloo          10.0    NC  35.001389  -83.384167       2005   \n",
       "70    Olsen hill          17.0    MT  48.966667 -115.206667       2005   \n",
       "85      Antelope          45.6    NM  32.467222 -104.941667       2005   \n",
       "\n",
       "   discovery_date contain_date fire_month  days_burning  \n",
       "16     2004-10-06   2004-10-21        Oct          15.0  \n",
       "17     2004-10-13   2004-10-17        Oct           4.0  \n",
       "25     2004-07-20   2004-07-20        Jul           0.0  \n",
       "37     2005-01-27   2005-01-28        Jan           1.0  \n",
       "39     2005-02-12   2005-02-13        Feb           1.0  \n",
       "40     2005-04-16   2005-04-16        Apr           0.0  \n",
       "42     2005-05-09   2005-05-09        May           0.0  \n",
       "45     2005-03-11   2005-03-11        Mar           0.0  \n",
       "70     2005-05-02   2005-05-02        May           0.0  \n",
       "85     2005-07-07   2005-07-08        Jul           1.0  "
      ]
     },
     "execution_count": 15,
     "metadata": {},
     "output_type": "execute_result"
    }
   ],
   "source": [
    "df['fire_month'] = df['discovery_date'].dt.strftime('%b')\n",
    "df['days_burning'] = (df['contain_date'] - df['discovery_date']).dt.days\n",
    "df.head(10)"
   ]
  },
  {
   "cell_type": "markdown",
   "id": "56709008",
   "metadata": {},
   "source": [
    "\n",
    "Q10. Get the statistical summary of the `days_burning` column. What trends do you see in the 3rd quartile, mean and Max length of the fires? Is or isn't anything fishy?\n"
   ]
  },
  {
   "cell_type": "code",
   "execution_count": 16,
   "id": "e4687ee4",
   "metadata": {},
   "outputs": [
    {
     "data": {
      "text/plain": [
       "count    137376.000000\n",
       "mean          3.254520\n",
       "std          16.052833\n",
       "min           0.000000\n",
       "25%           0.000000\n",
       "50%           0.000000\n",
       "75%           1.000000\n",
       "max        1881.000000\n",
       "Name: days_burning, dtype: float64"
      ]
     },
     "execution_count": 16,
     "metadata": {},
     "output_type": "execute_result"
    }
   ],
   "source": [
    "df['days_burning'].describe()\n",
    "#df.boxplot(column='days_burning')"
   ]
  },
  {
   "cell_type": "markdown",
   "id": "61432032",
   "metadata": {},
   "source": [
    "\n",
    "Q11. Check the value of `days_burning` for fires that exceed 100 acres. What do you notice about the acreage and the `days_burning` for certain outliers?\n"
   ]
  },
  {
   "cell_type": "code",
   "execution_count": null,
   "id": "104b0aea",
   "metadata": {},
   "outputs": [],
   "source": []
  },
  {
   "cell_type": "code",
   "execution_count": null,
   "id": "82fe011d",
   "metadata": {},
   "outputs": [],
   "source": []
  },
  {
   "cell_type": "markdown",
   "id": "febd00db",
   "metadata": {},
   "source": [
    "#### (III) Biz Q's:"
   ]
  },
  {
   "cell_type": "markdown",
   "id": "74e9338b",
   "metadata": {},
   "source": [
    "For California:\n",
    "\n",
    "BQ1. Plot the maximum fire size, per year."
   ]
  },
  {
   "cell_type": "code",
   "execution_count": 17,
   "id": "1c24e03a",
   "metadata": {},
   "outputs": [
    {
     "data": {
      "text/plain": [
       "<AxesSubplot: xlabel='Years'>"
      ]
     },
     "execution_count": 17,
     "metadata": {},
     "output_type": "execute_result"
    },
    {
     "data": {
      "image/png": "[encoded data removed]",
      "text/plain": [
       "<Figure size 640x480 with 1 Axes>"
      ]
     },
     "metadata": {},
     "output_type": "display_data"
    }
   ],
   "source": [
    "df.query(\"state == 'CA'\").groupby('fire_year').agg({'acres_burned':'max'}).plot.bar(xlabel='Years')"
   ]
  },
  {
   "cell_type": "markdown",
   "id": "4da48c57",
   "metadata": {},
   "source": [
    "For California:\n",
    "    \n",
    "BQ2. Plot the mean and median fire size, per year."
   ]
  },
  {
   "cell_type": "code",
   "execution_count": 25,
   "id": "3d1ae612",
   "metadata": {},
   "outputs": [
    {
     "data": {
      "text/html": [
       "<div>\n",
       "<style scoped>\n",
       "    .dataframe tbody tr th:only-of-type {\n",
       "        vertical-align: middle;\n",
       "    }\n",
       "\n",
       "    .dataframe tbody tr th {\n",
       "        vertical-align: top;\n",
       "    }\n",
       "\n",
       "    .dataframe thead th {\n",
       "        text-align: right;\n",
       "    }\n",
       "</style>\n",
       "<table border=\"1\" class=\"dataframe\">\n",
       "  <thead>\n",
       "    <tr style=\"text-align: right;\">\n",
       "      <th></th>\n",
       "      <th>acres_burned</th>\n",
       "    </tr>\n",
       "  </thead>\n",
       "  <tbody>\n",
       "    <tr>\n",
       "      <th>count</th>\n",
       "      <td>14299.000000</td>\n",
       "    </tr>\n",
       "    <tr>\n",
       "      <th>mean</th>\n",
       "      <td>881.934274</td>\n",
       "    </tr>\n",
       "    <tr>\n",
       "      <th>std</th>\n",
       "      <td>7342.398281</td>\n",
       "    </tr>\n",
       "    <tr>\n",
       "      <th>min</th>\n",
       "      <td>10.000000</td>\n",
       "    </tr>\n",
       "    <tr>\n",
       "      <th>25%</th>\n",
       "      <td>15.000000</td>\n",
       "    </tr>\n",
       "    <tr>\n",
       "      <th>50%</th>\n",
       "      <td>39.000000</td>\n",
       "    </tr>\n",
       "    <tr>\n",
       "      <th>75%</th>\n",
       "      <td>135.000000</td>\n",
       "    </tr>\n",
       "    <tr>\n",
       "      <th>max</th>\n",
       "      <td>315578.800000</td>\n",
       "    </tr>\n",
       "  </tbody>\n",
       "</table>\n",
       "</div>"
      ],
      "text/plain": [
       "        acres_burned\n",
       "count   14299.000000\n",
       "mean      881.934274\n",
       "std      7342.398281\n",
       "min        10.000000\n",
       "25%        15.000000\n",
       "50%        39.000000\n",
       "75%       135.000000\n",
       "max    315578.800000"
      ]
     },
     "execution_count": 25,
     "metadata": {},
     "output_type": "execute_result"
    }
   ],
   "source": [
    "df.query(\"state == 'CA'\")[['acres_burned']].describe()"
   ]
  },
  {
   "cell_type": "code",
   "execution_count": 31,
   "id": "43be1da0",
   "metadata": {},
   "outputs": [
    {
     "data": {
      "text/html": [
       "<div>\n",
       "<style scoped>\n",
       "    .dataframe tbody tr th:only-of-type {\n",
       "        vertical-align: middle;\n",
       "    }\n",
       "\n",
       "    .dataframe tbody tr th {\n",
       "        vertical-align: top;\n",
       "    }\n",
       "\n",
       "    .dataframe thead tr th {\n",
       "        text-align: left;\n",
       "    }\n",
       "\n",
       "    .dataframe thead tr:last-of-type th {\n",
       "        text-align: right;\n",
       "    }\n",
       "</style>\n",
       "<table border=\"1\" class=\"dataframe\">\n",
       "  <thead>\n",
       "    <tr>\n",
       "      <th></th>\n",
       "      <th colspan=\"2\" halign=\"left\">acres_burned</th>\n",
       "    </tr>\n",
       "    <tr>\n",
       "      <th></th>\n",
       "      <th>mean</th>\n",
       "      <th>median</th>\n",
       "    </tr>\n",
       "    <tr>\n",
       "      <th>fire_year</th>\n",
       "      <th></th>\n",
       "      <th></th>\n",
       "    </tr>\n",
       "  </thead>\n",
       "  <tbody>\n",
       "    <tr>\n",
       "      <th>1992</th>\n",
       "      <td>338.705972</td>\n",
       "      <td>38.50</td>\n",
       "    </tr>\n",
       "    <tr>\n",
       "      <th>1993</th>\n",
       "      <td>416.681349</td>\n",
       "      <td>35.00</td>\n",
       "    </tr>\n",
       "    <tr>\n",
       "      <th>1994</th>\n",
       "      <td>520.906874</td>\n",
       "      <td>35.00</td>\n",
       "    </tr>\n",
       "    <tr>\n",
       "      <th>1995</th>\n",
       "      <td>316.095045</td>\n",
       "      <td>40.00</td>\n",
       "    </tr>\n",
       "    <tr>\n",
       "      <th>1996</th>\n",
       "      <td>715.038202</td>\n",
       "      <td>40.00</td>\n",
       "    </tr>\n",
       "    <tr>\n",
       "      <th>1997</th>\n",
       "      <td>539.817428</td>\n",
       "      <td>30.00</td>\n",
       "    </tr>\n",
       "    <tr>\n",
       "      <th>1998</th>\n",
       "      <td>295.223954</td>\n",
       "      <td>35.00</td>\n",
       "    </tr>\n",
       "    <tr>\n",
       "      <th>1999</th>\n",
       "      <td>1138.212981</td>\n",
       "      <td>35.00</td>\n",
       "    </tr>\n",
       "    <tr>\n",
       "      <th>2000</th>\n",
       "      <td>589.887143</td>\n",
       "      <td>30.00</td>\n",
       "    </tr>\n",
       "    <tr>\n",
       "      <th>2001</th>\n",
       "      <td>607.017254</td>\n",
       "      <td>35.00</td>\n",
       "    </tr>\n",
       "    <tr>\n",
       "      <th>2002</th>\n",
       "      <td>842.868926</td>\n",
       "      <td>38.00</td>\n",
       "    </tr>\n",
       "    <tr>\n",
       "      <th>2003</th>\n",
       "      <td>1557.709363</td>\n",
       "      <td>40.00</td>\n",
       "    </tr>\n",
       "    <tr>\n",
       "      <th>2004</th>\n",
       "      <td>499.793226</td>\n",
       "      <td>35.00</td>\n",
       "    </tr>\n",
       "    <tr>\n",
       "      <th>2005</th>\n",
       "      <td>404.396810</td>\n",
       "      <td>33.00</td>\n",
       "    </tr>\n",
       "    <tr>\n",
       "      <th>2006</th>\n",
       "      <td>1121.595271</td>\n",
       "      <td>40.00</td>\n",
       "    </tr>\n",
       "    <tr>\n",
       "      <th>2007</th>\n",
       "      <td>1642.834509</td>\n",
       "      <td>31.15</td>\n",
       "    </tr>\n",
       "    <tr>\n",
       "      <th>2008</th>\n",
       "      <td>2013.470014</td>\n",
       "      <td>60.00</td>\n",
       "    </tr>\n",
       "    <tr>\n",
       "      <th>2009</th>\n",
       "      <td>1108.653202</td>\n",
       "      <td>42.00</td>\n",
       "    </tr>\n",
       "    <tr>\n",
       "      <th>2010</th>\n",
       "      <td>319.501126</td>\n",
       "      <td>39.85</td>\n",
       "    </tr>\n",
       "    <tr>\n",
       "      <th>2011</th>\n",
       "      <td>358.109096</td>\n",
       "      <td>33.00</td>\n",
       "    </tr>\n",
       "    <tr>\n",
       "      <th>2012</th>\n",
       "      <td>1714.654808</td>\n",
       "      <td>38.00</td>\n",
       "    </tr>\n",
       "    <tr>\n",
       "      <th>2013</th>\n",
       "      <td>1144.245825</td>\n",
       "      <td>36.00</td>\n",
       "    </tr>\n",
       "    <tr>\n",
       "      <th>2014</th>\n",
       "      <td>1847.052143</td>\n",
       "      <td>45.00</td>\n",
       "    </tr>\n",
       "    <tr>\n",
       "      <th>2015</th>\n",
       "      <td>2133.015202</td>\n",
       "      <td>50.00</td>\n",
       "    </tr>\n",
       "  </tbody>\n",
       "</table>\n",
       "</div>"
      ],
      "text/plain": [
       "          acres_burned       \n",
       "                  mean median\n",
       "fire_year                    \n",
       "1992        338.705972  38.50\n",
       "1993        416.681349  35.00\n",
       "1994        520.906874  35.00\n",
       "1995        316.095045  40.00\n",
       "1996        715.038202  40.00\n",
       "1997        539.817428  30.00\n",
       "1998        295.223954  35.00\n",
       "1999       1138.212981  35.00\n",
       "2000        589.887143  30.00\n",
       "2001        607.017254  35.00\n",
       "2002        842.868926  38.00\n",
       "2003       1557.709363  40.00\n",
       "2004        499.793226  35.00\n",
       "2005        404.396810  33.00\n",
       "2006       1121.595271  40.00\n",
       "2007       1642.834509  31.15\n",
       "2008       2013.470014  60.00\n",
       "2009       1108.653202  42.00\n",
       "2010        319.501126  39.85\n",
       "2011        358.109096  33.00\n",
       "2012       1714.654808  38.00\n",
       "2013       1144.245825  36.00\n",
       "2014       1847.052143  45.00\n",
       "2015       2133.015202  50.00"
      ]
     },
     "execution_count": 31,
     "metadata": {},
     "output_type": "execute_result"
    }
   ],
   "source": [
    "df.query(\"state == 'CA'\").groupby('fire_year').agg({'acres_burned':['mean','median']})"
   ]
  },
  {
   "cell_type": "code",
   "execution_count": 34,
   "id": "afc20793",
   "metadata": {},
   "outputs": [
    {
     "data": {
      "text/plain": [
       "<AxesSubplot: title={'center': 'Mean and Median fire_size, per year'}, xlabel='fire_year'>"
      ]
     },
     "execution_count": 34,
     "metadata": {},
     "output_type": "execute_result"
    },
    {
     "data": {
      "image/png": "[encoded data removed]",
      "text/plain": [
       "<Figure size 640x480 with 1 Axes>"
      ]
     },
     "metadata": {},
     "output_type": "display_data"
    }
   ],
   "source": [
    "df.query(\"state == 'CA'\").groupby('fire_year').agg({'acres_burned':['mean','median']}).\\\n",
    "    plot(title='Mean and Median fire_size, per year')"
   ]
  },
  {
   "cell_type": "markdown",
   "id": "1d7d62ec",
   "metadata": {},
   "source": [
    "For California:\n",
    "    \n",
    "BQ3. Which month has seen the highest NUMBER of fires, in california? (throughout all-time)"
   ]
  },
  {
   "cell_type": "code",
   "execution_count": 44,
   "id": "5a0d83cd",
   "metadata": {},
   "outputs": [
    {
     "data": {
      "text/html": [
       "<div>\n",
       "<style scoped>\n",
       "    .dataframe tbody tr th:only-of-type {\n",
       "        vertical-align: middle;\n",
       "    }\n",
       "\n",
       "    .dataframe tbody tr th {\n",
       "        vertical-align: top;\n",
       "    }\n",
       "\n",
       "    .dataframe thead th {\n",
       "        text-align: right;\n",
       "    }\n",
       "</style>\n",
       "<table border=\"1\" class=\"dataframe\">\n",
       "  <thead>\n",
       "    <tr style=\"text-align: right;\">\n",
       "      <th></th>\n",
       "      <th>fire_name</th>\n",
       "      <th>acres_burned</th>\n",
       "      <th>state</th>\n",
       "      <th>latitude</th>\n",
       "      <th>longitude</th>\n",
       "      <th>fire_year</th>\n",
       "      <th>discovery_date</th>\n",
       "      <th>contain_date</th>\n",
       "      <th>fire_month</th>\n",
       "      <th>days_burning</th>\n",
       "    </tr>\n",
       "  </thead>\n",
       "  <tbody>\n",
       "    <tr>\n",
       "      <th>16</th>\n",
       "      <td>Power</td>\n",
       "      <td>16823.0</td>\n",
       "      <td>CA</td>\n",
       "      <td>38.523333</td>\n",
       "      <td>-120.211667</td>\n",
       "      <td>2004</td>\n",
       "      <td>2004-10-06</td>\n",
       "      <td>2004-10-21</td>\n",
       "      <td>Oct</td>\n",
       "      <td>15.0</td>\n",
       "    </tr>\n",
       "    <tr>\n",
       "      <th>17</th>\n",
       "      <td>Freds</td>\n",
       "      <td>7700.0</td>\n",
       "      <td>CA</td>\n",
       "      <td>38.780000</td>\n",
       "      <td>-120.260000</td>\n",
       "      <td>2004</td>\n",
       "      <td>2004-10-13</td>\n",
       "      <td>2004-10-17</td>\n",
       "      <td>Oct</td>\n",
       "      <td>4.0</td>\n",
       "    </tr>\n",
       "  </tbody>\n",
       "</table>\n",
       "</div>"
      ],
      "text/plain": [
       "   fire_name  acres_burned state   latitude   longitude  fire_year  \\\n",
       "16     Power       16823.0    CA  38.523333 -120.211667       2004   \n",
       "17     Freds        7700.0    CA  38.780000 -120.260000       2004   \n",
       "\n",
       "   discovery_date contain_date fire_month  days_burning  \n",
       "16     2004-10-06   2004-10-21        Oct          15.0  \n",
       "17     2004-10-13   2004-10-17        Oct           4.0  "
      ]
     },
     "execution_count": 44,
     "metadata": {},
     "output_type": "execute_result"
    }
   ],
   "source": [
    "df.head(2)"
   ]
  },
  {
   "cell_type": "code",
   "execution_count": 64,
   "id": "b4283168",
   "metadata": {},
   "outputs": [
    {
     "data": {
      "text/html": [
       "<div>\n",
       "<style scoped>\n",
       "    .dataframe tbody tr th:only-of-type {\n",
       "        vertical-align: middle;\n",
       "    }\n",
       "\n",
       "    .dataframe tbody tr th {\n",
       "        vertical-align: top;\n",
       "    }\n",
       "\n",
       "    .dataframe thead th {\n",
       "        text-align: right;\n",
       "    }\n",
       "</style>\n",
       "<table border=\"1\" class=\"dataframe\">\n",
       "  <thead>\n",
       "    <tr style=\"text-align: right;\">\n",
       "      <th></th>\n",
       "      <th>acres_burned</th>\n",
       "    </tr>\n",
       "    <tr>\n",
       "      <th>fire_month</th>\n",
       "      <th></th>\n",
       "    </tr>\n",
       "  </thead>\n",
       "  <tbody>\n",
       "    <tr>\n",
       "      <th>Apr</th>\n",
       "      <td>19839.0</td>\n",
       "    </tr>\n",
       "    <tr>\n",
       "      <th>Aug</th>\n",
       "      <td>315578.8</td>\n",
       "    </tr>\n",
       "    <tr>\n",
       "      <th>Dec</th>\n",
       "      <td>30000.0</td>\n",
       "    </tr>\n",
       "    <tr>\n",
       "      <th>Feb</th>\n",
       "      <td>12000.0</td>\n",
       "    </tr>\n",
       "    <tr>\n",
       "      <th>Jan</th>\n",
       "      <td>10353.0</td>\n",
       "    </tr>\n",
       "    <tr>\n",
       "      <th>Jul</th>\n",
       "      <td>240207.0</td>\n",
       "    </tr>\n",
       "    <tr>\n",
       "      <th>Jun</th>\n",
       "      <td>162818.0</td>\n",
       "    </tr>\n",
       "    <tr>\n",
       "      <th>Mar</th>\n",
       "      <td>4100.0</td>\n",
       "    </tr>\n",
       "    <tr>\n",
       "      <th>May</th>\n",
       "      <td>47000.0</td>\n",
       "    </tr>\n",
       "    <tr>\n",
       "      <th>Nov</th>\n",
       "      <td>30305.0</td>\n",
       "    </tr>\n",
       "    <tr>\n",
       "      <th>Oct</th>\n",
       "      <td>280059.0</td>\n",
       "    </tr>\n",
       "    <tr>\n",
       "      <th>Sep</th>\n",
       "      <td>162702.0</td>\n",
       "    </tr>\n",
       "  </tbody>\n",
       "</table>\n",
       "</div>"
      ],
      "text/plain": [
       "            acres_burned\n",
       "fire_month              \n",
       "Apr              19839.0\n",
       "Aug             315578.8\n",
       "Dec              30000.0\n",
       "Feb              12000.0\n",
       "Jan              10353.0\n",
       "Jul             240207.0\n",
       "Jun             162818.0\n",
       "Mar               4100.0\n",
       "May              47000.0\n",
       "Nov              30305.0\n",
       "Oct             280059.0\n",
       "Sep             162702.0"
      ]
     },
     "execution_count": 64,
     "metadata": {},
     "output_type": "execute_result"
    }
   ],
   "source": [
    "df[df['state'] == 'CA'].groupby('fire_month').agg({'acres_burned':'max'})"
   ]
  },
  {
   "cell_type": "code",
   "execution_count": 51,
   "id": "c95584cb",
   "metadata": {},
   "outputs": [
    {
     "data": {
      "image/png": "[encoded data removed]",
      "text/plain": [
       "<Figure size 640x480 with 1 Axes>"
      ]
     },
     "metadata": {},
     "output_type": "display_data"
    }
   ],
   "source": [
    "df[df['state'] == 'CA'].groupby('fire_month').agg({'acres_burned':'max'}).plot.bar(xlabel='fire_month')\n",
    "plt.show()"
   ]
  },
  {
   "cell_type": "code",
   "execution_count": 77,
   "id": "4b7dd388",
   "metadata": {},
   "outputs": [
    {
     "data": {
      "text/html": [
       "<div>\n",
       "<style scoped>\n",
       "    .dataframe tbody tr th:only-of-type {\n",
       "        vertical-align: middle;\n",
       "    }\n",
       "\n",
       "    .dataframe tbody tr th {\n",
       "        vertical-align: top;\n",
       "    }\n",
       "\n",
       "    .dataframe thead th {\n",
       "        text-align: right;\n",
       "    }\n",
       "</style>\n",
       "<table border=\"1\" class=\"dataframe\">\n",
       "  <thead>\n",
       "    <tr style=\"text-align: right;\">\n",
       "      <th></th>\n",
       "      <th>state</th>\n",
       "    </tr>\n",
       "    <tr>\n",
       "      <th>fire_month</th>\n",
       "      <th></th>\n",
       "    </tr>\n",
       "  </thead>\n",
       "  <tbody>\n",
       "    <tr>\n",
       "      <th>Apr</th>\n",
       "      <td>341</td>\n",
       "    </tr>\n",
       "    <tr>\n",
       "      <th>Aug</th>\n",
       "      <td>2832</td>\n",
       "    </tr>\n",
       "    <tr>\n",
       "      <th>Dec</th>\n",
       "      <td>133</td>\n",
       "    </tr>\n",
       "    <tr>\n",
       "      <th>Feb</th>\n",
       "      <td>79</td>\n",
       "    </tr>\n",
       "    <tr>\n",
       "      <th>Jan</th>\n",
       "      <td>126</td>\n",
       "    </tr>\n",
       "    <tr>\n",
       "      <th>Jul</th>\n",
       "      <td>3426</td>\n",
       "    </tr>\n",
       "    <tr>\n",
       "      <th>Jun</th>\n",
       "      <td>2731</td>\n",
       "    </tr>\n",
       "    <tr>\n",
       "      <th>Mar</th>\n",
       "      <td>138</td>\n",
       "    </tr>\n",
       "    <tr>\n",
       "      <th>May</th>\n",
       "      <td>1351</td>\n",
       "    </tr>\n",
       "    <tr>\n",
       "      <th>Nov</th>\n",
       "      <td>369</td>\n",
       "    </tr>\n",
       "    <tr>\n",
       "      <th>Oct</th>\n",
       "      <td>1008</td>\n",
       "    </tr>\n",
       "    <tr>\n",
       "      <th>Sep</th>\n",
       "      <td>1765</td>\n",
       "    </tr>\n",
       "  </tbody>\n",
       "</table>\n",
       "</div>"
      ],
      "text/plain": [
       "            state\n",
       "fire_month       \n",
       "Apr           341\n",
       "Aug          2832\n",
       "Dec           133\n",
       "Feb            79\n",
       "Jan           126\n",
       "Jul          3426\n",
       "Jun          2731\n",
       "Mar           138\n",
       "May          1351\n",
       "Nov           369\n",
       "Oct          1008\n",
       "Sep          1765"
      ]
     },
     "execution_count": 77,
     "metadata": {},
     "output_type": "execute_result"
    }
   ],
   "source": [
    "df[df['state'] == 'CA'].groupby('fire_month').agg({'state':'count'}).sort_values(by=['fire_month'])"
   ]
  },
  {
   "cell_type": "code",
   "execution_count": 78,
   "id": "f7f73b95",
   "metadata": {},
   "outputs": [
    {
     "data": {
      "image/png": "[encoded data removed]",
      "text/plain": [
       "<Figure size 640x480 with 1 Axes>"
      ]
     },
     "metadata": {},
     "output_type": "display_data"
    }
   ],
   "source": [
    "df[df['state'] == 'CA'].groupby('fire_month').agg({'state':'count'}).plot.bar()\n",
    "plt.show()"
   ]
  },
  {
   "cell_type": "markdown",
   "id": "7410c5d8",
   "metadata": {},
   "source": [
    "Q4: Which are the 5-worst-affected states?  "
   ]
  },
  {
   "cell_type": "code",
   "execution_count": 85,
   "id": "151bf968",
   "metadata": {},
   "outputs": [
    {
     "data": {
      "text/html": [
       "<div>\n",
       "<style scoped>\n",
       "    .dataframe tbody tr th:only-of-type {\n",
       "        vertical-align: middle;\n",
       "    }\n",
       "\n",
       "    .dataframe tbody tr th {\n",
       "        vertical-align: top;\n",
       "    }\n",
       "\n",
       "    .dataframe thead th {\n",
       "        text-align: right;\n",
       "    }\n",
       "</style>\n",
       "<table border=\"1\" class=\"dataframe\">\n",
       "  <thead>\n",
       "    <tr style=\"text-align: right;\">\n",
       "      <th></th>\n",
       "      <th>acres_burned</th>\n",
       "    </tr>\n",
       "    <tr>\n",
       "      <th>state</th>\n",
       "      <th></th>\n",
       "    </tr>\n",
       "  </thead>\n",
       "  <tbody>\n",
       "    <tr>\n",
       "      <th>AK</th>\n",
       "      <td>3.222601e+07</td>\n",
       "    </tr>\n",
       "    <tr>\n",
       "      <th>AL</th>\n",
       "      <td>8.101628e+05</td>\n",
       "    </tr>\n",
       "    <tr>\n",
       "      <th>AR</th>\n",
       "      <td>4.502221e+05</td>\n",
       "    </tr>\n",
       "    <tr>\n",
       "      <th>AZ</th>\n",
       "      <td>5.532198e+06</td>\n",
       "    </tr>\n",
       "    <tr>\n",
       "      <th>CA</th>\n",
       "      <td>1.261078e+07</td>\n",
       "    </tr>\n",
       "    <tr>\n",
       "      <th>CO</th>\n",
       "      <td>1.827215e+06</td>\n",
       "    </tr>\n",
       "    <tr>\n",
       "      <th>CT</th>\n",
       "      <td>7.358200e+03</td>\n",
       "    </tr>\n",
       "    <tr>\n",
       "      <th>DE</th>\n",
       "      <td>4.674500e+03</td>\n",
       "    </tr>\n",
       "    <tr>\n",
       "      <th>FL</th>\n",
       "      <td>4.312279e+06</td>\n",
       "    </tr>\n",
       "    <tr>\n",
       "      <th>GA</th>\n",
       "      <td>1.360360e+06</td>\n",
       "    </tr>\n",
       "    <tr>\n",
       "      <th>HI</th>\n",
       "      <td>2.485287e+05</td>\n",
       "    </tr>\n",
       "    <tr>\n",
       "      <th>IA</th>\n",
       "      <td>6.529245e+04</td>\n",
       "    </tr>\n",
       "    <tr>\n",
       "      <th>ID</th>\n",
       "      <td>1.366231e+07</td>\n",
       "    </tr>\n",
       "    <tr>\n",
       "      <th>IL</th>\n",
       "      <td>1.986230e+04</td>\n",
       "    </tr>\n",
       "    <tr>\n",
       "      <th>IN</th>\n",
       "      <td>1.529801e+04</td>\n",
       "    </tr>\n",
       "    <tr>\n",
       "      <th>KS</th>\n",
       "      <td>9.160917e+05</td>\n",
       "    </tr>\n",
       "    <tr>\n",
       "      <th>KY</th>\n",
       "      <td>9.721039e+05</td>\n",
       "    </tr>\n",
       "    <tr>\n",
       "      <th>LA</th>\n",
       "      <td>6.063457e+05</td>\n",
       "    </tr>\n",
       "    <tr>\n",
       "      <th>MA</th>\n",
       "      <td>4.632000e+03</td>\n",
       "    </tr>\n",
       "    <tr>\n",
       "      <th>MD</th>\n",
       "      <td>6.440448e+04</td>\n",
       "    </tr>\n",
       "    <tr>\n",
       "      <th>ME</th>\n",
       "      <td>1.493570e+04</td>\n",
       "    </tr>\n",
       "    <tr>\n",
       "      <th>MI</th>\n",
       "      <td>1.260917e+05</td>\n",
       "    </tr>\n",
       "    <tr>\n",
       "      <th>MN</th>\n",
       "      <td>1.163885e+06</td>\n",
       "    </tr>\n",
       "    <tr>\n",
       "      <th>MO</th>\n",
       "      <td>4.300128e+05</td>\n",
       "    </tr>\n",
       "    <tr>\n",
       "      <th>MS</th>\n",
       "      <td>9.904230e+05</td>\n",
       "    </tr>\n",
       "    <tr>\n",
       "      <th>MT</th>\n",
       "      <td>6.253732e+06</td>\n",
       "    </tr>\n",
       "    <tr>\n",
       "      <th>NC</th>\n",
       "      <td>6.086031e+05</td>\n",
       "    </tr>\n",
       "    <tr>\n",
       "      <th>ND</th>\n",
       "      <td>3.937071e+05</td>\n",
       "    </tr>\n",
       "    <tr>\n",
       "      <th>NE</th>\n",
       "      <td>9.587343e+05</td>\n",
       "    </tr>\n",
       "    <tr>\n",
       "      <th>NH</th>\n",
       "      <td>1.232230e+03</td>\n",
       "    </tr>\n",
       "    <tr>\n",
       "      <th>NJ</th>\n",
       "      <td>1.162821e+05</td>\n",
       "    </tr>\n",
       "    <tr>\n",
       "      <th>NM</th>\n",
       "      <td>6.351078e+06</td>\n",
       "    </tr>\n",
       "    <tr>\n",
       "      <th>NV</th>\n",
       "      <td>9.006310e+06</td>\n",
       "    </tr>\n",
       "    <tr>\n",
       "      <th>NY</th>\n",
       "      <td>4.208940e+04</td>\n",
       "    </tr>\n",
       "    <tr>\n",
       "      <th>OH</th>\n",
       "      <td>1.889545e+04</td>\n",
       "    </tr>\n",
       "    <tr>\n",
       "      <th>OK</th>\n",
       "      <td>3.149021e+06</td>\n",
       "    </tr>\n",
       "    <tr>\n",
       "      <th>OR</th>\n",
       "      <td>8.386307e+06</td>\n",
       "    </tr>\n",
       "    <tr>\n",
       "      <th>PA</th>\n",
       "      <td>4.451585e+04</td>\n",
       "    </tr>\n",
       "    <tr>\n",
       "      <th>PR</th>\n",
       "      <td>1.043322e+05</td>\n",
       "    </tr>\n",
       "    <tr>\n",
       "      <th>RI</th>\n",
       "      <td>1.474500e+02</td>\n",
       "    </tr>\n",
       "    <tr>\n",
       "      <th>SC</th>\n",
       "      <td>4.057168e+05</td>\n",
       "    </tr>\n",
       "    <tr>\n",
       "      <th>SD</th>\n",
       "      <td>1.546152e+06</td>\n",
       "    </tr>\n",
       "    <tr>\n",
       "      <th>TN</th>\n",
       "      <td>4.359221e+05</td>\n",
       "    </tr>\n",
       "    <tr>\n",
       "      <th>TX</th>\n",
       "      <td>9.588463e+06</td>\n",
       "    </tr>\n",
       "    <tr>\n",
       "      <th>UT</th>\n",
       "      <td>4.097653e+06</td>\n",
       "    </tr>\n",
       "    <tr>\n",
       "      <th>VA</th>\n",
       "      <td>3.143203e+05</td>\n",
       "    </tr>\n",
       "    <tr>\n",
       "      <th>VT</th>\n",
       "      <td>9.857000e+02</td>\n",
       "    </tr>\n",
       "    <tr>\n",
       "      <th>WA</th>\n",
       "      <td>4.761197e+06</td>\n",
       "    </tr>\n",
       "    <tr>\n",
       "      <th>WI</th>\n",
       "      <td>6.583283e+04</td>\n",
       "    </tr>\n",
       "    <tr>\n",
       "      <th>WV</th>\n",
       "      <td>5.526963e+05</td>\n",
       "    </tr>\n",
       "    <tr>\n",
       "      <th>WY</th>\n",
       "      <td>2.390159e+06</td>\n",
       "    </tr>\n",
       "  </tbody>\n",
       "</table>\n",
       "</div>"
      ],
      "text/plain": [
       "       acres_burned\n",
       "state              \n",
       "AK     3.222601e+07\n",
       "AL     8.101628e+05\n",
       "AR     4.502221e+05\n",
       "AZ     5.532198e+06\n",
       "CA     1.261078e+07\n",
       "CO     1.827215e+06\n",
       "CT     7.358200e+03\n",
       "DE     4.674500e+03\n",
       "FL     4.312279e+06\n",
       "GA     1.360360e+06\n",
       "HI     2.485287e+05\n",
       "IA     6.529245e+04\n",
       "ID     1.366231e+07\n",
       "IL     1.986230e+04\n",
       "IN     1.529801e+04\n",
       "KS     9.160917e+05\n",
       "KY     9.721039e+05\n",
       "LA     6.063457e+05\n",
       "MA     4.632000e+03\n",
       "MD     6.440448e+04\n",
       "ME     1.493570e+04\n",
       "MI     1.260917e+05\n",
       "MN     1.163885e+06\n",
       "MO     4.300128e+05\n",
       "MS     9.904230e+05\n",
       "MT     6.253732e+06\n",
       "NC     6.086031e+05\n",
       "ND     3.937071e+05\n",
       "NE     9.587343e+05\n",
       "NH     1.232230e+03\n",
       "NJ     1.162821e+05\n",
       "NM     6.351078e+06\n",
       "NV     9.006310e+06\n",
       "NY     4.208940e+04\n",
       "OH     1.889545e+04\n",
       "OK     3.149021e+06\n",
       "OR     8.386307e+06\n",
       "PA     4.451585e+04\n",
       "PR     1.043322e+05\n",
       "RI     1.474500e+02\n",
       "SC     4.057168e+05\n",
       "SD     1.546152e+06\n",
       "TN     4.359221e+05\n",
       "TX     9.588463e+06\n",
       "UT     4.097653e+06\n",
       "VA     3.143203e+05\n",
       "VT     9.857000e+02\n",
       "WA     4.761197e+06\n",
       "WI     6.583283e+04\n",
       "WV     5.526963e+05\n",
       "WY     2.390159e+06"
      ]
     },
     "execution_count": 85,
     "metadata": {},
     "output_type": "execute_result"
    }
   ],
   "source": [
    "df.groupby('state').agg({'acres_burned':'sum'})"
   ]
  },
  {
   "cell_type": "code",
   "execution_count": 84,
   "id": "f0d675b7",
   "metadata": {},
   "outputs": [
    {
     "data": {
      "text/plain": [
       "<AxesSubplot: xlabel='state'>"
      ]
     },
     "execution_count": 84,
     "metadata": {},
     "output_type": "execute_result"
    },
    {
     "data": {
      "image/png": "[encoded data removed]",
      "text/plain": [
       "<Figure size 640x480 with 1 Axes>"
      ]
     },
     "metadata": {},
     "output_type": "display_data"
    }
   ],
   "source": [
    "df.groupby('state').agg({'acres_burned':'sum'}).sort_values(by=['acres_burned'], ascending=False).head(5).plot.bar()"
   ]
  },
  {
   "cell_type": "code",
   "execution_count": 86,
   "id": "7daf9a35",
   "metadata": {},
   "outputs": [
    {
     "data": {
      "text/plain": [
       "<AxesSubplot: xlabel='state'>"
      ]
     },
     "execution_count": 86,
     "metadata": {},
     "output_type": "execute_result"
    },
    {
     "data": {
      "image/png": "[encoded data removed]",
      "text/plain": [
       "<Figure size 640x480 with 1 Axes>"
      ]
     },
     "metadata": {},
     "output_type": "display_data"
    }
   ],
   "source": [
    "df.groupby('state').agg({'acres_burned':'sum'}).sort_values(by=['acres_burned'], ascending=False).head(5).plot.bar(rot=0)"
   ]
  },
  {
   "cell_type": "markdown",
   "id": "238aac44",
   "metadata": {},
   "source": [
    "Q5.a: For the worst_affected state, find the top-5 years with the largest total coverage of fires?"
   ]
  },
  {
   "cell_type": "markdown",
   "id": "12fe500b",
   "metadata": {},
   "source": [
    "Q5.b: For the worst_affected state, which was the most devastating year?"
   ]
  },
  {
   "cell_type": "code",
   "execution_count": 92,
   "id": "92d9627e",
   "metadata": {},
   "outputs": [
    {
     "data": {
      "text/plain": [
       "array([2005, 2009, 1992, 1993, 1996, 1997, 1998, 1999, 2001, 1994, 1995,\n",
       "       2000, 2002, 2003, 2004, 2006, 2007, 2008, 2010, 2011, 2012, 2013,\n",
       "       2014, 2015], dtype=int64)"
      ]
     },
     "execution_count": 92,
     "metadata": {},
     "output_type": "execute_result"
    }
   ],
   "source": [
    "df[df['state'] == 'AK']['fire_year'].unique()"
   ]
  },
  {
   "cell_type": "code",
   "execution_count": 97,
   "id": "b0fa490c",
   "metadata": {},
   "outputs": [
    {
     "data": {
      "text/html": [
       "<div>\n",
       "<style scoped>\n",
       "    .dataframe tbody tr th:only-of-type {\n",
       "        vertical-align: middle;\n",
       "    }\n",
       "\n",
       "    .dataframe tbody tr th {\n",
       "        vertical-align: top;\n",
       "    }\n",
       "\n",
       "    .dataframe thead th {\n",
       "        text-align: right;\n",
       "    }\n",
       "</style>\n",
       "<table border=\"1\" class=\"dataframe\">\n",
       "  <thead>\n",
       "    <tr style=\"text-align: right;\">\n",
       "      <th></th>\n",
       "      <th></th>\n",
       "      <th>acres_burned</th>\n",
       "    </tr>\n",
       "    <tr>\n",
       "      <th>state</th>\n",
       "      <th>fire_year</th>\n",
       "      <th></th>\n",
       "    </tr>\n",
       "  </thead>\n",
       "  <tbody>\n",
       "    <tr>\n",
       "      <th rowspan=\"5\" valign=\"top\">AK</th>\n",
       "      <th>2004</th>\n",
       "      <td>6.591431e+06</td>\n",
       "    </tr>\n",
       "    <tr>\n",
       "      <th>2015</th>\n",
       "      <td>5.136373e+06</td>\n",
       "    </tr>\n",
       "    <tr>\n",
       "      <th>2005</th>\n",
       "      <td>4.635536e+06</td>\n",
       "    </tr>\n",
       "    <tr>\n",
       "      <th>2009</th>\n",
       "      <td>2.949289e+06</td>\n",
       "    </tr>\n",
       "    <tr>\n",
       "      <th>2002</th>\n",
       "      <td>2.186329e+06</td>\n",
       "    </tr>\n",
       "  </tbody>\n",
       "</table>\n",
       "</div>"
      ],
      "text/plain": [
       "                 acres_burned\n",
       "state fire_year              \n",
       "AK    2004       6.591431e+06\n",
       "      2015       5.136373e+06\n",
       "      2005       4.635536e+06\n",
       "      2009       2.949289e+06\n",
       "      2002       2.186329e+06"
      ]
     },
     "execution_count": 97,
     "metadata": {},
     "output_type": "execute_result"
    }
   ],
   "source": [
    "df[df['state'] == 'AK'].groupby(['state','fire_year']).agg({'acres_burned':'sum'}).sort_values(by='acres_burned', ascending=False).head(5)"
   ]
  },
  {
   "cell_type": "code",
   "execution_count": 100,
   "id": "8c55ad89",
   "metadata": {},
   "outputs": [
    {
     "data": {
      "text/plain": [
       "<AxesSubplot: xlabel='state,fire_year'>"
      ]
     },
     "execution_count": 100,
     "metadata": {},
     "output_type": "execute_result"
    },
    {
     "data": {
      "image/png": "[encoded data removed]",
      "text/plain": [
       "<Figure size 640x480 with 1 Axes>"
      ]
     },
     "metadata": {},
     "output_type": "display_data"
    }
   ],
   "source": [
    "df[df['state'] == 'AK'].groupby(['state','fire_year']).agg({'acres_burned':'sum'}).sort_values(by='acres_burned', ascending=False).head(5).plot.bar(rot=0)"
   ]
  },
  {
   "cell_type": "code",
   "execution_count": 98,
   "id": "48e3dc7c",
   "metadata": {},
   "outputs": [
    {
     "data": {
      "text/html": [
       "<div>\n",
       "<style scoped>\n",
       "    .dataframe tbody tr th:only-of-type {\n",
       "        vertical-align: middle;\n",
       "    }\n",
       "\n",
       "    .dataframe tbody tr th {\n",
       "        vertical-align: top;\n",
       "    }\n",
       "\n",
       "    .dataframe thead th {\n",
       "        text-align: right;\n",
       "    }\n",
       "</style>\n",
       "<table border=\"1\" class=\"dataframe\">\n",
       "  <thead>\n",
       "    <tr style=\"text-align: right;\">\n",
       "      <th></th>\n",
       "      <th></th>\n",
       "      <th>acres_burned</th>\n",
       "    </tr>\n",
       "    <tr>\n",
       "      <th>state</th>\n",
       "      <th>fire_year</th>\n",
       "      <th></th>\n",
       "    </tr>\n",
       "  </thead>\n",
       "  <tbody>\n",
       "    <tr>\n",
       "      <th>AK</th>\n",
       "      <th>2004</th>\n",
       "      <td>6.591431e+06</td>\n",
       "    </tr>\n",
       "  </tbody>\n",
       "</table>\n",
       "</div>"
      ],
      "text/plain": [
       "                 acres_burned\n",
       "state fire_year              \n",
       "AK    2004       6.591431e+06"
      ]
     },
     "execution_count": 98,
     "metadata": {},
     "output_type": "execute_result"
    }
   ],
   "source": [
    "df[df['state'] == 'AK'].groupby(['state','fire_year']).agg({'acres_burned':'sum'}).sort_values(by='acres_burned', ascending=False).head(1)"
   ]
  }
 ],
 "metadata": {
  "kernelspec": {
   "display_name": "Python 3 (ipykernel)",
   "language": "python",
   "name": "python3"
  },
  "language_info": {
   "codemirror_mode": {
    "name": "ipython",
    "version": 3
   },
   "file_extension": ".py",
   "mimetype": "text/x-python",
   "name": "python",
   "nbconvert_exporter": "python",
   "pygments_lexer": "ipython3",
   "version": "3.10.11"
  }
 },
 "nbformat": 4,
 "nbformat_minor": 5
}
