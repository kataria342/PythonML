{
 "cells": [
  {
   "cell_type": "code",
   "execution_count": 2,
   "metadata": {},
   "outputs": [],
   "source": [
    "import pandas as pd\n",
    "\n",
    "from sklearn.neighbors import NearestNeighbors\n",
    "import tensorflow_hub as hub\n"
   ]
  },
  {
   "cell_type": "code",
   "execution_count": 3,
   "metadata": {},
   "outputs": [
    {
     "ename": "ValueError",
     "evalue": "Trying to load a model of incompatible/unknown type. 'C:\\Users\\prabh\\AppData\\Local\\Temp\\tfhub_modules\\063d866c06683311b44b4992fd46003be952409c' contains neither 'saved_model.pb' nor 'saved_model.pbtxt'.",
     "output_type": "error",
     "traceback": [
      "\u001b[1;31m---------------------------------------------------------------------------\u001b[0m",
      "\u001b[1;31mValueError\u001b[0m                                Traceback (most recent call last)",
      "Cell \u001b[1;32mIn[3], line 2\u001b[0m\n\u001b[0;32m      1\u001b[0m model_url \u001b[39m=\u001b[39m \u001b[39m'\u001b[39m\u001b[39mhttps://tfhub.dev/google/universal-sentence-encoder/4\u001b[39m\u001b[39m'\u001b[39m\n\u001b[1;32m----> 2\u001b[0m model \u001b[39m=\u001b[39m hub\u001b[39m.\u001b[39;49mload(model_url)\n",
      "File \u001b[1;32m~\\AppData\\Local\\Packages\\PythonSoftwareFoundation.Python.3.10_qbz5n2kfra8p0\\LocalCache\\local-packages\\Python310\\site-packages\\tensorflow_hub\\module_v2.py:107\u001b[0m, in \u001b[0;36mload\u001b[1;34m(handle, tags, options)\u001b[0m\n\u001b[0;32m    102\u001b[0m saved_model_pbtxt_path \u001b[39m=\u001b[39m os\u001b[39m.\u001b[39mpath\u001b[39m.\u001b[39mjoin(\n\u001b[0;32m    103\u001b[0m     tf\u001b[39m.\u001b[39mcompat\u001b[39m.\u001b[39mas_bytes(module_path),\n\u001b[0;32m    104\u001b[0m     tf\u001b[39m.\u001b[39mcompat\u001b[39m.\u001b[39mas_bytes(tf\u001b[39m.\u001b[39msaved_model\u001b[39m.\u001b[39mSAVED_MODEL_FILENAME_PBTXT))\n\u001b[0;32m    105\u001b[0m \u001b[39mif\u001b[39;00m (\u001b[39mnot\u001b[39;00m tf\u001b[39m.\u001b[39mio\u001b[39m.\u001b[39mgfile\u001b[39m.\u001b[39mexists(saved_model_path) \u001b[39mand\u001b[39;00m\n\u001b[0;32m    106\u001b[0m     \u001b[39mnot\u001b[39;00m tf\u001b[39m.\u001b[39mio\u001b[39m.\u001b[39mgfile\u001b[39m.\u001b[39mexists(saved_model_pbtxt_path)):\n\u001b[1;32m--> 107\u001b[0m   \u001b[39mraise\u001b[39;00m \u001b[39mValueError\u001b[39;00m(\u001b[39m\"\u001b[39m\u001b[39mTrying to load a model of incompatible/unknown type. \u001b[39m\u001b[39m\"\u001b[39m\n\u001b[0;32m    108\u001b[0m                    \u001b[39m\"\u001b[39m\u001b[39m'\u001b[39m\u001b[39m%s\u001b[39;00m\u001b[39m'\u001b[39m\u001b[39m contains neither \u001b[39m\u001b[39m'\u001b[39m\u001b[39m%s\u001b[39;00m\u001b[39m'\u001b[39m\u001b[39m nor \u001b[39m\u001b[39m'\u001b[39m\u001b[39m%s\u001b[39;00m\u001b[39m'\u001b[39m\u001b[39m.\u001b[39m\u001b[39m\"\u001b[39m \u001b[39m%\u001b[39m\n\u001b[0;32m    109\u001b[0m                    (module_path, tf\u001b[39m.\u001b[39msaved_model\u001b[39m.\u001b[39mSAVED_MODEL_FILENAME_PB,\n\u001b[0;32m    110\u001b[0m                     tf\u001b[39m.\u001b[39msaved_model\u001b[39m.\u001b[39mSAVED_MODEL_FILENAME_PBTXT))\n\u001b[0;32m    112\u001b[0m \u001b[39mif\u001b[39;00m options:\n\u001b[0;32m    113\u001b[0m   \u001b[39mif\u001b[39;00m \u001b[39mnot\u001b[39;00m \u001b[39mhasattr\u001b[39m(\u001b[39mgetattr\u001b[39m(tf, \u001b[39m\"\u001b[39m\u001b[39msaved_model\u001b[39m\u001b[39m\"\u001b[39m, \u001b[39mNone\u001b[39;00m), \u001b[39m\"\u001b[39m\u001b[39mLoadOptions\u001b[39m\u001b[39m\"\u001b[39m):\n",
      "\u001b[1;31mValueError\u001b[0m: Trying to load a model of incompatible/unknown type. 'C:\\Users\\prabh\\AppData\\Local\\Temp\\tfhub_modules\\063d866c06683311b44b4992fd46003be952409c' contains neither 'saved_model.pb' nor 'saved_model.pbtxt'."
     ]
    }
   ],
   "source": [
    "model_url = 'https://tfhub.dev/google/universal-sentence-encoder/4'\n",
    "model = hub.load(model_url)"
   ]
  },
  {
   "cell_type": "code",
   "execution_count": 4,
   "metadata": {},
   "outputs": [],
   "source": [
    "from nltk.tokenize import word_tokenize\n",
    "import re\n",
    "from nltk.corpus import stopwords\n",
    "from nltk.stem import WordNetLemmatizer\n",
    "from nltk import pos_tag\n",
    "from textblob import TextBlob\n",
    "\n",
    "def tokenization(text):\n",
    "    # REMOVING PUNCTUATIONS\n",
    "    inputText = re.sub(r'[^\\w\\s]','',text)\n",
    "    inputText = re.sub(r'\\d+', '', inputText)\n",
    "    lowerString = inputText.lower()\n",
    "    wordToknized = word_tokenize(lowerString)\n",
    "    return wordToknized\n",
    "\n",
    "def removeStopwords(tokens):\n",
    "    wordList = stopwords.words('english')\n",
    "    filtered_words = [word for word in tokens if word not in wordList]\n",
    "    \n",
    "    return filtered_words\n",
    "\n",
    "def wordlemmatize(tokens):\n",
    "    lemmatizer = WordNetLemmatizer()\n",
    "    lemmatized_words = []\n",
    "    noun = ['NN', 'NNS', 'NNP', 'NNPS']\n",
    "    verb = ['VB','VBD','VBG','VBN','VBP','VBZ']\n",
    "    adverb = ['RB', 'RBR', 'RBS' ]\n",
    "    adjective = ['JJ','JJR','JJS']\n",
    "    for word in tokens:\n",
    "        postTag = dict(pos_tag([word]))\n",
    "        if postTag[word] in noun:\n",
    "            lemmatized_words.append(lemmatizer.lemmatize(word, pos='n'))\n",
    "        elif postTag[word] in verb:\n",
    "            lemmatized_words.append(lemmatizer.lemmatize(word, pos='v'))\n",
    "        elif postTag[word] in adjective:\n",
    "            lemmatized_words.append(lemmatizer.lemmatize(word, pos='a'))\n",
    "        elif postTag[word] in adverb:\n",
    "            lemmatized_words.append(lemmatizer.lemmatize(word, pos='r'))\n",
    "        else:\n",
    "            lemmatized_words.append(lemmatizer.lemmatize(word))\n",
    "    \n",
    "    return lemmatized_words\n",
    "\n",
    "def correct_spelling(text):\n",
    "    blob = TextBlob(text)\n",
    "    corrected_text = str(blob.correct())\n",
    "    return corrected_text"
   ]
  },
  {
   "cell_type": "code",
   "execution_count": 10,
   "metadata": {},
   "outputs": [
    {
     "data": {
      "text/plain": [
       "'An orphaned boy enrolls in a school of wizardry, where he learns the truth about himself, his family and the terrible evil that haunts the magical world.\\nLord Voldemort, an evil and powerful dark wizard, has just been defeated. When he tried to kill a one-year-old boy, Harry Potter (Daniel Radcliffe), the killing curse rebounded upon him, destroying his body. Harry is left an orphan with a lightning-bolt scar on his forehead, Voldemort having killed his parents, Lily (Geraldine Somerville) and James (Adrian Rawlins) Potter. Professors Dumbledore (Richard Harris) and McGonagall (Dame Maggie Smith) and Gamekeeper Hagrid (Robbie Coltrane) leave him on the doorstep of his ultra-conventional, insensitive, negligent Muggle (non-magical) relatives, the Dursley family, who take him in. Harry\\'s relatives decide to conceal his magical heritage from him and make him live in a cupboard under the stairs for ten years.Shortly before Harry\\'s eleventh birthday, he receives a letter addressed specifically to him. His outraged uncle, however, reads and burns it before Harry has a chance to look at the contents. The sender does not give up, and the Dursleys receive successively larger numbers of the same correspondence. Soon, his Uncle Vernon (Richard Griffiths) becomes so paranoid that the Dursleys, with Harry in tow, hide in a hut on a small island to escape. That night (which happens to be before Harry\\'s birthday), he is visited by an enormous man named Hagrid who bursts through the locked door of the hut. With Hagrid holding the Dursleys at bay, Harry finally reads his letter, in which he learns he has been invited to study magic at Hogwarts School of Witchcraft and Wizardry. The next day Harry and Hagrid head to Diagon Alley in London (the secret magical location hidden behind the famous wizarding pub The Leaky Cauldron). Harry enters the wizarding world for the first time, learns to his surprise that he is famous, and meets the new Hogwarts Defense Against the Dark Arts teacher, Professor Quirrell (Ian Hart). Hagrid takes Harry to Gringott\\'s Bank, where Harry learns that he is quite wealthy. Following this, Hagrid stops at a different vault to retrieve a small, wrapped parcel for Dumbledore. Using his newfound money, Harry buys everything he requires for his first school year, including and owl, and a wand. Interestingly, the wand that chooses him is the brother wand of the one that was used to kill Harry\\'s parents and give him the scar. He then takes the train to Hogwarts from Platform Nine and three-quarters, befriending Ron Weasley (Rupert Grint), and meeting Hermione Granger (Emma Watson), a Muggle-born witch.Upon arrival, the Sorting Hat places Harry, Ron and Hermione in Gryffindor House. Draco Malfoy (Tom Felton), an arrogant and elitist student, gets placed in Slytherin. At the end of their first week at Hogwarts, Harry and Ron discover that Gringotts, the wizarding bank, was broken into and a vault that Harry and Hagrid visited had been the subject of the robbery. Later, Harry discovers he has a talent for riding broomsticks, and after an incident with Malfoy, is recruited to join Gryffindor\\'s Quidditch team as a Seeker, much to Malfoy\\'s displeasure.Harry, Ron, Hermione explore Hogwarts late at night and accidentally stumble across the door to a corridor. A three-headed dog, christened Fluffy by Hagrid, guards a trapdoor. On Halloween, Quirrell informs everyone that a troll has entered the castle; Harry and Ron fight the troll to save Hermione, who is trapped in the girls\\' bathroom, and the three become best friends.At Harry\\'s first Quidditch match, Harry\\'s broom becomes possessed, nearly knocking him off. Hermione sees Professor Severus Snape (Alan Rickman), the sinister Potions master and head of Slytherin House, staring at Harry and mouthing words, making her believe that Snape has caused the broom to misbehave with a dark curse. Hoping to save Harry, Hermione sets Snape\\'s robes on fire, distracting him and others and allowing Harry to survive.At Christmas, Harry receives an Invisibility Cloak, once belonging to his father, which renders its wearer invisible. Harry uses it to explore the Restricted Section in the library to research information on Nicolas Flamel, a name Hagrid lets slip when confronted about his knowledge of Fluffy. Eventually, Harry learns that \"Nicolas Flamel is the only known maker of the Sorcerer\\'s Stone, which produces the Elixir of Life which will make the drinker immortal.\"Harry sees Snape trying to get information from Quirrell about getting past Fluffy; Quirrell says he does not know what he\\'s talking about. Harry, Ron, and Hermione are sure that Snape is trying to steal the Sorcerer\\'s Stone in order to restore Lord Voldemort to power, but Hagrid denies it. While at Hagrid\\'s hut, the trio discover a dragon egg Hagrid was nursing in a fire. Later the egg hatches a Norwegian Ridgeback dragon, and Hagrid decides to call him \"Norbert\". The friends are nervous for Hagrid, since dragon breeding had long been outlawed in the wizarding world, and Hagrid had something of a reckless nature, who has long since nursed a strong desire for a dragon. Finally, Harry, Ron, and Hermione are able to convince Hagrid to let Norbert go live with other dragons of his kind in Romania.Harry, Hermione, Ron and Draco are caught out late at night, and are forced to serve detention with Hagrid in the Forbidden Forest. Harry sees a hooded figure drink the blood of an injured unicorn, which makes Harry\\'s forehead scar start burning. Firenze, a centaur, tells Harry that it is a monstrous thing to slay a unicorn, let alone drink its blood. He also tells Harry that unicorn blood will keep one alive, and that the hooded figure is in fact Voldemort.Harry, Hermione and Ron find out that Hagrid has told a hooded stranger how to get past Fluffy, and they believe the theft of the Stone is imminent. Rushing to finally confide in Professor Dumbledore their news, they meet Professor McGonagall, who is shocked to find out how much they knew about the Stone, but reassures them all the same that it is safe in the castle. She also tells them that Dumbledore has been sent away on an important mission by the Ministry of Magic. Positive that Dumbledore\\'s summons was a red herring to take Professor Dumbledore away from Hogwarts, the trio make plans to thwart Snape\\'s theft of the stone. They set out to reach the stone first, navigating the security system set up by the school\\'s staff, which is a series of complex magical challenges. The three make it through together until finally, Harry must enter the inner chamber alone. There he finds that Professor Quirrell, not Snape, is attempting to steal the Stone. Realizing that Snape was trying to protect him from harm all along, Harry confronts Quirrell and survives a second encounter with Lord Voldemort, who has possessed Quirrell and appears as a ghastly face on the back of Quirrell\\'s head. Quirrell crumbles when he touches Harry\\'s skin, and Harry passes out because of his close proximity to Lord Voldemort. Voldemort then pitilessly abandons Quirrell, who dies in the aftermath of his possession.Harry wakes up in the hospital wing. Dumbledore reveals to Harry that Harry\\'s mother died to protect Harry as an infant. Her pure, loving sacrifice provides Harry with an ancient magical protection from Voldemort\\'s lethal spells and also prevents Voldemort from touching Harry without suffering terribly. Dumbledore also says that the Sorcerer\\'s Stone has been destroyed to prevent future attempts by Voldemort to steal it.Finally, at the end-of-year feast, the House Points totals are given: Gryffindor is in last place. However, Dumbledore gives a few \"last-minute additions\", granting points to Harry, Ron, Hermione and Neville for their bravery and service towards school, so that Gryffindor wins the House Cup. Harry returns to the Dursleys for the summer, happy to finally have a real home in Hogwarts.'"
      ]
     },
     "execution_count": 10,
     "metadata": {},
     "output_type": "execute_result"
    }
   ],
   "source": [
    "df = pd.read_csv('Movie-2023-06-15.csv')[['description','name']]\n",
    "description = list(df['description'])\n",
    "\n",
    "description[0]"
   ]
  },
  {
   "cell_type": "code",
   "execution_count": 15,
   "metadata": {},
   "outputs": [],
   "source": [
    "pipeline_functions = [correct_spelling, tokenization, removeStopwords, wordlemmatize]\n",
    "final_synopsis =[]\n",
    "for i in range(len(description)):\n",
    "    processed_data = description[i]\n",
    "    for func in pipeline_functions:\n",
    "        processed_data = func(processed_data)\n",
    "\n",
    "    final_result = processed_data\n",
    "    final_text = ' '.join(final_result)\n",
    "    final_synopsis.append(final_text)\n",
    "#print('Final Processed Text',final_result)"
   ]
  },
  {
   "cell_type": "code",
   "execution_count": 19,
   "metadata": {},
   "outputs": [],
   "source": [
    "final_synopsis\n",
    "pd.DataFrame(final_synopsis).to_csv('ProcessSynopsis')"
   ]
  },
  {
   "cell_type": "code",
   "execution_count": 14,
   "metadata": {},
   "outputs": [
    {
     "name": "stdout",
     "output_type": "stream",
     "text": [
      "orphan boy enrol school wizard learns truth family terrible evil taunt magical world word voldemort evil powerful dark wizard defeat try kill oneyearold boy carry daniel radcliffe kill curse resound upon destroy body carry left orphan lightningbolt scar forehead voldemort kill parent oily geraldine somerville james adrian rawlins professor dumbledore richard harris mcgonagall maggie smith gamekeeper madrid hobby coltrane leave footstep ultraconventional insensitive negligent jungle nonmagical relative horsley family take carry relative decide conceal magical heritage make live cupboard stair ten yearsshortly carry eleventh birthday receives letter address specifically outrage uncle however read burn carry chance look content tender give dursleys receive successively large number correspondence soon uncle vernon richard griffith becomes paranoid dursleys carry tow hide hut small island escape night happens carry birthday visit enormous man name madrid burst lock door hut madrid hold dursleys bay carry finally read letter learns invite study magic hogwarts school witchcraft wizardry next day carry madrid head wagon alley london secret magical location hidden behind famous ward pub ready cauldron carry enters ward world first time learns surprise famous meet new hogwarts defense dark art teacher professor quirrell part madrid take carry gringotts bank carry learns quite wealthy follow madrid stop different vault retrieve small wrap parcel dumbledore use newfound money carry busy everything require first school year include owl wand interestingly wand chooses brother wand one use kill carry parent give scar take train hogwarts platform line threequarters befriending measles superb print meeting ermine ranger emma watson jungleborn witchupon arrival sort place carry ermine gryffindor house race malfoy tom elson arrogant elicit student get place slytherin end first week hogwarts carry discover gringotts ward bank broken vault carry madrid visit subject robbery later carry discovers talent rid broomstick incident malfoy recruit join gryffindors quidditch team seeker much malfoys displeasurecarry ermine explore hogwarts late night accidentally stumble across door corridor threeheaded dog christen fluffy madrid guard trapdoor halloween quirrell informs everyone toll enter castle carry fight toll save ermine wrap girl bathroom three become best friendsit carry first quidditch match carry broom becomes possess nearly knock ermine see professor lever nape plan rickman sinister notion master head slytherin house star carry nothing word make believe nape cause broom misbehave dark curse hop save carry ermine set nape robe fire distract others allow carry surviveit christmas carry receives visibility cloak belonging father render wearer invisible carry us explore restrict section library research information nicholas blame name madrid let slip confront knowledge fluffy eventually carry learns nicholas blame know maker sorcerer tone produce elixir life make drinker immortalcarry see nape try get information quirrell get past fluffy quirrell say know he talk carry ermine sure nape try steal sorcerer tone order restore word voldemort power madrid deny madrid hut trip discover dragon egg madrid nursing fire later egg patch norwegian ridgeback dragon madrid decides call robert friend nervous madrid since dragon breeding long outlaw ward world madrid something reckless nature long since nurse strong desire dragon finally carry ermine able convince madrid let robert go live dragoon kind maniacarry ermine race caught late night force serve detention madrid forbidden forest carry see hood figure drink blood injured unicorn make carry forehead scar start burning irene century tell carry monstrous thing slay unicorn let alone drink blood also tell carry unicorn blood keep one alive hood figure fact voldemortcarry ermine find madrid told hood stranger get past fluffy believe theft tone imminent push finally confide professor dumbledore news meet professor mcgonagall shock find much knew tone reassure safe castle also tell dumbledore sent away important mission ministry magic positive dumbledores summons red hearing take professor dumbledore away hogwarts trip make plan thwart nape theft stone set reach stone first navigation security system set school staff series complex magical challenge three make together finally carry must enter inner chamber alone find professor quirrell nape attempt steal tone realize nape try protect harm along carry confront quirrell survives second encounter word voldemort possess quirrell appear ghastly face back quirrells head quirrell crumbles touch carry skin carry pass close proximity word voldemort voldemort pitiless abandon quirrell dy aftermath possessioncarry wake hospital wing dumbledore reveals carry carry mother die protect carry infant pure love sacrifice provide carry ancient magical protection voldemorts lethal spell also prevents voldemort touch carry without suffer terribly dumbledore also say sorcerer tone destroyed prevent future attempt voldemort steal itfinally endofyear feast house joint total give gryffindor last place however dumbledore give lastminute addition grant point carry ermine neville bravery service towards school gryffindor win house carry return dursleys summer happy finally real home hogwarts\n"
     ]
    }
   ],
   "source": [
    "final_text = ' '.join(final_result)\n",
    "print(final_text)"
   ]
  },
  {
   "cell_type": "code",
   "execution_count": 1,
   "metadata": {},
   "outputs": [
    {
     "ename": "NameError",
     "evalue": "name 'description' is not defined",
     "output_type": "error",
     "traceback": [
      "\u001b[1;31m---------------------------------------------------------------------------\u001b[0m",
      "\u001b[1;31mNameError\u001b[0m                                 Traceback (most recent call last)",
      "Cell \u001b[1;32mIn[1], line 1\u001b[0m\n\u001b[1;32m----> 1\u001b[0m description\n",
      "\u001b[1;31mNameError\u001b[0m: name 'description' is not defined"
     ]
    }
   ],
   "source": [
    "description"
   ]
  },
  {
   "cell_type": "code",
   "execution_count": 4,
   "metadata": {},
   "outputs": [
    {
     "data": {
      "text/plain": [
       "<tf.Tensor: shape=(89, 512), dtype=float32, numpy=\n",
       "array([[-0.00384051,  0.0426361 ,  0.0219461 , ...,  0.04996588,\n",
       "         0.05043023, -0.0434497 ],\n",
       "       [-0.01248753,  0.03504341, -0.04612051, ...,  0.04951605,\n",
       "         0.05161136, -0.05100219],\n",
       "       [ 0.0324989 ,  0.00092554, -0.04940296, ...,  0.04821357,\n",
       "         0.04940806, -0.04940758],\n",
       "       ...,\n",
       "       [ 0.0397782 , -0.02828955, -0.03873897, ..., -0.03066262,\n",
       "         0.05211931, -0.05258561],\n",
       "       [ 0.04527739,  0.04157003,  0.03557713, ...,  0.05006167,\n",
       "         0.05043361,  0.05042665],\n",
       "       [ 0.04327534,  0.03478754,  0.05392738, ..., -0.0504896 ,\n",
       "         0.0555308 , -0.05007016]], dtype=float32)>"
      ]
     },
     "execution_count": 4,
     "metadata": {},
     "output_type": "execute_result"
    }
   ],
   "source": [
    "embedding = model(description)\n",
    "embedding"
   ]
  },
  {
   "cell_type": "code",
   "execution_count": 5,
   "metadata": {},
   "outputs": [
    {
     "data": {
      "text/html": [
       "<style>#sk-container-id-1 {color: black;background-color: white;}#sk-container-id-1 pre{padding: 0;}#sk-container-id-1 div.sk-toggleable {background-color: white;}#sk-container-id-1 label.sk-toggleable__label {cursor: pointer;display: block;width: 100%;margin-bottom: 0;padding: 0.3em;box-sizing: border-box;text-align: center;}#sk-container-id-1 label.sk-toggleable__label-arrow:before {content: \"▸\";float: left;margin-right: 0.25em;color: #696969;}#sk-container-id-1 label.sk-toggleable__label-arrow:hover:before {color: black;}#sk-container-id-1 div.sk-estimator:hover label.sk-toggleable__label-arrow:before {color: black;}#sk-container-id-1 div.sk-toggleable__content {max-height: 0;max-width: 0;overflow: hidden;text-align: left;background-color: #f0f8ff;}#sk-container-id-1 div.sk-toggleable__content pre {margin: 0.2em;color: black;border-radius: 0.25em;background-color: #f0f8ff;}#sk-container-id-1 input.sk-toggleable__control:checked~div.sk-toggleable__content {max-height: 200px;max-width: 100%;overflow: auto;}#sk-container-id-1 input.sk-toggleable__control:checked~label.sk-toggleable__label-arrow:before {content: \"▾\";}#sk-container-id-1 div.sk-estimator input.sk-toggleable__control:checked~label.sk-toggleable__label {background-color: #d4ebff;}#sk-container-id-1 div.sk-label input.sk-toggleable__control:checked~label.sk-toggleable__label {background-color: #d4ebff;}#sk-container-id-1 input.sk-hidden--visually {border: 0;clip: rect(1px 1px 1px 1px);clip: rect(1px, 1px, 1px, 1px);height: 1px;margin: -1px;overflow: hidden;padding: 0;position: absolute;width: 1px;}#sk-container-id-1 div.sk-estimator {font-family: monospace;background-color: #f0f8ff;border: 1px dotted black;border-radius: 0.25em;box-sizing: border-box;margin-bottom: 0.5em;}#sk-container-id-1 div.sk-estimator:hover {background-color: #d4ebff;}#sk-container-id-1 div.sk-parallel-item::after {content: \"\";width: 100%;border-bottom: 1px solid gray;flex-grow: 1;}#sk-container-id-1 div.sk-label:hover label.sk-toggleable__label {background-color: #d4ebff;}#sk-container-id-1 div.sk-serial::before {content: \"\";position: absolute;border-left: 1px solid gray;box-sizing: border-box;top: 0;bottom: 0;left: 50%;z-index: 0;}#sk-container-id-1 div.sk-serial {display: flex;flex-direction: column;align-items: center;background-color: white;padding-right: 0.2em;padding-left: 0.2em;position: relative;}#sk-container-id-1 div.sk-item {position: relative;z-index: 1;}#sk-container-id-1 div.sk-parallel {display: flex;align-items: stretch;justify-content: center;background-color: white;position: relative;}#sk-container-id-1 div.sk-item::before, #sk-container-id-1 div.sk-parallel-item::before {content: \"\";position: absolute;border-left: 1px solid gray;box-sizing: border-box;top: 0;bottom: 0;left: 50%;z-index: -1;}#sk-container-id-1 div.sk-parallel-item {display: flex;flex-direction: column;z-index: 1;position: relative;background-color: white;}#sk-container-id-1 div.sk-parallel-item:first-child::after {align-self: flex-end;width: 50%;}#sk-container-id-1 div.sk-parallel-item:last-child::after {align-self: flex-start;width: 50%;}#sk-container-id-1 div.sk-parallel-item:only-child::after {width: 0;}#sk-container-id-1 div.sk-dashed-wrapped {border: 1px dashed gray;margin: 0 0.4em 0.5em 0.4em;box-sizing: border-box;padding-bottom: 0.4em;background-color: white;}#sk-container-id-1 div.sk-label label {font-family: monospace;font-weight: bold;display: inline-block;line-height: 1.2em;}#sk-container-id-1 div.sk-label-container {text-align: center;}#sk-container-id-1 div.sk-container {/* jupyter's `normalize.less` sets `[hidden] { display: none; }` but bootstrap.min.css set `[hidden] { display: none !important; }` so we also need the `!important` here to be able to override the default hidden behavior on the sphinx rendered scikit-learn.org. See: https://github.com/scikit-learn/scikit-learn/issues/21755 */display: inline-block !important;position: relative;}#sk-container-id-1 div.sk-text-repr-fallback {display: none;}</style><div id=\"sk-container-id-1\" class=\"sk-top-container\"><div class=\"sk-text-repr-fallback\"><pre>NearestNeighbors(n_neighbors=1)</pre><b>In a Jupyter environment, please rerun this cell to show the HTML representation or trust the notebook. <br />On GitHub, the HTML representation is unable to render, please try loading this page with nbviewer.org.</b></div><div class=\"sk-container\" hidden><div class=\"sk-item\"><div class=\"sk-estimator sk-toggleable\"><input class=\"sk-toggleable__control sk-hidden--visually\" id=\"sk-estimator-id-1\" type=\"checkbox\" checked><label for=\"sk-estimator-id-1\" class=\"sk-toggleable__label sk-toggleable__label-arrow\">NearestNeighbors</label><div class=\"sk-toggleable__content\"><pre>NearestNeighbors(n_neighbors=1)</pre></div></div></div></div></div>"
      ],
      "text/plain": [
       "NearestNeighbors(n_neighbors=1)"
      ]
     },
     "execution_count": 5,
     "metadata": {},
     "output_type": "execute_result"
    }
   ],
   "source": [
    "nn = NearestNeighbors(n_neighbors=1)\n",
    "nn.fit(embedding)"
   ]
  },
  {
   "cell_type": "code",
   "execution_count": 6,
   "metadata": {},
   "outputs": [],
   "source": [
    "def detectmovie(descriptionText):\n",
    "    emd = model([descriptionText])\n",
    "    neighbours = nn.kneighbors(emd,return_distance=False)[0]\n",
    "    return df['name'].iloc[neighbours].tolist()"
   ]
  },
  {
   "cell_type": "code",
   "execution_count": 8,
   "metadata": {},
   "outputs": [
    {
     "data": {
      "text/plain": [
       "[\"Harry Potter and the Sorcerer's Stone\"]"
      ]
     },
     "execution_count": 8,
     "metadata": {},
     "output_type": "execute_result"
    }
   ],
   "source": [
    "detectmovie('magic')"
   ]
  },
  {
   "cell_type": "code",
   "execution_count": 1,
   "metadata": {},
   "outputs": [
    {
     "ename": "NameError",
     "evalue": "name 'nn' is not defined",
     "output_type": "error",
     "traceback": [
      "\u001b[1;31m---------------------------------------------------------------------------\u001b[0m",
      "\u001b[1;31mNameError\u001b[0m                                 Traceback (most recent call last)",
      "Cell \u001b[1;32mIn[1], line 2\u001b[0m\n\u001b[0;32m      1\u001b[0m \u001b[39mimport\u001b[39;00m \u001b[39mjoblib\u001b[39;00m \n\u001b[1;32m----> 2\u001b[0m joblib\u001b[39m.\u001b[39mdump(nn,\u001b[39m'\u001b[39m\u001b[39msearchMovie.sav\u001b[39m\u001b[39m'\u001b[39m)\n",
      "\u001b[1;31mNameError\u001b[0m: name 'nn' is not defined"
     ]
    }
   ],
   "source": [
    "import joblib \n",
    "joblib.dump(nn,'searchMovie.sav')"
   ]
  },
  {
   "cell_type": "code",
   "execution_count": null,
   "metadata": {},
   "outputs": [],
   "source": []
  }
 ],
 "metadata": {
  "kernelspec": {
   "display_name": "Python 3",
   "language": "python",
   "name": "python3"
  },
  "language_info": {
   "codemirror_mode": {
    "name": "ipython",
    "version": 3
   },
   "file_extension": ".py",
   "mimetype": "text/x-python",
   "name": "python",
   "nbconvert_exporter": "python",
   "pygments_lexer": "ipython3",
   "version": "3.10.11"
  },
  "orig_nbformat": 4
 },
 "nbformat": 4,
 "nbformat_minor": 2
}
