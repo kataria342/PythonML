{
 "cells": [
  {
   "cell_type": "code",
   "execution_count": 4,
   "metadata": {},
   "outputs": [
    {
     "name": "stderr",
     "output_type": "stream",
     "text": [
      "C:\\Users\\prabh\\AppData\\Local\\Temp\\ipykernel_48452\\243700368.py:12: DeprecationWarning: executable_path has been deprecated, please pass in a Service object\n",
      "  driver = webdriver.Chrome(r'C:\\Users\\prabh\\OneDrive\\Documents\\Lambton\\Semester 2\\DatasetandDrivers\\chromedriver', options=options)\n"
     ]
    }
   ],
   "source": [
    "from selenium import webdriver\n",
    "from selenium.webdriver.common.by import By\n",
    "from selenium.webdriver.common.action_chains import ActionChains\n",
    "import urllib\n",
    "\n",
    "from selenium.webdriver.chrome.options import Options \n",
    "import urllib\n",
    "import time\n",
    "options = Options()\n",
    "custom_user_agent = \"Mozilla/5.0 (Linux; Android 11; 100011886A Build/RP1A.200720.011) AppleWebKit/537.36 (KHTML, like Gecko) Chrome/104.0.5112.69 Safari/537.36\"\n",
    "options.add_argument(f'user-agent={custom_user_agent}')\n",
    "driver = webdriver.Chrome(r'C:\\Users\\prabh\\OneDrive\\Documents\\Lambton\\Semester 2\\DatasetandDrivers\\chromedriver', options=options)"
   ]
  },
  {
   "attachments": {},
   "cell_type": "markdown",
   "metadata": {},
   "source": [
    "URL = https://www.imdb.com/name/{{actorID}}/mediaindex?page={{pageNumber}}&ref_=nmmi_mi_sm\n"
   ]
  },
  {
   "cell_type": "code",
   "execution_count": 5,
   "metadata": {},
   "outputs": [],
   "source": [
    "actorID=['nm0004874']\n",
    "pagesToScrap = 2"
   ]
  },
  {
   "cell_type": "code",
   "execution_count": 6,
   "metadata": {},
   "outputs": [
    {
     "name": "stdout",
     "output_type": "stream",
     "text": [
      "https://m.media-amazon.com/images/M/MV5BYjFhZmNhNzktNjc4Ny00ZDliLWI0ZDgtNWM3MTNjZTI1MTViXkEyXkFqcGdeQXVyMTEyMjM2NDc2._V1_UY100_CR70,0,100,100_AL_.jpg\n",
      "https://m.media-amazon.com/images/M/MV5BZTM1MWFhM2UtZDA0OS00ZWEwLTgwOTctNGM4MDhkNTM1NjI2XkEyXkFqcGdeQXVyNjUwNzk3NDc@._V1_UY100_CR25,0,100,100_AL_.jpg\n"
     ]
    }
   ],
   "source": [
    "for actor in actorID:\n",
    "    for page in range(1, pagesToScrap + 1):\n",
    "        url = (\"https://www.imdb.com/name/{actorName}/mediaindex?page={pageNumber}\")        \n",
    "        driver.get(url.format(actorName=actor,pageNumber=page))\n",
    "        imagelinks = driver.find_elements(By.XPATH,'//*[@id=\"media_index_thumbnail_grid\"]/a[1]/img')\n",
    "        \n",
    "        i = 0\n",
    "        for lnk in imagelinks:\n",
    "            print(lnk.get_attribute('src'))\n",
    "            \n",
    "            /html/head/meta[24]\n",
    "            # get_attribute() to get all href\n",
    "            urllib.request.urlretrieve(lnk.get_attribute('src'),\"sample_data/actor{}.jpg\".format(i))\n",
    "            i +=1\n",
    "            "
   ]
  },
  {
   "cell_type": "code",
   "execution_count": null,
   "metadata": {},
   "outputs": [],
   "source": []
  },
  {
   "cell_type": "code",
   "execution_count": null,
   "metadata": {},
   "outputs": [],
   "source": []
  }
 ],
 "metadata": {
  "kernelspec": {
   "display_name": "Python 3",
   "language": "python",
   "name": "python3"
  },
  "language_info": {
   "codemirror_mode": {
    "name": "ipython",
    "version": 3
   },
   "file_extension": ".py",
   "mimetype": "text/x-python",
   "name": "python",
   "nbconvert_exporter": "python",
   "pygments_lexer": "ipython3",
   "version": "3.10.11"
  },
  "orig_nbformat": 4
 },
 "nbformat": 4,
 "nbformat_minor": 2
}
