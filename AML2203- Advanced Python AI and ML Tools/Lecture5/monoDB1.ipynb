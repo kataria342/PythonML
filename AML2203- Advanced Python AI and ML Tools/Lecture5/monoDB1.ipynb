{
 "cells": [
  {
   "cell_type": "code",
   "execution_count": 2,
   "metadata": {},
   "outputs": [],
   "source": [
    "import pymongo\n",
    "from pymongo import MongoClient\n",
    "client = MongoClient()"
   ]
  },
  {
   "cell_type": "code",
   "execution_count": 4,
   "metadata": {},
   "outputs": [
    {
     "data": {
      "text/plain": [
       "['admin', 'config', 'local', 'studentDetails', 'test']"
      ]
     },
     "execution_count": 4,
     "metadata": {},
     "output_type": "execute_result"
    }
   ],
   "source": [
    "client.list_database_names()"
   ]
  },
  {
   "cell_type": "code",
   "execution_count": 12,
   "metadata": {},
   "outputs": [],
   "source": [
    "db = client.test"
   ]
  },
  {
   "cell_type": "code",
   "execution_count": 19,
   "metadata": {},
   "outputs": [],
   "source": [
    "db.list_collection_names()\n",
    "student = db.student"
   ]
  },
  {
   "cell_type": "code",
   "execution_count": 21,
   "metadata": {},
   "outputs": [
    {
     "name": "stdout",
     "output_type": "stream",
     "text": [
      "{'_id': ObjectId('647ab4b8d200223376e712bf'), 'Name': 'Prabhjeet', 'program': 'AIML', 'city': 'Toronto'}\n",
      "{'_id': ObjectId('647bb277d200223376e712c0'), 'Name': 'Rahul', 'program': 'AIML', 'city': 'Toronto'}\n",
      "{'_id': ObjectId('647bb277d200223376e712c1'), 'Name': 'Dev', 'program': 'AIML', 'city': 'Toronto'}\n",
      "{'_id': ObjectId('647bb277d200223376e712c2'), 'Name': 'Jagpreet', 'program': 'AIML', 'city': 'Toronto'}\n",
      "{'_id': ObjectId('647e6144653f9587f7d551a2'), 'Name': 'Integer Course', 'program': 123, 'city': 'Toronto'}\n",
      "{'_id': '647ab4b8d200223376e712bf', 'Name': 'Sumit', 'program': 'AIML', 'city': 'Toronto'}\n",
      "{'_id': \"ObjectId('647e6144653f9587f7d551a2')\", 'Name': 'Sumit1', 'program': 'AIML', 'city': 'Toronto'}\n",
      "{'_id': ObjectId('647e7c2a653f9587f7d551a3'), 'Name': 'ALLen', 'program': 'AIML', 'city': 'Toronto'}\n",
      "{'_id': ObjectId('647e7c30653f9587f7d551a4'), 'Name': 'Aleen', 'program': 'AIML', 'city': 'Toronto'}\n",
      "{'_id': 1, 'name': 'John', 'address': 'Highway 37'}\n",
      "{'_id': 2, 'name': 'Peter', 'address': 'Lowstreet 27'}\n",
      "{'_id': 3, 'name': 'Amy', 'address': 'Close st 652'}\n",
      "{'_id': 4, 'name': 'Hannah', 'address': 'Mountain 21'}\n",
      "{'_id': 5, 'name': 'Michael', 'address': 'Valley 345'}\n",
      "{'_id': 6, 'name': 'Vicky', 'address': 'Yellow Garden 124'}\n",
      "{'_id': 7, 'name': 'Nicky', 'address': 'Yellow Garden 23'}\n",
      "{'_id': 8, 'name': 'Nancy', 'address': 'Younge Ave. 123'}\n",
      "{'_id': 9, 'name': 'Viola', 'address': 'Sideway Ave'}\n"
     ]
    }
   ],
   "source": [
    "for x in student.find():\n",
    "    print(x)"
   ]
  },
  {
   "attachments": {},
   "cell_type": "markdown",
   "metadata": {},
   "source": [
    "***Not equal to query***"
   ]
  },
  {
   "cell_type": "code",
   "execution_count": 32,
   "metadata": {},
   "outputs": [
    {
     "name": "stdout",
     "output_type": "stream",
     "text": [
      "{'_id': 6, 'name': 'Vicky', 'address': 'Yellow Garden 124'}\n",
      "{'_id': 8, 'name': 'Nancy', 'address': 'Younge Ave. 123'}\n",
      "\n",
      "Total Count of Records matching query 2\n"
     ]
    }
   ],
   "source": [
    "myquery = {\n",
    "    \"$and\":[\n",
    "        {\n",
    "            \"address\":{\"$regex\":\"^Y\"}\n",
    "        },\n",
    "        {\n",
    "            \"address\":{\"$regex\":\"1\"}\n",
    "        },\n",
    "        {\n",
    "            \"name\":{\"$ne\":\"Nicky\"}\n",
    "        }\n",
    "    ]\n",
    "}\n",
    "\n",
    "mydoc = student.find(myquery)\n",
    "for x in mydoc:\n",
    "    print(x)\n",
    "\n",
    "print(\"\\nTotal Count of Records matching query\", mydoc.retrieved)"
   ]
  },
  {
   "attachments": {},
   "cell_type": "markdown",
   "metadata": {},
   "source": [
    "***gt, lt, gte, lte***"
   ]
  },
  {
   "cell_type": "code",
   "execution_count": 50,
   "metadata": {},
   "outputs": [
    {
     "name": "stdout",
     "output_type": "stream",
     "text": [
      "{'_id': 5, 'name': 'Michael', 'address': 'Valley 345'}\n",
      "{'_id': 6, 'name': 'Vicky', 'address': 'Yellow Garden 124'}\n",
      "{'_id': 7, 'name': 'Nicky', 'address': 'Yellow Garden 23'}\n",
      "{'_id': 8, 'name': 'Nancy', 'address': 'Younge Ave. 123'}\n",
      "{'_id': 9, 'name': 'Viola', 'address': 'Sideway Ave'}\n"
     ]
    }
   ],
   "source": [
    "myquery = {\n",
    "            \"address\":{\"$gt\":\"S\"}\n",
    "        }\n",
    "mydoc = student.find(myquery)\n",
    "for x in mydoc:\n",
    "    print(x)\n",
    "\n"
   ]
  },
  {
   "attachments": {},
   "cell_type": "markdown",
   "metadata": {},
   "source": [
    "***Sorting***"
   ]
  },
  {
   "cell_type": "code",
   "execution_count": 58,
   "metadata": {},
   "outputs": [
    {
     "name": "stdout",
     "output_type": "stream",
     "text": [
      "{'_id': 9, 'name': 'Viola', 'address': 'Sideway Ave'}\n",
      "{'_id': 6, 'name': 'Vicky', 'address': 'Yellow Garden 124'}\n",
      "{'_id': 2, 'name': 'Peter', 'address': 'Lowstreet 27'}\n",
      "{'_id': 7, 'name': 'Nicky', 'address': 'Yellow Garden 23'}\n",
      "{'_id': 8, 'name': 'Nancy', 'address': 'Younge Ave. 123'}\n",
      "{'_id': 5, 'name': 'Michael', 'address': 'Valley 345'}\n",
      "{'_id': 1, 'name': 'John', 'address': 'Highway 37'}\n",
      "{'_id': 4, 'name': 'Hannah', 'address': 'Mountain 21'}\n",
      "{'_id': 3, 'name': 'Amy', 'address': 'Close st 652'}\n",
      "{'_id': ObjectId('647ab4b8d200223376e712bf'), 'Name': 'Prabhjeet', 'program': 'AIML', 'city': 'Toronto'}\n",
      "{'_id': ObjectId('647bb277d200223376e712c0'), 'Name': 'Rahul', 'program': 'AIML', 'city': 'Toronto'}\n",
      "{'_id': ObjectId('647bb277d200223376e712c1'), 'Name': 'Dev', 'program': 'AIML', 'city': 'Toronto'}\n",
      "{'_id': ObjectId('647bb277d200223376e712c2'), 'Name': 'Jagpreet', 'program': 'AIML', 'city': 'Toronto'}\n",
      "{'_id': ObjectId('647e6144653f9587f7d551a2'), 'Name': 'Integer Course', 'program': 123, 'city': 'Toronto'}\n",
      "{'_id': '647ab4b8d200223376e712bf', 'Name': 'Sumit', 'program': 'AIML', 'city': 'Toronto'}\n",
      "{'_id': \"ObjectId('647e6144653f9587f7d551a2')\", 'Name': 'Sumit1', 'program': 'AIML', 'city': 'Toronto'}\n",
      "{'_id': ObjectId('647e7c2a653f9587f7d551a3'), 'Name': 'ALLen', 'program': 'AIML', 'city': 'Toronto'}\n",
      "{'_id': ObjectId('647e7c30653f9587f7d551a4'), 'Name': 'Aleen', 'program': 'AIML', 'city': 'Toronto'}\n"
     ]
    }
   ],
   "source": [
    "mydoc = student.find().sort('name',-1)\n",
    "\n",
    "for x in mydoc:\n",
    "    print(x)"
   ]
  },
  {
   "attachments": {},
   "cell_type": "markdown",
   "metadata": {},
   "source": [
    "***Update single document***"
   ]
  },
  {
   "cell_type": "code",
   "execution_count": 80,
   "metadata": {},
   "outputs": [
    {
     "name": "stdout",
     "output_type": "stream",
     "text": [
      "Finding documents\n",
      "{'_id': 5, 'name': 'Michael', 'address': 'Canyon 1234'}\n",
      "\n",
      "\n",
      "Finding old documents\n",
      "\n",
      "\n",
      "Finding updated documents\n",
      "{'_id': 5, 'name': 'Michael', 'address': 'Canyon 123'}\n"
     ]
    }
   ],
   "source": [
    "myquery = {'address':'Canyon 1234'}\n",
    "\n",
    "print(\"Finding documents\")\n",
    "for x in student.find(myquery):\n",
    "    print(x)\n",
    "\n",
    "print('\\n')\n",
    "\n",
    "newvalues = {'$set':{'address':'Canyon 123'}}\n",
    "student.update_one(myquery, newvalues)\n",
    "\n",
    "newquery = {'address':'Canyon 123'}\n",
    "\n",
    "print(\"Finding old documents\")\n",
    "for x in student.find(myquery):\n",
    "    print(x)\n",
    "\n",
    "print('\\n')\n",
    "\n",
    "\n",
    "print(\"Finding updated documents\")\n",
    "for x in student.find(newquery):\n",
    "    print(x)"
   ]
  },
  {
   "attachments": {},
   "cell_type": "markdown",
   "metadata": {},
   "source": [
    "***Update Multiple Document***"
   ]
  },
  {
   "cell_type": "code",
   "execution_count": 88,
   "metadata": {},
   "outputs": [
    {
     "name": "stdout",
     "output_type": "stream",
     "text": [
      "Finding documents\n",
      "\n",
      "\n",
      "\n",
      "\n",
      "0\n",
      "Finding updated documents\n",
      "{'_id': 3, 'name': 'Anna', 'address': 'Close st 652'}\n",
      "{'_id': 5, 'name': 'Anna', 'address': 'Canyon 123'}\n"
     ]
    }
   ],
   "source": [
    "myquery = {'name':{'$regex':'^M'}}\n",
    "\n",
    "print(\"Finding documents\")\n",
    "for x in student.find(myquery):\n",
    "    print(x)\n",
    "print('\\n')\n",
    "\n",
    "newvalues = {'$set':{'name':'Anna'}}\n",
    "x = student.update_many(myquery, newvalues)\n",
    "print('\\n')\n",
    "\n",
    "print(x.modified_count)\n",
    "\n",
    "myquery = {'name':{'$regex':'^A'}}\n",
    "print(\"Finding updated documents\")\n",
    "for x in student.find(myquery):\n",
    "    print(x)\n",
    "\n"
   ]
  },
  {
   "cell_type": "markdown",
   "metadata": {},
   "source": [
    "***Delete documents***"
   ]
  },
  {
   "cell_type": "code",
   "execution_count": 136,
   "metadata": {},
   "outputs": [
    {
     "name": "stdout",
     "output_type": "stream",
     "text": [
      "Count of records deleted 0\n"
     ]
    },
    {
     "data": {
      "text/plain": [
       "<pymongo.results.InsertManyResult at 0x1b3e00542b0>"
      ]
     },
     "execution_count": 136,
     "metadata": {},
     "output_type": "execute_result"
    }
   ],
   "source": [
    "# # Delete first occurrence of the records having Name as Aleen\n",
    "# myquery = { \"Name\": \"Aleen\" }\n",
    "# student.delete_one(myquery)\n",
    "\n",
    "# Deleting all  records having Name as Aleen\n",
    "myquery = { \"name\": \"John\" }\n",
    "x = student.delete_many(myquery)\n",
    "\n",
    "print('Count of records deleted', x.deleted_count)\n",
    "\n",
    "for x in student.find():\n",
    "    print(x)\n",
    "\n",
    "records = [\n",
    "    {'_id': 1, 'name': 'John', 'address': 'Highway 37'},\n",
    "    {'_id': 2, 'name': 'Peter', 'address': 'Lowstreet 27'},\n",
    "    {'_id': 3, 'name': 'Amy', 'address': 'Close st 652'},\n",
    "    {'_id': 4, 'name': 'Hannah', 'address': 'Mountain 21'},\n",
    "    {'_id': 5, 'name': 'Michael', 'address': 'Valley 345'},\n",
    "    {'_id': 6, 'name': 'Vicky', 'address': 'Yellow Garden 124'},\n",
    "    {'_id': 7, 'name': 'Nicky', 'address': 'Yellow Garden 23'},\n",
    "    {'_id': 8, 'name': 'Nancy', 'address': 'Younge Ave. 123'},\n",
    "    {'_id': 9, 'name': 'Viola', 'address': 'Sideway Ave'},\n",
    "    {'_id': 10, 'name': 'John', 'address': 'Highway 37'},\n",
    "    {'_id': 11, 'name': 'John', 'address': 'Lowstreet 27'},\n",
    "    {'_id': 12, 'name': 'John', 'address': 'Close st 652'},\n",
    "    {'_id': 13, 'name': 'John', 'address': 'Mountain 21'}]\n",
    "student.insert_many(records)"
   ]
  },
  {
   "attachments": {},
   "cell_type": "markdown",
   "metadata": {},
   "source": [
    "***Removing field***"
   ]
  },
  {
   "cell_type": "code",
   "execution_count": 114,
   "metadata": {},
   "outputs": [
    {
     "name": "stdout",
     "output_type": "stream",
     "text": [
      "{'_id': 1, 'last_name': 'John'}\n",
      "{'_id': 2, 'first_name': 'Peter'}\n",
      "{'_id': 3, 'first_name': 'Anna'}\n",
      "{'_id': 4, 'first_name': 'Hannah'}\n",
      "{'_id': 5, 'first_name': 'Anna'}\n",
      "{'_id': 6, 'first_name': 'Vicky'}\n",
      "{'_id': 7, 'first_name': 'Nicky'}\n",
      "{'_id': 8, 'first_name': 'Nancy'}\n",
      "{'_id': 9, 'first_name': 'Viola'}\n"
     ]
    }
   ],
   "source": [
    "student.update_many({}, {'$unset': {'address':\"\"}})\n",
    "\n",
    "for x in student.find():\n",
    "    print(x)"
   ]
  },
  {
   "attachments": {},
   "cell_type": "markdown",
   "metadata": {},
   "source": [
    "***Removing all documents***"
   ]
  },
  {
   "cell_type": "code",
   "execution_count": 134,
   "metadata": {},
   "outputs": [
    {
     "name": "stdout",
     "output_type": "stream",
     "text": [
      "Count of records deleted 13\n"
     ]
    }
   ],
   "source": [
    "x = student.delete_many({})\n",
    "\n",
    "for x in student.find():\n",
    "    print(x)\n",
    "\n",
    "print('Count of records deleted', x.deleted_count)\n"
   ]
  },
  {
   "cell_type": "markdown",
   "metadata": {},
   "source": [
    "***Updating field name***"
   ]
  },
  {
   "cell_type": "code",
   "execution_count": 103,
   "metadata": {},
   "outputs": [
    {
     "name": "stdout",
     "output_type": "stream",
     "text": [
      "{'_id': 1, 'address': 'Highway 37', 'last_name': 'John'}\n",
      "{'_id': 2, 'address': 'Lowstreet 27', 'first_name': 'Peter'}\n",
      "{'_id': 3, 'address': 'Close st 652', 'first_name': 'Anna'}\n",
      "{'_id': 4, 'address': 'Mountain 21', 'first_name': 'Hannah'}\n",
      "{'_id': 5, 'address': 'Canyon 123', 'first_name': 'Anna'}\n",
      "{'_id': 6, 'address': 'Yellow Garden 124', 'first_name': 'Vicky'}\n",
      "{'_id': 7, 'address': 'Yellow Garden 23', 'first_name': 'Nicky'}\n",
      "{'_id': 8, 'address': 'Younge Ave. 123', 'first_name': 'Nancy'}\n",
      "{'_id': 9, 'address': 'Sideway Ave', 'first_name': 'Viola'}\n"
     ]
    }
   ],
   "source": [
    "# # Update field name for all records\n",
    "# student.update_many( \n",
    "#   { }, \n",
    "#   { '$rename': { \"first_name\": \"last_name\" } } \n",
    "# )\n",
    "\n",
    "# Update field name for only specific records\n",
    "student.update_many( \n",
    "  {'address': 'Highway 37' }, \n",
    "  { '$rename': { \"first_name\": \"last_name\" } } \n",
    ")\n",
    "\n",
    "for x in student.find():\n",
    "    print(x)"
   ]
  },
  {
   "attachments": {},
   "cell_type": "markdown",
   "metadata": {},
   "source": [
    "***Removing collection name***"
   ]
  },
  {
   "cell_type": "code",
   "execution_count": 128,
   "metadata": {},
   "outputs": [
    {
     "data": {
      "text/plain": [
       "[]"
      ]
     },
     "execution_count": 128,
     "metadata": {},
     "output_type": "execute_result"
    }
   ],
   "source": [
    "client.list_database_names()\n",
    "db1 = client.studentDetails\n",
    "db1.list_collection_names()\n",
    "# test = db1.AIML\n",
    "# test.drop()"
   ]
  },
  {
   "cell_type": "code",
   "execution_count": 139,
   "metadata": {},
   "outputs": [
    {
     "name": "stdout",
     "output_type": "stream",
     "text": [
      "{'_id': 1, 'name': 'John', 'address': 'Highway 37'}\n",
      "{'_id': 2, 'name': 'Peter', 'address': 'Lowstreet 27'}\n",
      "{'_id': 3, 'name': 'Amy', 'address': 'Close st 652'}\n",
      "{'_id': 4, 'name': 'Hannah', 'address': 'Mountain 21'}\n",
      "{'_id': 5, 'name': 'Michael', 'address': 'Valley 345'}\n",
      "{'_id': 6, 'name': 'Vicky', 'address': 'Yellow Garden 124'}\n",
      "{'_id': 7, 'name': 'Nicky', 'address': 'Yellow Garden 23'}\n",
      "{'_id': 8, 'name': 'Nancy', 'address': 'Younge Ave. 123'}\n",
      "{'_id': 9, 'name': 'Viola', 'address': 'Sideway Ave'}\n",
      "{'_id': 10, 'name': 'John', 'address': 'Highway 37'}\n",
      "{'_id': 11, 'name': 'John', 'address': 'Lowstreet 27'}\n",
      "{'_id': 12, 'name': 'John', 'address': 'Close st 652'}\n",
      "{'_id': 13, 'name': 'John', 'address': 'Mountain 21'}\n"
     ]
    }
   ],
   "source": [
    "for x in student.find():\n",
    "    print(x)"
   ]
  },
  {
   "attachments": {},
   "cell_type": "markdown",
   "metadata": {},
   "source": [
    "***Vectors***"
   ]
  },
  {
   "cell_type": "code",
   "execution_count": 175,
   "metadata": {},
   "outputs": [],
   "source": [
    "import numpy as np\n",
    "vector_row = np.array([1,2,3,4,5,4,6])"
   ]
  },
  {
   "attachments": {},
   "cell_type": "markdown",
   "metadata": {},
   "source": [
    "***Selecting elements in vectors***"
   ]
  },
  {
   "cell_type": "code",
   "execution_count": 133,
   "metadata": {},
   "outputs": [
    {
     "data": {
      "text/plain": [
       "2"
      ]
     },
     "execution_count": 133,
     "metadata": {},
     "output_type": "execute_result"
    }
   ],
   "source": [
    "vector_row[1]"
   ]
  },
  {
   "cell_type": "code",
   "execution_count": 148,
   "metadata": {},
   "outputs": [
    {
     "name": "stdout",
     "output_type": "stream",
     "text": [
      "<class 'numpy.int32'> : 4\n",
      "<class 'numpy.ndarray'> : [1 2 3]\n",
      "[1 2 3 4]\n"
     ]
    }
   ],
   "source": [
    "print(type(vector_row[3]), \":\",vector_row[3])\n",
    "\n",
    "print(type(vector_row[:3]), \":\",vector_row[:3])\n",
    "\n",
    "print(vector_row[:4])\n"
   ]
  },
  {
   "cell_type": "code",
   "execution_count": 176,
   "metadata": {},
   "outputs": [
    {
     "name": "stdout",
     "output_type": "stream",
     "text": [
      "5\n",
      "[1 2 3 4]\n",
      "[1 2 3 4 5]\n",
      "[3 4 5]\n",
      "\n"
     ]
    },
    {
     "data": {
      "text/plain": [
       "(array([3, 5], dtype=int64),)"
      ]
     },
     "execution_count": 176,
     "metadata": {},
     "output_type": "execute_result"
    }
   ],
   "source": [
    "print(vector_row[-3])\n",
    "print(vector_row[:-3])\n",
    "print(vector_row[:-2])\n",
    "print(vector_row[2:-2])\n",
    "print()\n",
    "np.where(vector_row==4)"
   ]
  },
  {
   "attachments": {},
   "cell_type": "markdown",
   "metadata": {},
   "source": [
    "***Matrices***"
   ]
  },
  {
   "cell_type": "code",
   "execution_count": 200,
   "metadata": {},
   "outputs": [
    {
     "name": "stdout",
     "output_type": "stream",
     "text": [
      "[[1 2 3]\n",
      " [4 5 6]\n",
      " [7 8 9]]\n",
      "9  :  9\n",
      "[[5 6]\n",
      " [8 9]]\n",
      "[[5 6]\n",
      " [8 9]]\n",
      "Shape of Matrix (3, 3)\n",
      "Size of Matrix 9\n",
      "Dimension of Matrix 2\n"
     ]
    }
   ],
   "source": [
    "matrix = np.array([[1,2,3],\n",
    "                  [4,5,6],\n",
    "                  [7,8,9]])\n",
    "\n",
    "# prinitng whole matrix\n",
    "print(matrix)\n",
    "\n",
    "# Selecting element from matrix\n",
    "print(matrix[2,2],' : ',matrix[-1,-1])\n",
    "print(matrix[1:,1:])\n",
    "print(matrix[-2:,-2:])\n",
    "\n",
    "print('Shape of Matrix', matrix.shape)\n",
    "print('Size of Matrix', matrix.size)\n",
    "print('Dimension of Matrix', matrix.ndim)"
   ]
  },
  {
   "cell_type": "code",
   "execution_count": 210,
   "metadata": {},
   "outputs": [],
   "source": [
    "vector_a = np.array([[1,1,1],\n",
    "                  [1,1,1],\n",
    "                  [1,1,1]])\n",
    "vector_b = np.array([[1,2,3],\n",
    "                  [4,5,6],\n",
    "                  [7,8,9]])\n"
   ]
  },
  {
   "attachments": {},
   "cell_type": "markdown",
   "metadata": {},
   "source": [
    "***Addition of Matrices***"
   ]
  },
  {
   "cell_type": "code",
   "execution_count": 211,
   "metadata": {},
   "outputs": [
    {
     "data": {
      "text/plain": [
       "array([[ 2,  3,  4],\n",
       "       [ 5,  6,  7],\n",
       "       [ 8,  9, 10]])"
      ]
     },
     "execution_count": 211,
     "metadata": {},
     "output_type": "execute_result"
    }
   ],
   "source": [
    "np.add(vector_a,vector_b)"
   ]
  },
  {
   "attachments": {},
   "cell_type": "markdown",
   "metadata": {},
   "source": [
    "***Subtraction of Matrices***"
   ]
  },
  {
   "cell_type": "code",
   "execution_count": 206,
   "metadata": {},
   "outputs": [
    {
     "data": {
      "text/plain": [
       "array([[ 0, -1, -2],\n",
       "       [-3, -4, -5],\n",
       "       [-6, -7, -8]])"
      ]
     },
     "execution_count": 206,
     "metadata": {},
     "output_type": "execute_result"
    }
   ],
   "source": [
    "np.subtract(vector_a,vector_b)"
   ]
  },
  {
   "attachments": {},
   "cell_type": "markdown",
   "metadata": {},
   "source": [
    "***Multiplication of Matrices***"
   ]
  },
  {
   "cell_type": "code",
   "execution_count": 209,
   "metadata": {},
   "outputs": [
    {
     "data": {
      "text/plain": [
       "array([[12, 15, 18],\n",
       "       [12, 15, 18],\n",
       "       [12, 15, 18]])"
      ]
     },
     "execution_count": 209,
     "metadata": {},
     "output_type": "execute_result"
    }
   ],
   "source": [
    "np.matmul(vector_a,vector_b)"
   ]
  },
  {
   "attachments": {},
   "cell_type": "markdown",
   "metadata": {},
   "source": [
    "***Dot product of Matrices***"
   ]
  },
  {
   "cell_type": "code",
   "execution_count": 207,
   "metadata": {},
   "outputs": [
    {
     "data": {
      "text/plain": [
       "32"
      ]
     },
     "execution_count": 207,
     "metadata": {},
     "output_type": "execute_result"
    }
   ],
   "source": [
    "vector_a = np.array([1,2,3])\n",
    "vector_b = np.array([4,5,6])\n",
    "np.dot(vector_a,vector_b)"
   ]
  },
  {
   "attachments": {},
   "cell_type": "markdown",
   "metadata": {},
   "source": [
    "***Function to multiply two Matrices entered by the user***"
   ]
  },
  {
   "cell_type": "code",
   "execution_count": 218,
   "metadata": {},
   "outputs": [
    {
     "name": "stdout",
     "output_type": "stream",
     "text": [
      "Enter first matrix elements\n"
     ]
    },
    {
     "ename": "TypeError",
     "evalue": "Kernel.raw_input() takes from 1 to 2 positional arguments but 5 were given",
     "output_type": "error",
     "traceback": [
      "\u001b[1;31m---------------------------------------------------------------------------\u001b[0m",
      "\u001b[1;31mTypeError\u001b[0m                                 Traceback (most recent call last)",
      "Cell \u001b[1;32mIn[218], line 7\u001b[0m\n\u001b[0;32m      5\u001b[0m \u001b[39mfor\u001b[39;00m i \u001b[39min\u001b[39;00m \u001b[39mrange\u001b[39m(rows):\n\u001b[0;32m      6\u001b[0m     \u001b[39mfor\u001b[39;00m j \u001b[39min\u001b[39;00m \u001b[39mrange\u001b[39m(cols):\n\u001b[1;32m----> 7\u001b[0m         a[i][j] \u001b[39m=\u001b[39m \u001b[39minput\u001b[39;49m(i,\u001b[39m'\u001b[39;49m\u001b[39m,\u001b[39;49m\u001b[39m'\u001b[39;49m,j,\u001b[39m'\u001b[39;49m\u001b[39melement\u001b[39;49m\u001b[39m'\u001b[39;49m)\n",
      "\u001b[1;31mTypeError\u001b[0m: Kernel.raw_input() takes from 1 to 2 positional arguments but 5 were given"
     ]
    }
   ],
   "source": [
    "rows = int(input('Enter number of rows for first matrix'))\n",
    "cols = int(input('Enter number of cols for first matrix'))\n",
    "a= [[]]\n",
    "print('Enter first matrix elements')\n",
    "for i in range(rows):\n",
    "    for j in range(cols):\n",
    "        a[i][j] = input(i,',',j,'element')"
   ]
  }
 ],
 "metadata": {
  "kernelspec": {
   "display_name": "Python 3",
   "language": "python",
   "name": "python3"
  },
  "language_info": {
   "codemirror_mode": {
    "name": "ipython",
    "version": 3
   },
   "file_extension": ".py",
   "mimetype": "text/x-python",
   "name": "python",
   "nbconvert_exporter": "python",
   "pygments_lexer": "ipython3",
   "version": "3.10.11"
  },
  "orig_nbformat": 4
 },
 "nbformat": 4,
 "nbformat_minor": 2
}
