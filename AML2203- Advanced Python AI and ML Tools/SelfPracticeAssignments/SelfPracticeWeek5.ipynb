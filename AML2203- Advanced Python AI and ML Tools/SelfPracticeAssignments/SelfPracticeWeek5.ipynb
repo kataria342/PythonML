{
 "cells": [
  {
   "attachments": {},
   "cell_type": "markdown",
   "metadata": {},
   "source": [
    "Program to find all the numbers from 0-9 from a string"
   ]
  },
  {
   "cell_type": "code",
   "execution_count": 17,
   "metadata": {},
   "outputs": [
    {
     "name": "stdout",
     "output_type": "stream",
     "text": [
      "894121\n"
     ]
    }
   ],
   "source": [
    "textString = 'a89ADFRE412z1b'\n",
    "num = ''\n",
    "for i in textString:\n",
    "    if i.isdigit():\n",
    "        num +=i\n",
    "print(num)"
   ]
  },
  {
   "attachments": {},
   "cell_type": "markdown",
   "metadata": {},
   "source": [
    "Program to find two elements once in a list where every element appears exactly n times in the list."
   ]
  },
  {
   "cell_type": "code",
   "execution_count": 13,
   "metadata": {},
   "outputs": [
    {
     "name": "stdout",
     "output_type": "stream",
     "text": [
      "{1: 2, 2: 2, 3: 1, 5: 1}\n",
      "1 2 3 5 "
     ]
    }
   ],
   "source": [
    "inputNum = [1, 2, 1, 3, 2, 5]\n",
    "count = int(input(\"Enter the count of repeative numbers\"))\n",
    "numDict = {}\n",
    "for i in inputNum:\n",
    "    if i in numDict:\n",
    "        numDict[i] = numDict[i] + 1\n",
    "    else:\n",
    "        numDict[i] = 1\n",
    "print(numDict)\n",
    "\n",
    "for x in numDict:\n",
    "    if numDict[x] < count:\n",
    "        print(x, end=\" \")"
   ]
  },
  {
   "cell_type": "code",
   "execution_count": 14,
   "metadata": {},
   "outputs": [
    {
     "name": "stdout",
     "output_type": "stream",
     "text": [
      "Entered Number is :  78456\n",
      "reversed Number is  65487\n"
     ]
    }
   ],
   "source": [
    "num = int(input('Enter the number'))\n",
    "\n",
    "print(\"Entered Number is : \", num)\n",
    "new = ''\n",
    "while num > 0:\n",
    "    temp = num % 10\n",
    "    new +=str(temp)\n",
    "    num=num//10\n",
    "    \n",
    "new = int(new)\n",
    "print(\"reversed Number is \", new)"
   ]
  },
  {
   "cell_type": "code",
   "execution_count": null,
   "metadata": {},
   "outputs": [],
   "source": []
  }
 ],
 "metadata": {
  "kernelspec": {
   "display_name": "Python 3",
   "language": "python",
   "name": "python3"
  },
  "language_info": {
   "codemirror_mode": {
    "name": "ipython",
    "version": 3
   },
   "file_extension": ".py",
   "mimetype": "text/x-python",
   "name": "python",
   "nbconvert_exporter": "python",
   "pygments_lexer": "ipython3",
   "version": "3.10.11"
  },
  "orig_nbformat": 4
 },
 "nbformat": 4,
 "nbformat_minor": 2
}
