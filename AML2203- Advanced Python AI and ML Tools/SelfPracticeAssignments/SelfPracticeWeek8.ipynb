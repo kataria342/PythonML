{
 "cells": [
  {
   "attachments": {},
   "cell_type": "markdown",
   "metadata": {},
   "source": [
    "##### ***Program to find the longest common prefix string amongst an array of strings***"
   ]
  },
  {
   "cell_type": "code",
   "execution_count": 22,
   "metadata": {},
   "outputs": [
    {
     "name": "stdout",
     "output_type": "stream",
     "text": [
      "flower\n",
      "flow\n",
      "flight\n",
      "['f', 'f', 'f']\n"
     ]
    }
   ],
   "source": [
    "inpStr = [\"flower\",\"flow\",\"flight\"]\n",
    "firstLetter = []\n",
    "\n",
    "for i in inpStr:\n",
    "    print(i)\n",
    "    firstLetter.append(i[0])\n",
    "\n",
    "print(firstLetter)"
   ]
  },
  {
   "attachments": {},
   "cell_type": "markdown",
   "metadata": {},
   "source": [
    "##### ***Program to find the majority element***"
   ]
  },
  {
   "cell_type": "code",
   "execution_count": 20,
   "metadata": {},
   "outputs": [
    {
     "name": "stdout",
     "output_type": "stream",
     "text": [
      "3 appears mahorly 4  number of times\n"
     ]
    }
   ],
   "source": [
    "def findmajor(numList):\n",
    "    countDict = {}\n",
    "   \n",
    "    for i in numList:\n",
    "        if i in countDict:\n",
    "            countDict[i] = countDict.get(i) + 1\n",
    "        else:\n",
    "            countDict[i] = 1\n",
    "    \n",
    "    return countDict\n",
    "\n",
    "def maxiumOccurrence(countDict, len):\n",
    "    max = 0\n",
    "    majorityNum = 0\n",
    "    for i, j in countDict.items():\n",
    "        if j > max and j > len//2:\n",
    "            majorityNum = i\n",
    "            max = j\n",
    "\n",
    "    return majorityNum, max\n",
    "\n",
    "numList = [3,2,3,2,3,2,3]\n",
    "countDict = findmajor(numList)\n",
    "major, count = maxiumOccurrence(countDict, len(numList))\n",
    "if major:\n",
    "    print(major, \"appears mahorly\",count,\" number of times\")\n",
    "else:\n",
    "    print('No number appears more than',len(numList)//2,'times in the array')"
   ]
  },
  {
   "cell_type": "code",
   "execution_count": null,
   "metadata": {},
   "outputs": [],
   "source": []
  }
 ],
 "metadata": {
  "kernelspec": {
   "display_name": "Python 3",
   "language": "python",
   "name": "python3"
  },
  "language_info": {
   "codemirror_mode": {
    "name": "ipython",
    "version": 3
   },
   "file_extension": ".py",
   "mimetype": "text/x-python",
   "name": "python",
   "nbconvert_exporter": "python",
   "pygments_lexer": "ipython3",
   "version": "3.10.11"
  },
  "orig_nbformat": 4
 },
 "nbformat": 4,
 "nbformat_minor": 2
}
