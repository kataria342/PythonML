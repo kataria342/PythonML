{
 "cells": [
  {
   "attachments": {},
   "cell_type": "markdown",
   "metadata": {},
   "source": [
    "Python Program to find 4 numbers from an array such that the sum of 4 numbers equal to a given number.\n"
   ]
  },
  {
   "cell_type": "code",
   "execution_count": 1,
   "metadata": {},
   "outputs": [
    {
     "name": "stdout",
     "output_type": "stream",
     "text": [
      "Sum of 0 : {(-2, -1, 1, 2), (-1, 0, 0, 1), (-2, 0, 0, 2)}\n"
     ]
    }
   ],
   "source": [
    "numList = [1, 0, -1, 0, -2, 2,10,11]\n",
    "number = int(input('Enter the number'))\n",
    "finalList = []\n",
    "sum = 0\n",
    "for i in range(0,len(numList)-3):\n",
    "    for j in range(i+1,len(numList)-2):\n",
    "        for k in range(i+2,len(numList)-1):\n",
    "            for l in range(i+3,len(numList)):\n",
    "                sum = numList[i] + numList[j] + numList[k] + numList[l]\n",
    "                if sum == number:\n",
    "                    record = [numList[i],numList[j],numList[k],numList[l]]\n",
    "                    record.sort()\n",
    "                    finalList.append(record)         \n",
    "\n",
    "finalresult = set(tuple(i) for i in finalList)\n",
    "print('Sum of {num} :'.format(num=number),finalresult)"
   ]
  },
  {
   "attachments": {},
   "cell_type": "markdown",
   "metadata": {},
   "source": [
    "Python Program to find the single element appears once in a list where every element appears multiple times except for one. "
   ]
  },
  {
   "cell_type": "code",
   "execution_count": 5,
   "metadata": {},
   "outputs": [
    {
     "name": "stdout",
     "output_type": "stream",
     "text": [
      "Entered list is :  [1, 1, 2, 1, 2, 2, 3, 4, 5, 5, 6, 7, 8, 8]\n",
      "Single digits in list : [3, 4, 6, 7]\n"
     ]
    }
   ],
   "source": [
    "numList = [1, 1, 2, 1, 2, 2, 3, 4, 5, 5, 6,7,8,8]\n",
    "repeatList = []\n",
    "singleElement = []\n",
    "for i in range(len(numList)):\n",
    "    status = True\n",
    "    num = numList[i]\n",
    "    if num in repeatList:\n",
    "        status = False\n",
    "    else:\n",
    "        for j in range(i+1, len(numList)):\n",
    "            if num == numList[j]:\n",
    "                status = False\n",
    "                break            \n",
    "\n",
    "    if status:\n",
    "        singleElement.append(num)\n",
    "    else:\n",
    "        repeatList.append(num)                     \n",
    "   \n",
    "print(\"Entered list is : \", numList)\n",
    "print(\"Single digits in list :\", singleElement)"
   ]
  },
  {
   "attachments": {},
   "cell_type": "markdown",
   "metadata": {},
   "source": [
    "Python program to add the digits of a positive integer repeatedly until the result has a single digit."
   ]
  },
  {
   "cell_type": "code",
   "execution_count": 7,
   "metadata": {},
   "outputs": [
    {
     "name": "stdout",
     "output_type": "stream",
     "text": [
      "Entered number is :  58\n",
      "Sum of number is :  4\n"
     ]
    }
   ],
   "source": [
    "number = input(\"Enter the number\")\n",
    "print(\"Entered number is : \", number)\n",
    "if number.isnumeric():\n",
    "    while(len(number)>1):\n",
    "        sum = 0\n",
    "        for i in number:\n",
    "            sum += int(i)\n",
    "        number = str(sum)\n",
    "else:\n",
    "    print(\"Please Enter valid number\")                     \n",
    "\n",
    "print(\"Sum of number is : \", number)\n",
    "    \n"
   ]
  }
 ],
 "metadata": {
  "kernelspec": {
   "display_name": "Python 3",
   "language": "python",
   "name": "python3"
  },
  "language_info": {
   "codemirror_mode": {
    "name": "ipython",
    "version": 3
   },
   "file_extension": ".py",
   "mimetype": "text/x-python",
   "name": "python",
   "nbconvert_exporter": "python",
   "pygments_lexer": "ipython3",
   "version": "3.10.11"
  },
  "orig_nbformat": 4
 },
 "nbformat": 4,
 "nbformat_minor": 2
}
