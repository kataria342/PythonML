{
 "cells": [
  {
   "attachments": {},
   "cell_type": "markdown",
   "metadata": {},
   "source": [
    "##### ***Program to find if given string is a palindrome***"
   ]
  },
  {
   "cell_type": "code",
   "execution_count": 27,
   "metadata": {},
   "outputs": [
    {
     "name": "stdout",
     "output_type": "stream",
     "text": [
      "\"A man, a plan, a canal: Panama\" is a Palindrome string\n"
     ]
    }
   ],
   "source": [
    "import re\n",
    "\n",
    "def checkPal(inpStr):\n",
    "    tempStr = re.findall(r'[\\w+]',inpStr)\n",
    "    tempStr = ''.join(tempStr)\n",
    "    reversedStr = tempStr[::-1]\n",
    "    if tempStr == reversedStr:        \n",
    "        return True\n",
    "    else:        \n",
    "        return False\n",
    "\n",
    "\n",
    "inpStr = \"A man, a plan, a canal: Panama\"\n",
    "result = checkPal(inpStr.lower())\n",
    "if result:\n",
    "    print('\"{}\" is a Palindrome string'.format(inpStr))\n",
    "else:\n",
    "    print('\"{}\" is not a Palindrome string'.format(inpStr))\n"
   ]
  },
  {
   "attachments": {},
   "cell_type": "markdown",
   "metadata": {},
   "source": [
    "##### ***Program to find the majority element***"
   ]
  },
  {
   "cell_type": "code",
   "execution_count": 28,
   "metadata": {},
   "outputs": [
    {
     "name": "stdout",
     "output_type": "stream",
     "text": [
      "3 appears mahorly 4  number of times\n"
     ]
    }
   ],
   "source": [
    "def findmajor(numList):\n",
    "    countDict = {}\n",
    "   \n",
    "    for i in numList:\n",
    "        if i in countDict:\n",
    "            countDict[i] = countDict.get(i) + 1\n",
    "        else:\n",
    "            countDict[i] = 1\n",
    "    \n",
    "    return countDict\n",
    "\n",
    "def maxiumOccurrence(countDict, len):\n",
    "    max = 0\n",
    "    majorityNum = 0\n",
    "    for i, j in countDict.items():\n",
    "        if j > max and j > len//2:\n",
    "            majorityNum = i\n",
    "            max = j\n",
    "\n",
    "    return majorityNum, max\n",
    "\n",
    "numList = [3,2,3,2,3,2,3]\n",
    "countDict = findmajor(numList)\n",
    "major, count = maxiumOccurrence(countDict, len(numList))\n",
    "if major:\n",
    "    print(major, \"appears mahorly\",count,\" number of times\")\n",
    "else:\n",
    "    print('No number appears more than',len(numList)//2,'times in the array')"
   ]
  },
  {
   "attachments": {},
   "cell_type": "markdown",
   "metadata": {},
   "source": [
    "##### ***Program to find the happy number***"
   ]
  },
  {
   "cell_type": "code",
   "execution_count": 39,
   "metadata": {},
   "outputs": [],
   "source": [
    "def checkNum(numA):\n",
    "    length = len(str(numA))\n",
    "    sum = 0\n",
    "    for i in range(length-1, 0, -1):\n",
    "        temp = numA%(10**i)\n",
    "        square = temp*temp\n",
    "        sum += square\n",
    "        numA = numA//10\n",
    "        if numA <= 9:\n",
    "            square = numA*numA\n",
    "            sum += square\n",
    "    \n",
    "    return sum\n",
    "\n",
    "num = int(input('Enter the number')) \n",
    "\n",
    "if num == 1:\n",
    "    print('{} is a happy number'.format(num))\n",
    "elif 1 < num < 9:    \n",
    "    print('{} is not a happy number'.format(num))\n",
    "else:\n",
    "    result = checkNum(num)\n",
    "    while result > 9:\n",
    "        result = checkNum(result)\n",
    "    if result == 1:\n",
    "        print('{} is a happy number'.format(num))\n",
    "    else:\n",
    "        print('{} is not a happy number'.format(num))"
   ]
  }
 ],
 "metadata": {
  "kernelspec": {
   "display_name": "Python 3",
   "language": "python",
   "name": "python3"
  },
  "language_info": {
   "codemirror_mode": {
    "name": "ipython",
    "version": 3
   },
   "file_extension": ".py",
   "mimetype": "text/x-python",
   "name": "python",
   "nbconvert_exporter": "python",
   "pygments_lexer": "ipython3",
   "version": "3.10.11"
  },
  "orig_nbformat": 4
 },
 "nbformat": 4,
 "nbformat_minor": 2
}
