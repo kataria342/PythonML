{
 "cells": [
  {
   "attachments": {},
   "cell_type": "markdown",
   "metadata": {},
   "source": [
    "#### Python program to check if a number is a palindrome"
   ]
  },
  {
   "cell_type": "code",
   "execution_count": 7,
   "metadata": {},
   "outputs": [
    {
     "name": "stdout",
     "output_type": "stream",
     "text": [
      "123 is not a palindrome number\n"
     ]
    }
   ],
   "source": [
    "def checkPal(num):\n",
    "    strNumA = str(num)\n",
    "    strNumB = strNumA[::-1]\n",
    "    if strNumA == strNumB:\n",
    "        return True\n",
    "    else:\n",
    "        return False\n",
    "\n",
    "num = int(input('Enter the number'))\n",
    "if checkPal(num):\n",
    "    print(num,'is a palindrome number')\n",
    "else:    \n",
    "    print(num,'is not a palindrome number')"
   ]
  },
  {
   "attachments": {},
   "cell_type": "markdown",
   "metadata": {},
   "source": [
    "#### Python program to convert roman numeral to an integer."
   ]
  },
  {
   "cell_type": "code",
   "execution_count": 37,
   "metadata": {},
   "outputs": [
    {
     "name": "stdout",
     "output_type": "stream",
     "text": [
      "cd equals to  400 in numerical value\n"
     ]
    }
   ],
   "source": [
    "def validateNumber(roman):\n",
    "    romanLetters = ['M','D','C','L','X','V','I']\n",
    "    for i in roman.upper():\n",
    "        if i not in romanLetters:\n",
    "            return False\n",
    "        else:\n",
    "            return True\n",
    "    \n",
    "def romanToInt(roman):\n",
    "    totalLen = len(roman)\n",
    "    romInt = {'I':1,'V':5,'X':10,'L':50,'C':100,'D':500,'M':1000}\n",
    "    numValue = i = 0;\n",
    "    # for i in range(totalLen):\n",
    "    #     numValue += romInt.get(roman[i])\n",
    "    # return numValue\n",
    "    while i < totalLen:\n",
    "        if i != totalLen-1:\n",
    "            if roman[i] == 'I' and roman[i+1] == 'V':\n",
    "                numValue +=4\n",
    "                i = i+2\n",
    "            elif roman[i] == 'I' and roman[i+1] == 'X':\n",
    "                numValue +=9\n",
    "                i = i+2\n",
    "            elif roman[i] == 'X' and roman[i+1] == 'L':\n",
    "                numValue +=40\n",
    "                i = i+2\n",
    "            elif roman[i] == 'X' and roman[i+1] == 'C':\n",
    "                numValue +=90\n",
    "                i = i+2\n",
    "            elif roman[i] == 'C' and roman[i+1] == 'D':\n",
    "                numValue +=400\n",
    "                i = i+2\n",
    "            elif roman[i] == 'C' and roman[i+1] == 'M':\n",
    "                numValue +=900\n",
    "                i = i+2\n",
    "            else:\n",
    "                numValue += romInt.get(roman[i])\n",
    "                i = i+1\n",
    "        else:\n",
    "            numValue += romInt.get(roman[i])\n",
    "            i = i+1\n",
    "    return numValue\n",
    "\n",
    "romanNum = input('Enter the roman number')\n",
    "if validateNumber(romanNum.upper()):\n",
    "    print(romanNum,'equals to ',romanToInt(romanNum.upper()),'in numerical value')\n",
    "else:\n",
    "    print(romanNum,'is not a valid Roman numeral. Please enter valid Roman numeral')"
   ]
  }
 ],
 "metadata": {
  "kernelspec": {
   "display_name": "Python 3",
   "language": "python",
   "name": "python3"
  },
  "language_info": {
   "codemirror_mode": {
    "name": "ipython",
    "version": 3
   },
   "file_extension": ".py",
   "mimetype": "text/x-python",
   "name": "python",
   "nbconvert_exporter": "python",
   "pygments_lexer": "ipython3",
   "version": "3.10.11"
  },
  "orig_nbformat": 4
 },
 "nbformat": 4,
 "nbformat_minor": 2
}
