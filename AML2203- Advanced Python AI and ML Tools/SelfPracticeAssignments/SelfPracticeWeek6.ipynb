{
 "cells": [
  {
   "attachments": {},
   "cell_type": "markdown",
   "metadata": {},
   "source": [
    "#### Python program to check a sequence of numbers is an arithmetic progression or not. "
   ]
  },
  {
   "cell_type": "code",
   "execution_count": null,
   "metadata": {},
   "outputs": [],
   "source": [
    "Input = [5, 7, 9, 11, 13, 14, 17]\n",
    "diff = Input[1]-Input[0]\n",
    "status = True\n",
    "for i in range(1, len(Input)-1):\n",
    "    if Input[i+1] - Input[i] == diff:\n",
    "        continue\n",
    "    else:\n",
    "        status = False\n",
    "        break\n",
    "\n",
    "if status:\n",
    "    print(\"List is in AP\")\n",
    "else:\n",
    "    print(\"List is not in AP\")"
   ]
  },
  {
   "attachments": {},
   "cell_type": "markdown",
   "metadata": {},
   "source": [
    "#### Python program to check whether a given number is an ugly number. "
   ]
  },
  {
   "cell_type": "code",
   "execution_count": null,
   "metadata": {},
   "outputs": [],
   "source": [
    "num = int(input('Enter the number: '))\n",
    "if num == 1:\n",
    "    print(num,\"is an ugly number\")\n",
    "else:\n",
    "    if num%2 == 0:\n",
    "        print(num,'is a ugly number')\n",
    "    elif num%3 == 0 or num%5 ==0:\n",
    "        print(num,'is a ugly number')\n",
    "    else:\n",
    "        print(num,'is not a ugly number')"
   ]
  },
  {
   "cell_type": "code",
   "execution_count": null,
   "metadata": {},
   "outputs": [],
   "source": [
    "for i in range(7, 13):\n",
    "    print(i)"
   ]
  },
  {
   "cell_type": "code",
   "execution_count": null,
   "metadata": {},
   "outputs": [],
   "source": [
    "ugly = [1,2,3,4,5,6,8,9,10]\n",
    "n = 12\n",
    "if n not in ugly:\n",
    "    if n <= 0:\n",
    "        print(\"n less than 0\")\n",
    "    for i in range(7,n+1):\n",
    "        if i%2 == 0 or i%3 == 0 or i%5 == 0:\n",
    "            continue\n",
    "        else:\n",
    "            print(i)\n",
    "            if n%i == 0:\n",
    "                print(i)\n"
   ]
  },
  {
   "cell_type": "code",
   "execution_count": 1,
   "metadata": {},
   "outputs": [],
   "source": []
  },
  {
   "cell_type": "code",
   "execution_count": 1,
   "metadata": {},
   "outputs": [
    {
     "ename": "",
     "evalue": "",
     "output_type": "error",
     "traceback": [
      "\u001b[1;31mCanceled future for execute_request message before replies were done"
     ]
    },
    {
     "ename": "",
     "evalue": "",
     "output_type": "error",
     "traceback": [
      "\u001b[1;31mThe Kernel crashed while executing code in the the current cell or a previous cell. Please review the code in the cell(s) to identify a possible cause of the failure. Click <a href='https://aka.ms/vscodeJupyterKernelCrash'>here</a> for more info. View Jupyter <a href='command:jupyter.viewOutput'>log</a> for further details."
     ]
    }
   ],
   "source": [
    "def findfactor(num, i):\n",
    "    if num%i == 0:\n",
    "        if i%2 == 0 or num%3 == 0 or num%5 == 0 :\n",
    "            pass\n",
    "        else:\n",
    "            return False\n",
    "    else:\n",
    "        i = i+2;\n",
    "        findfactor(num, i)\n",
    "    \n",
    "    return True\n",
    "\n",
    "num = int(input('Enter the number'))\n",
    "ugly = [1,2,3,4,5,6,8,9,10]\n",
    "i = 7\n",
    "result = True\n",
    "if num < 0 or num in ugly:\n",
    "    pass\n",
    "else:\n",
    "    result = findfactor(num, i)\n",
    "\n",
    "if result:\n",
    "    print(num, 'is an ugly number')\n",
    "else:\n",
    "    print(num, 'is not an ugly number')"
   ]
  },
  {
   "cell_type": "code",
   "execution_count": null,
   "metadata": {},
   "outputs": [],
   "source": []
  }
 ],
 "metadata": {
  "kernelspec": {
   "display_name": "Python 3",
   "language": "python",
   "name": "python3"
  },
  "language_info": {
   "codemirror_mode": {
    "name": "ipython",
    "version": 3
   },
   "file_extension": ".py",
   "mimetype": "text/x-python",
   "name": "python",
   "nbconvert_exporter": "python",
   "pygments_lexer": "ipython3",
   "version": "3.10.11"
  },
  "orig_nbformat": 4
 },
 "nbformat": 4,
 "nbformat_minor": 2
}
