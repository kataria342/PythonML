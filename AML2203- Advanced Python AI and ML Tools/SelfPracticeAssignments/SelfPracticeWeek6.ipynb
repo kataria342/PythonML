{
 "cells": [
  {
   "attachments": {},
   "cell_type": "markdown",
   "metadata": {},
   "source": [
    "#### Python program to check a sequence of numbers is an arithmetic progression or not. "
   ]
  },
  {
   "cell_type": "code",
   "execution_count": null,
   "metadata": {},
   "outputs": [],
   "source": [
    "Input = [5, 7, 9, 11, 13, 14, 17]\n",
    "diff = Input[1]-Input[0]\n",
    "status = True\n",
    "for i in range(1, len(Input)-1):\n",
    "    if Input[i+1] - Input[i] == diff:\n",
    "        continue\n",
    "    else:\n",
    "        status = False\n",
    "        break\n",
    "\n",
    "if status:\n",
    "    print(\"List is in AP\")\n",
    "else:\n",
    "    print(\"List is not in AP\")"
   ]
  },
  {
   "attachments": {},
   "cell_type": "markdown",
   "metadata": {},
   "source": [
    "#### Python program to check whether a given number is an ugly number. "
   ]
  },
  {
   "cell_type": "code",
   "execution_count": 29,
   "metadata": {},
   "outputs": [
    {
     "name": "stdout",
     "output_type": "stream",
     "text": [
      "29 is a prime number\n"
     ]
    }
   ],
   "source": [
    "def findfactor(num,count):\n",
    "    if num%5 == 0:\n",
    "        num = num//5\n",
    "        count = 1\n",
    "        return findfactor(num,count)\n",
    "    elif  num%3 == 0:\n",
    "        num = num//3\n",
    "        count = 1\n",
    "        return findfactor(num,count)\n",
    "    elif num%2 == 0:\n",
    "        num = num//2\n",
    "        count = 1\n",
    "        return findfactor(num,count)\n",
    "    else:\n",
    "        return num, count\n",
    "\n",
    "num = int(input('Enter the number'))\n",
    "ugly = [1,2,3,4,5,6,8,9,10]\n",
    "if num <= 0 or num in ugly:\n",
    "    print(num, 'is an ugly number')\n",
    "else:\n",
    "    resultValue, status = findfactor(num,count=0)\n",
    "    if ((resultValue == num) and (status == 1))  or (resultValue == 1):\n",
    "        print(num, 'is an ugly number')\n",
    "    elif((resultValue == num) and (status < 1)):\n",
    "        print(num, 'is a prime number')\n",
    "    else:\n",
    "        print(num, 'is not an ugly number')"
   ]
  },
  {
   "attachments": {},
   "cell_type": "markdown",
   "metadata": {},
   "source": [
    "#### Python Function to find the single number in a list that doesn't occur n times."
   ]
  },
  {
   "cell_type": "code",
   "execution_count": 6,
   "metadata": {},
   "outputs": [
    {
     "name": "stdout",
     "output_type": "stream",
     "text": [
      "[5]\n"
     ]
    }
   ],
   "source": [
    "def findNum(numList, count):\n",
    "    countDict = {}\n",
    "    finalList = []\n",
    "    for i in numList:\n",
    "        if i in countDict:\n",
    "            countDict[i] = countDict.get(i) + 1\n",
    "        else:\n",
    "            countDict[i] = 1\n",
    "    \n",
    "    for i, j in countDict.items():\n",
    "        if j !=  count:\n",
    "            finalList.append(i)\n",
    "    return finalList\n",
    "\n",
    "\n",
    "numList = [5, 3, 3, 4, 4, 3, 4]\n",
    "count = int(input('Enter the count'))\n",
    "print(findNum(numList, count))\n",
    "\n"
   ]
  },
  {
   "cell_type": "code",
   "execution_count": null,
   "metadata": {},
   "outputs": [],
   "source": []
  }
 ],
 "metadata": {
  "kernelspec": {
   "display_name": "Python 3",
   "language": "python",
   "name": "python3"
  },
  "language_info": {
   "codemirror_mode": {
    "name": "ipython",
    "version": 3
   },
   "file_extension": ".py",
   "mimetype": "text/x-python",
   "name": "python",
   "nbconvert_exporter": "python",
   "pygments_lexer": "ipython3",
   "version": "3.10.11"
  },
  "orig_nbformat": 4
 },
 "nbformat": 4,
 "nbformat_minor": 2
}
