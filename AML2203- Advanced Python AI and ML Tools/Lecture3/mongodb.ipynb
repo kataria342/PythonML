{
 "cells": [
  {
   "cell_type": "code",
   "execution_count": 1,
   "metadata": {},
   "outputs": [],
   "source": [
    "from pymongo import MongoClient"
   ]
  },
  {
   "cell_type": "code",
   "execution_count": 2,
   "metadata": {},
   "outputs": [],
   "source": [
    "client = MongoClient()"
   ]
  },
  {
   "cell_type": "code",
   "execution_count": 3,
   "metadata": {},
   "outputs": [],
   "source": [
    "db = client.test"
   ]
  },
  {
   "cell_type": "code",
   "execution_count": 4,
   "metadata": {},
   "outputs": [],
   "source": [
    "student = db.student"
   ]
  },
  {
   "cell_type": "code",
   "execution_count": 10,
   "metadata": {},
   "outputs": [],
   "source": [
    "std_det = {\n",
    "    'Name':'Integer Course',\n",
    "    'program':123,\n",
    "    'city':'Toronto'\n",
    "}"
   ]
  },
  {
   "cell_type": "code",
   "execution_count": 11,
   "metadata": {},
   "outputs": [],
   "source": [
    "result = student.insert_one(std_det)"
   ]
  },
  {
   "cell_type": "code",
   "execution_count": 12,
   "metadata": {},
   "outputs": [
    {
     "name": "stdout",
     "output_type": "stream",
     "text": [
      "647e6144653f9587f7d551a2\n"
     ]
    }
   ],
   "source": [
    "print(result.inserted_id)"
   ]
  },
  {
   "cell_type": "code",
   "execution_count": 45,
   "metadata": {},
   "outputs": [
    {
     "name": "stdout",
     "output_type": "stream",
     "text": [
      "['admin', 'config', 'local', 'studentDetails', 'test']\n"
     ]
    }
   ],
   "source": [
    "dbList = client.list_database_names()\n",
    "print(dbList)"
   ]
  },
  {
   "cell_type": "code",
   "execution_count": 30,
   "metadata": {},
   "outputs": [
    {
     "name": "stdout",
     "output_type": "stream",
     "text": [
      "<class 'list'>\n"
     ]
    }
   ],
   "source": [
    "print(type(client.list_database_names()))"
   ]
  },
  {
   "cell_type": "code",
   "execution_count": 41,
   "metadata": {},
   "outputs": [
    {
     "name": "stdout",
     "output_type": "stream",
     "text": [
      "The 'test' db exists.\n"
     ]
    }
   ],
   "source": [
    "dbName = 'test'\n",
    "if dbName in dbList:\n",
    "    print(\"The '{}' db exists.\".format(dbName))\n",
    "else:    \n",
    "    print(\"The '{}' db does not exists.\".format(dbName))\n"
   ]
  },
  {
   "cell_type": "code",
   "execution_count": 40,
   "metadata": {},
   "outputs": [
    {
     "name": "stdout",
     "output_type": "stream",
     "text": [
      "Collection 'student1' does not exist in the db\n"
     ]
    }
   ],
   "source": [
    "collection_list = db.list_collection_names()\n",
    "collectionName = 'student1'\n",
    "if collectionName in collection_list:\n",
    "    print(\"Collection '{}' exist in the db\".format(collectionName))\n",
    "else:\n",
    "    print(\"Collection '{}' does not exist in the db\".format(collectionName))"
   ]
  },
  {
   "cell_type": "code",
   "execution_count": 14,
   "metadata": {},
   "outputs": [],
   "source": [
    "x = student.find_one()"
   ]
  },
  {
   "cell_type": "code",
   "execution_count": 12,
   "metadata": {},
   "outputs": [
    {
     "name": "stdout",
     "output_type": "stream",
     "text": [
      "{'_id': ObjectId('647ab4b8d200223376e712bf'), 'Name': 'Prabhjeet', 'program': 'AIML', 'city': 'Toronto'}\n"
     ]
    }
   ],
   "source": [
    "print(x)"
   ]
  },
  {
   "cell_type": "code",
   "execution_count": 14,
   "metadata": {},
   "outputs": [],
   "source": [
    "std_mul = [\n",
    "{\n",
    "    'Name':'Rahul',\n",
    "    'program':'AIML',\n",
    "    'city':'Toronto'\n",
    "},\n",
    "{\n",
    "    'Name':'Dev',\n",
    "    'program':'AIML',\n",
    "    'city':'Toronto'\n",
    "},\n",
    "{\n",
    "    'Name':'Jagpreet',\n",
    "    'program':'AIML',\n",
    "    'city':'Toronto'\n",
    "}\n",
    "]"
   ]
  },
  {
   "cell_type": "code",
   "execution_count": 15,
   "metadata": {},
   "outputs": [],
   "source": [
    "result = student.insert_many(std_mul)"
   ]
  },
  {
   "cell_type": "code",
   "execution_count": 16,
   "metadata": {},
   "outputs": [
    {
     "name": "stdout",
     "output_type": "stream",
     "text": [
      "<pymongo.results.InsertManyResult object at 0x000002910B61BCA0>\n"
     ]
    }
   ],
   "source": [
    "print(result)"
   ]
  },
  {
   "cell_type": "code",
   "execution_count": 15,
   "metadata": {},
   "outputs": [
    {
     "name": "stdout",
     "output_type": "stream",
     "text": [
      "{'_id': ObjectId('647ab4b8d200223376e712bf'), 'Name': 'Prabhjeet', 'program': 'AIML', 'city': 'Toronto'}\n",
      "{'_id': ObjectId('647bb277d200223376e712c0'), 'Name': 'Rahul', 'program': 'AIML', 'city': 'Toronto'}\n",
      "{'_id': ObjectId('647bb277d200223376e712c1'), 'Name': 'Dev', 'program': 'AIML', 'city': 'Toronto'}\n",
      "{'_id': ObjectId('647bb277d200223376e712c2'), 'Name': 'Jagpreet', 'program': 'AIML', 'city': 'Toronto'}\n",
      "{'_id': ObjectId('647e6144653f9587f7d551a2'), 'Name': 'Integer Course', 'program': 123, 'city': 'Toronto'}\n"
     ]
    }
   ],
   "source": [
    "for x in student.find():\n",
    "    print(x)"
   ]
  },
  {
   "cell_type": "code",
   "execution_count": 26,
   "metadata": {},
   "outputs": [
    {
     "name": "stdout",
     "output_type": "stream",
     "text": [
      "{'_id': ObjectId('647ab4b8d200223376e712bf'), 'Name': 'Prabhjeet', 'program': 'AIML', 'city': 'Toronto'}\n",
      "{'_id': ObjectId('647bb277d200223376e712c0'), 'Name': 'Rahul', 'program': 'AIML', 'city': 'Toronto'}\n",
      "{'_id': ObjectId('647bb277d200223376e712c1'), 'Name': 'Dev', 'program': 'AIML', 'city': 'Toronto'}\n"
     ]
    }
   ],
   "source": [
    "for x in student.find().limit(3):\n",
    "    print(x)"
   ]
  },
  {
   "cell_type": "code",
   "execution_count": 73,
   "metadata": {},
   "outputs": [
    {
     "name": "stdout",
     "output_type": "stream",
     "text": [
      "{'_id': ObjectId('647ab4b8d200223376e712bf'), 'Name': 'Prabhjeet', 'program': 'AIML', 'city': 'Toronto'}\n",
      "{'_id': ObjectId('647bb277d200223376e712c0'), 'Name': 'Rahul', 'program': 'AIML', 'city': 'Toronto'}\n"
     ]
    }
   ],
   "source": [
    "result = student.find()\n",
    "\n",
    "for i,j in enumerate(result,0):\n",
    "    if i < 2:\n",
    "        print(j)"
   ]
  },
  {
   "cell_type": "code",
   "execution_count": 74,
   "metadata": {},
   "outputs": [
    {
     "name": "stdout",
     "output_type": "stream",
     "text": [
      "<pymongo.cursor.Cursor object at 0x000002321B9AA440>\n"
     ]
    }
   ],
   "source": [
    "print(result)"
   ]
  },
  {
   "cell_type": "code",
   "execution_count": 51,
   "metadata": {},
   "outputs": [
    {
     "name": "stdout",
     "output_type": "stream",
     "text": [
      "{'_id': ObjectId('647ab4b8d200223376e712bf'), 'Name': 'Prabhjeet'}\n",
      "{'_id': ObjectId('647bb277d200223376e712c0'), 'Name': 'Rahul'}\n",
      "{'_id': ObjectId('647bb277d200223376e712c1'), 'Name': 'Dev'}\n",
      "{'_id': ObjectId('647bb277d200223376e712c2'), 'Name': 'Jagpreet'}\n"
     ]
    }
   ],
   "source": [
    "for x in student.find({},{'_id':1, \"Name\":1}):\n",
    "    print(x)"
   ]
  },
  {
   "cell_type": "code",
   "execution_count": 58,
   "metadata": {},
   "outputs": [
    {
     "name": "stdout",
     "output_type": "stream",
     "text": [
      "{'_id': ObjectId('647bb277d200223376e712c0'), 'Name': 'Rahul', 'program': 'AIML', 'city': 'Toronto'}\n",
      "{'_id': ObjectId('647bb277d200223376e712c1'), 'Name': 'Dev', 'program': 'AIML', 'city': 'Toronto'}\n",
      "{'_id': ObjectId('647bb277d200223376e712c2'), 'Name': 'Jagpreet', 'program': 'AIML', 'city': 'Toronto'}\n"
     ]
    }
   ],
   "source": [
    "for x in student.find({\"Name\":{\"$ne\":\"Prabhjeet\"}}):\n",
    "    print(x)"
   ]
  },
  {
   "cell_type": "code",
   "execution_count": 26,
   "metadata": {},
   "outputs": [],
   "source": [
    "for x in student.find({\"Name\":{\"$eq\":\"prabhjeet\"}}):\n",
    "    print(x)"
   ]
  },
  {
   "attachments": {},
   "cell_type": "markdown",
   "metadata": {},
   "source": [
    "#### Expirement with empty DBs"
   ]
  },
  {
   "cell_type": "code",
   "execution_count": 47,
   "metadata": {},
   "outputs": [],
   "source": [
    "db1 = client.emptyDB\n",
    "newCollection = db1.employee"
   ]
  },
  {
   "cell_type": "code",
   "execution_count": 54,
   "metadata": {},
   "outputs": [
    {
     "data": {
      "text/plain": [
       "['admin', 'config', 'local', 'studentDetails', 'test']"
      ]
     },
     "execution_count": 54,
     "metadata": {},
     "output_type": "execute_result"
    }
   ],
   "source": [
    "client.list_database_names()  # Database emptyDB will not appear as it does not have any record yet"
   ]
  },
  {
   "cell_type": "code",
   "execution_count": 53,
   "metadata": {},
   "outputs": [
    {
     "name": "stdout",
     "output_type": "stream",
     "text": [
      "[]\n"
     ]
    }
   ],
   "source": [
    "print(db1.list_collection_names())"
   ]
  },
  {
   "cell_type": "code",
   "execution_count": 56,
   "metadata": {},
   "outputs": [
    {
     "name": "stdout",
     "output_type": "stream",
     "text": [
      "{'_id': ObjectId('647ab4b8d200223376e712bf'), 'Name': 'Prabhjeet', 'program': 'AIML', 'city': 'Toronto'}\n"
     ]
    }
   ],
   "source": [
    "x = student.find_one()\n",
    "print(x)    "
   ]
  },
  {
   "cell_type": "code",
   "execution_count": 91,
   "metadata": {},
   "outputs": [
    {
     "name": "stdout",
     "output_type": "stream",
     "text": [
      "{'Name': 'Prabhjeet', 'city': 'Toronto'}\n",
      "{'Name': 'Rahul', 'city': 'Toronto'}\n"
     ]
    }
   ],
   "source": [
    "# Print only specified fields\n",
    "for x in student.find({},{\"_id\":0,\"Name\":1,\"city\":1})[:2]:\n",
    "    print(x)"
   ]
  },
  {
   "cell_type": "code",
   "execution_count": 92,
   "metadata": {},
   "outputs": [
    {
     "name": "stdout",
     "output_type": "stream",
     "text": [
      "{'_id': ObjectId('647ab4b8d200223376e712bf'), 'program': 'AIML'}\n",
      "{'_id': ObjectId('647bb277d200223376e712c0'), 'program': 'AIML'}\n"
     ]
    }
   ],
   "source": [
    "# Do not Print the specified fields\n",
    "for x in student.find({},{\"_id\":1,\"Name\":0,\"city\":0})[:2]:\n",
    "    print(x)"
   ]
  },
  {
   "attachments": {},
   "cell_type": "markdown",
   "metadata": {},
   "source": [
    "#### **Advanced MongoDB query**"
   ]
  },
  {
   "attachments": {},
   "cell_type": "markdown",
   "metadata": {},
   "source": [
    "##### *Equality Operator*"
   ]
  },
  {
   "cell_type": "code",
   "execution_count": 111,
   "metadata": {},
   "outputs": [
    {
     "name": "stdout",
     "output_type": "stream",
     "text": [
      "{'_id': ObjectId('647ab4b8d200223376e712bf'), 'Name': 'Prabhjeet', 'program': 'AIML', 'city': 'Toronto'}\n",
      "{'_id': ObjectId('647bb277d200223376e712c0'), 'Name': 'Rahul', 'program': 'AIML', 'city': 'Toronto'}\n"
     ]
    }
   ],
   "source": [
    "query = {'program':'AIML'}\n",
    "result = student.find(query).limit(2)\n",
    "for x in result:\n",
    "    print(x)"
   ]
  },
  {
   "attachments": {},
   "cell_type": "markdown",
   "metadata": {},
   "source": [
    "##### *regex Operations*"
   ]
  },
  {
   "cell_type": "code",
   "execution_count": 123,
   "metadata": {},
   "outputs": [
    {
     "data": {
      "text/plain": [
       "<pymongo.results.InsertOneResult at 0x2321b17eaa0>"
      ]
     },
     "execution_count": 123,
     "metadata": {},
     "output_type": "execute_result"
    }
   ],
   "source": [
    "student.insert_one({\n",
    "    'Name':'Aleen',\n",
    "    'program':'AIML',\n",
    "    'city':'Toronto'\n",
    "})"
   ]
  },
  {
   "cell_type": "code",
   "execution_count": 121,
   "metadata": {},
   "outputs": [
    {
     "name": "stdout",
     "output_type": "stream",
     "text": [
      "{'_id': '647ab4b8d200223376e712bf', 'Name': 'Sumit', 'program': 'AIML', 'city': 'Toronto'}\n",
      "{'_id': \"ObjectId('647e6144653f9587f7d551a2')\", 'Name': 'Sumit1', 'program': 'AIML', 'city': 'Toronto'}\n"
     ]
    }
   ],
   "source": [
    "query = {'Name':{\"$regex\":\"^S\"}}  ### Statring with char S\n",
    "result = student.find(query)\n",
    "for x in result:\n",
    "    print(x)"
   ]
  },
  {
   "cell_type": "code",
   "execution_count": 131,
   "metadata": {},
   "outputs": [
    {
     "name": "stdout",
     "output_type": "stream",
     "text": [
      "{'_id': ObjectId('647bb277d200223376e712c0'), 'Name': 'Rahul', 'program': 'AIML', 'city': 'Toronto'}\n",
      "{'_id': ObjectId('647e7c2a653f9587f7d551a3'), 'Name': 'ALLen', 'program': 'AIML', 'city': 'Toronto'}\n",
      "{'_id': ObjectId('647e7c30653f9587f7d551a4'), 'Name': 'Aleen', 'program': 'AIML', 'city': 'Toronto'}\n"
     ]
    }
   ],
   "source": [
    "query = {'Name':{\"$regex\":\"l\", '$options' : 'i'}}  ### containing char l in both cases\n",
    "result = student.find(query)\n",
    "for x in result:\n",
    "    print(x)"
   ]
  },
  {
   "attachments": {},
   "cell_type": "markdown",
   "metadata": {},
   "source": [
    "##### *AND Operator*"
   ]
  },
  {
   "cell_type": "code",
   "execution_count": 134,
   "metadata": {},
   "outputs": [
    {
     "name": "stdout",
     "output_type": "stream",
     "text": [
      "{'_id': ObjectId('647ab4b8d200223376e712bf'), 'Name': 'Prabhjeet', 'program': 'AIML', 'city': 'Toronto'}\n"
     ]
    }
   ],
   "source": [
    "query = {'$and':[{'program':'AIML'},\n",
    "                 {'Name':'Prabhjeet'}]}\n",
    "result = student.find(query)\n",
    "for x in result:\n",
    "    print(x)"
   ]
  },
  {
   "cell_type": "code",
   "execution_count": 156,
   "metadata": {},
   "outputs": [
    {
     "name": "stdout",
     "output_type": "stream",
     "text": [
      "{'_id': 6, 'name': 'Vicky', 'address': 'Yellow Garden 124'}\n",
      "{'_id': 8, 'name': 'Nancy', 'address': 'Younge Ave. 123'}\n"
     ]
    }
   ],
   "source": [
    "query = {'$and':[{'address':{\"$regex\": \"^Y\", '$options' : 'i'}},   ### Addresss starts with Y and is should have 1 \n",
    "                  {'address':{\"$regex\": \"1\"}}]}\n",
    "result = student.find(query)\n",
    "for x in result:\n",
    "    print(x)"
   ]
  },
  {
   "cell_type": "code",
   "execution_count": 165,
   "metadata": {},
   "outputs": [
    {
     "name": "stdout",
     "output_type": "stream",
     "text": [
      "{'_id': 6, 'name': 'Vicky', 'address': 'Yellow Garden 124'}\n",
      "{'_id': 7, 'name': 'Nicky', 'address': 'Yellow Garden 23'}\n",
      "{'_id': 8, 'name': 'Nancy', 'address': 'Younge Ave. 123'}\n"
     ]
    }
   ],
   "source": [
    "query = {'$or':[{'name':{\"$regex\": \"^N\"}},\n",
    "            {'$and':[{'address':{\"$regex\": \"^Y\"}},{'address':{\"$regex\": \"1\"}}]}\n",
    "                ]\n",
    "}\n",
    "result = student.find(query)\n",
    "for x in result:\n",
    "    print(x)"
   ]
  },
  {
   "cell_type": "code",
   "execution_count": 166,
   "metadata": {},
   "outputs": [
    {
     "name": "stdout",
     "output_type": "stream",
     "text": [
      "{'_id': 6, 'name': 'Vicky', 'address': 'Yellow Garden 124'}\n",
      "{'_id': 8, 'name': 'Nancy', 'address': 'Younge Ave. 123'}\n"
     ]
    }
   ],
   "source": [
    "query = {'$and':[{'address':{\"$regex\": \"^Y\"}},   ### Addresss starts with Y and is should have 1 \n",
    "                  {'address':{\"$regex\": \"1\"}},\n",
    "                  {'name':{\"$ne\": \"Nicky\"}}\n",
    "                  ]}\n",
    "result = student.find(query)\n",
    "for x in result:\n",
    "    print(x)                  "
   ]
  },
  {
   "cell_type": "code",
   "execution_count": 178,
   "metadata": {},
   "outputs": [
    {
     "name": "stdout",
     "output_type": "stream",
     "text": [
      "{'_id': 6, 'name': 'Vicky', 'address': 'Yellow Garden 124'}\n"
     ]
    }
   ],
   "source": [
    "query = {'$and':[{'address':{\"$regex\": \"^Y\"}},   ### Addresss starts with Y and is should have 1 \n",
    "                  {'address':{\"$regex\": \"1\"}},\n",
    "                  {'name': {\"$regex\": \"^(?![N])\"}}\n",
    "                  ]}\n",
    "result = student.find(query)\n",
    "for x in result:\n",
    "    print(x)                  "
   ]
  },
  {
   "attachments": {},
   "cell_type": "markdown",
   "metadata": {},
   "source": [
    "##### *OR Operator*"
   ]
  },
  {
   "cell_type": "code",
   "execution_count": 157,
   "metadata": {},
   "outputs": [
    {
     "name": "stdout",
     "output_type": "stream",
     "text": [
      "{'_id': ObjectId('647ab4b8d200223376e712bf'), 'Name': 'Prabhjeet', 'program': 'AIML', 'city': 'Toronto'}\n",
      "{'_id': ObjectId('647bb277d200223376e712c0'), 'Name': 'Rahul', 'program': 'AIML', 'city': 'Toronto'}\n",
      "{'_id': ObjectId('647bb277d200223376e712c1'), 'Name': 'Dev', 'program': 'AIML', 'city': 'Toronto'}\n",
      "{'_id': ObjectId('647bb277d200223376e712c2'), 'Name': 'Jagpreet', 'program': 'AIML', 'city': 'Toronto'}\n",
      "{'_id': '647ab4b8d200223376e712bf', 'Name': 'Sumit', 'program': 'AIML', 'city': 'Toronto'}\n",
      "{'_id': \"ObjectId('647e6144653f9587f7d551a2')\", 'Name': 'Sumit1', 'program': 'AIML', 'city': 'Toronto'}\n",
      "{'_id': ObjectId('647e7c2a653f9587f7d551a3'), 'Name': 'ALLen', 'program': 'AIML', 'city': 'Toronto'}\n",
      "{'_id': ObjectId('647e7c30653f9587f7d551a4'), 'Name': 'Aleen', 'program': 'AIML', 'city': 'Toronto'}\n"
     ]
    }
   ],
   "source": [
    "query = {'$or':[{'program':'AIML'},             ### OR operator with multiple conditions\n",
    "                {'Name':'Prabhjeet'}]}\n",
    "result = student.find(query)\n",
    "for x in result:\n",
    "    print(x)"
   ]
  },
  {
   "cell_type": "code",
   "execution_count": 141,
   "metadata": {},
   "outputs": [
    {
     "name": "stdout",
     "output_type": "stream",
     "text": [
      "{'_id': 2, 'name': 'Peter', 'address': 'Lowstreet 27'}\n"
     ]
    }
   ],
   "source": [
    "query = {'name':{\"$regex\": \"^s|^p\", '$options' : 'i'}}  ### Combining two conditions\n",
    "result = student.find(query)\n",
    "for x in result:\n",
    "    print(x)"
   ]
  },
  {
   "cell_type": "code",
   "execution_count": 139,
   "metadata": {},
   "outputs": [
    {
     "data": {
      "text/plain": [
       "<pymongo.results.InsertManyResult at 0x2321c42beb0>"
      ]
     },
     "execution_count": 139,
     "metadata": {},
     "output_type": "execute_result"
    }
   ],
   "source": [
    "mylist = [{\"_id\":1,\"name\":\"John\",\"address\":\"Highway 37\"},\n",
    "          {\"_id\":2,\"name\":\"Peter\",\"address\":\"Lowstreet 27\"},\n",
    "          {\"_id\":3,\"name\":\"Amy\",\"address\":\"Close st 652\"},\n",
    "          {\"_id\":4,\"name\":\"Hannah\",\"address\":\"Mountain 21\"},\n",
    "          {\"_id\":5,\"name\":\"Michael\",\"address\":\"Valley 345\"},\n",
    "          {\"_id\":6,\"name\": \"Vicky\", \"address\": \"Yellow Garden 124\"},\n",
    "          {\"_id\":7,\"name\": \"Nicky\", \"address\": \"Yellow Garden 23\"},\n",
    "          {\"_id\":8,\"name\": \"Nancy\", \"address\": \"Younge Ave. 123\"},\n",
    "          {\"_id\":9,\"name\": \"Viola\", \"address\": \"Sideway Ave\"}]\n",
    "student.insert_many(mylist)"
   ]
  },
  {
   "cell_type": "code",
   "execution_count": 144,
   "metadata": {},
   "outputs": [
    {
     "name": "stdout",
     "output_type": "stream",
     "text": [
      "{'_id': 1, 'name': 'John', 'address': 'Highway 37'}\n",
      "{'_id': 2, 'name': 'Peter', 'address': 'Lowstreet 27'}\n",
      "{'_id': 3, 'name': 'Amy', 'address': 'Close st 652'}\n",
      "{'_id': 4, 'name': 'Hannah', 'address': 'Mountain 21'}\n"
     ]
    }
   ],
   "source": [
    "query = {'$or':[{'name':{\"$regex\": \"^s|^p\", '$options' : 'i'}},{'_id':{'$lt':5}}]}\n",
    "result = student.find(query)\n",
    "for x in result:\n",
    "    print(x)"
   ]
  },
  {
   "cell_type": "code",
   "execution_count": null,
   "metadata": {},
   "outputs": [],
   "source": []
  }
 ],
 "metadata": {
  "kernelspec": {
   "display_name": "Python 3",
   "language": "python",
   "name": "python3"
  },
  "language_info": {
   "codemirror_mode": {
    "name": "ipython",
    "version": 3
   },
   "file_extension": ".py",
   "mimetype": "text/x-python",
   "name": "python",
   "nbconvert_exporter": "python",
   "pygments_lexer": "ipython3",
   "version": "3.10.11"
  },
  "orig_nbformat": 4
 },
 "nbformat": 4,
 "nbformat_minor": 2
}
