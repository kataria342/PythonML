{
 "cells": [
  {
   "attachments": {},
   "cell_type": "markdown",
   "metadata": {},
   "source": [
    "#### Reverese the number > add them > reverese the result"
   ]
  },
  {
   "cell_type": "code",
   "execution_count": 3,
   "metadata": {},
   "outputs": [
    {
     "name": "stdout",
     "output_type": "stream",
     "text": [
      "Sum of  12  and  13  number is :  25\n"
     ]
    }
   ],
   "source": [
    "numA = int(input(\"Enter first number: \\n\"))\n",
    "numB = int(input(\"Enter Second number: \\n\"))\n",
    "\n",
    "rev_numA = str(numA)[::-1]\n",
    "rev_numB = str(numB)[::-1]\n",
    "\n",
    "sum = int(rev_numA) + int(rev_numB)\n",
    "\n",
    "result = str(sum)[::-1]\n",
    "print('Sum of ',numA,' and ',numB,' number is : ', result)"
   ]
  },
  {
   "attachments": {},
   "cell_type": "markdown",
   "metadata": {},
   "source": [
    "#### Program to find an ugly number (having only 2,3,5 as factors)"
   ]
  },
  {
   "cell_type": "code",
   "execution_count": 10,
   "metadata": {},
   "outputs": [
    {
     "name": "stdout",
     "output_type": "stream",
     "text": [
      "13\n"
     ]
    }
   ],
   "source": [
    "num = '1234'\n",
    "print(num[::2])"
   ]
  },
  {
   "cell_type": "code",
   "execution_count": null,
   "metadata": {},
   "outputs": [],
   "source": []
  }
 ],
 "metadata": {
  "kernelspec": {
   "display_name": "Python 3",
   "language": "python",
   "name": "python3"
  },
  "language_info": {
   "codemirror_mode": {
    "name": "ipython",
    "version": 3
   },
   "file_extension": ".py",
   "mimetype": "text/x-python",
   "name": "python",
   "nbconvert_exporter": "python",
   "pygments_lexer": "ipython3",
   "version": "3.10.11"
  },
  "orig_nbformat": 4
 },
 "nbformat": 4,
 "nbformat_minor": 2
}
