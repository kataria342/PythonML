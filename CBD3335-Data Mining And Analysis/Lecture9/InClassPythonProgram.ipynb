{
 "cells": [
  {
   "cell_type": "code",
   "execution_count": 1,
   "metadata": {},
   "outputs": [],
   "source": [
    "dateStr = '23-10-2022\\n \\\n",
    "            23/10/2022\\n \\\n",
    "                23/10/02\\n \\\n",
    "                    10/23/2002\\n \\\n",
    "                        23 Oct 2002\\n \\\n",
    "                            23 October 2002\\n \\\n",
    "                                Oct 23, 2002\\n \\\n",
    "                                    October 23, 2002\\n'"
   ]
  },
  {
   "cell_type": "code",
   "execution_count": 2,
   "metadata": {},
   "outputs": [],
   "source": [
    "import re"
   ]
  },
  {
   "cell_type": "code",
   "execution_count": 26,
   "metadata": {},
   "outputs": [
    {
     "name": "stdout",
     "output_type": "stream",
     "text": [
      "1. 23-10-2022\n",
      "2. 23/10/2022\n",
      "3. 23/10/02\n",
      "4. 10/23/2002\n",
      "5. 23 Oct 2002\n",
      "6. 23 October 2002\n",
      "7. Oct 23, 2002\n",
      "8. October 23, 2002\n"
     ]
    }
   ],
   "source": [
    "all = re.findall(r\"\\d{2}[-\\/]\\d{2}[-\\/]\\d{2,}|\\d{2}.\\w{3,}.\\d{4}|\\w{3,}.\\d{2}[,].\\d{2,}\", dateStr)\n",
    "for count, date in enumerate(all, start=1):\n",
    "    print(\"{count}. {date}\".format(count=count,date=date))"
   ]
  }
 ],
 "metadata": {
  "kernelspec": {
   "display_name": "Python 3",
   "language": "python",
   "name": "python3"
  },
  "language_info": {
   "codemirror_mode": {
    "name": "ipython",
    "version": 3
   },
   "file_extension": ".py",
   "mimetype": "text/x-python",
   "name": "python",
   "nbconvert_exporter": "python",
   "pygments_lexer": "ipython3",
   "version": "3.10.11"
  },
  "orig_nbformat": 4
 },
 "nbformat": 4,
 "nbformat_minor": 2
}
