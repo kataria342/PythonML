{
 "cells": [
  {
   "cell_type": "code",
   "execution_count": 1,
   "metadata": {},
   "outputs": [
    {
     "name": "stdout",
     "output_type": "stream",
     "text": [
      "4\n"
     ]
    }
   ],
   "source": [
    "numList = [5,3,4,3,5,5,3]\n",
    "repeatList = []\n",
    "singleElement = []\n",
    "for i in range(len(numList)):\n",
    "    if numList[i] not in repeatList:\n",
    "        for j in range(i+1, len(numList)):\n",
    "            if numList[i] == numList[j]:\n",
    "                repeatList.append(numList[i])                \n",
    "\n",
    "for i in range(len(numList)):\n",
    "    if numList[i] not in repeatList:\n",
    "        print(numList[i])\n",
    "           "
   ]
  },
  {
   "attachments": {},
   "cell_type": "markdown",
   "metadata": {},
   "source": [
    "input_List = [2,1,3,3,4,5]\n",
    "num = {}\n",
    "for num in input_List:\n",
    "    dic[num] = dic.get(num,0) + 1"
   ]
  },
  {
   "cell_type": "code",
   "execution_count": 15,
   "metadata": {},
   "outputs": [
    {
     "name": "stdout",
     "output_type": "stream",
     "text": [
      "{(0, 1, -1), (-1, 0, 1), (-1, 2, -1)}\n"
     ]
    }
   ],
   "source": [
    "numList = [-1, 0, 1, 2,-1,-4]\n",
    "sumList = []\n",
    "finalList = []\n",
    "\n",
    "for i in range(len(numList)-2):\n",
    "    for j in range(i+1, len(numList)-1):\n",
    "        for k in range(j+1, len(numList)):\n",
    "            if numList[i] + numList[j] + numList[k] == 0:\n",
    "                sumList = [numList[i] , numList[j] , numList[k] ]\n",
    "                sumList.sort\n",
    "                finalList.append(sumList)\n",
    "\n",
    "resultantList = {tuple(x) for x in finalList}\n",
    "print(resultantList)"
   ]
  },
  {
   "cell_type": "code",
   "execution_count": 20,
   "metadata": {},
   "outputs": [
    {
     "name": "stdout",
     "output_type": "stream",
     "text": [
      "None\n"
     ]
    }
   ],
   "source": [
    "dict = {5:3, 3:3, 4:1}\n",
    "dict1 = {}\n",
    "print(dict1.get(3))"
   ]
  },
  {
   "cell_type": "code",
   "execution_count": null,
   "metadata": {},
   "outputs": [],
   "source": []
  }
 ],
 "metadata": {
  "kernelspec": {
   "display_name": "Python 3",
   "language": "python",
   "name": "python3"
  },
  "language_info": {
   "codemirror_mode": {
    "name": "ipython",
    "version": 3
   },
   "file_extension": ".py",
   "mimetype": "text/x-python",
   "name": "python",
   "nbconvert_exporter": "python",
   "pygments_lexer": "ipython3",
   "version": "3.10.11"
  },
  "orig_nbformat": 4
 },
 "nbformat": 4,
 "nbformat_minor": 2
}
