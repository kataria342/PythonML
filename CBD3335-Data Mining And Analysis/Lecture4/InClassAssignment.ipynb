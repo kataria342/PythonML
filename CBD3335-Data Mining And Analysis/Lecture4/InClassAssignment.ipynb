{
 "cells": [
  {
   "cell_type": "code",
   "execution_count": 2,
   "metadata": {},
   "outputs": [],
   "source": [
    "sampleString = \"    Clustering is a Machine Learning technique that involves the grouping of data points. Given a set of data points, we can use a clustering algorithm to classify each data point into a specific group. In theory, data points that are in the same group should have similar properties and/or features, while data     points in ? different groups should have highly dissimilar properties and/or features. Clustering is a method of unsupervised learning and is a common technique! for statistical data analysis used in many fields.? In Data Science,     we can use clustering analysis to gain / some valuable insights from our data by seeing what groups the data points fall into when we apply a clustering algorithm. Today, we’re going to look at 5 popular clustering algorithms that data scientists need to know and their pros and cons   !   \""
   ]
  },
  {
   "attachments": {},
   "cell_type": "markdown",
   "metadata": {},
   "source": [
    "#### Stripping white spaces"
   ]
  },
  {
   "cell_type": "code",
   "execution_count": 14,
   "metadata": {},
   "outputs": [
    {
     "name": "stdout",
     "output_type": "stream",
     "text": [
      "Clustering is a Machine Learning technique that involves the grouping of data points. Given a set of data points, we can use a clustering algorithm to classify each data point into a specific group. In theory, data points that are in the same group should have similar properties and/or features, while data     points in ? different groups should have highly dissimilar properties and/or features. Clustering is a method of unsupervised learning and is a common technique! for statistical data analysis used in many fields.? In Data Science,     we can use clustering analysis to gain / some valuable insights from our data by seeing what groups the data points fall into when we apply a clustering algorithm. Today, we’re going to look at 5 popular clustering algorithms that data scientists need to know and their pros and cons   !\n"
     ]
    }
   ],
   "source": [
    "whitespaceStrippedString = sampleString.strip()\n",
    "print(whitespaceStrippedString)"
   ]
  },
  {
   "attachments": {},
   "cell_type": "markdown",
   "metadata": {},
   "source": [
    "#### Remove Periods"
   ]
  },
  {
   "cell_type": "code",
   "execution_count": 8,
   "metadata": {},
   "outputs": [
    {
     "name": "stdout",
     "output_type": "stream",
     "text": [
      "Clustering is a Machine Learning technique that involves the grouping of data points Given a set of data points, we can use a clustering algorithm to classify each data point into a specific group In theory, data points that are in the same group should have similar properties and/or features, while data     points in ? different groups should have highly dissimilar properties and/or features Clustering is a method of unsupervised learning and is a common technique! for statistical data analysis used in many fields? In Data Science,     we can use clustering analysis to gain / some valuable insights from our data by seeing what groups the data points fall into when we apply a clustering algorithm Today, we’re going to look at 5 popular clustering algorithms that data scientists need to know and their pros and cons   !\n"
     ]
    }
   ],
   "source": [
    "removedperiods = whitespaceStrippedString.replace('.','')\n",
    "print(removedperiods)"
   ]
  },
  {
   "attachments": {},
   "cell_type": "markdown",
   "metadata": {},
   "source": [
    "#### Capitalized text"
   ]
  },
  {
   "cell_type": "code",
   "execution_count": 9,
   "metadata": {},
   "outputs": [
    {
     "name": "stdout",
     "output_type": "stream",
     "text": [
      "CLUSTERING IS A MACHINE LEARNING TECHNIQUE THAT INVOLVES THE GROUPING OF DATA POINTS. GIVEN A SET OF DATA POINTS, WE CAN USE A CLUSTERING ALGORITHM TO CLASSIFY EACH DATA POINT INTO A SPECIFIC GROUP. IN THEORY, DATA POINTS THAT ARE IN THE SAME GROUP SHOULD HAVE SIMILAR PROPERTIES AND/OR FEATURES, WHILE DATA     POINTS IN ? DIFFERENT GROUPS SHOULD HAVE HIGHLY DISSIMILAR PROPERTIES AND/OR FEATURES. CLUSTERING IS A METHOD OF UNSUPERVISED LEARNING AND IS A COMMON TECHNIQUE! FOR STATISTICAL DATA ANALYSIS USED IN MANY FIELDS.? IN DATA SCIENCE,     WE CAN USE CLUSTERING ANALYSIS TO GAIN / SOME VALUABLE INSIGHTS FROM OUR DATA BY SEEING WHAT GROUPS THE DATA POINTS FALL INTO WHEN WE APPLY A CLUSTERING ALGORITHM. TODAY, WE’RE GOING TO LOOK AT 5 POPULAR CLUSTERING ALGORITHMS THAT DATA SCIENTISTS NEED TO KNOW AND THEIR PROS AND CONS   !\n"
     ]
    }
   ],
   "source": [
    "capitalizedString = whitespaceStrippedString.upper()\n",
    "print(capitalizedString)"
   ]
  },
  {
   "attachments": {},
   "cell_type": "markdown",
   "metadata": {},
   "source": [
    "#### Replace letters with X"
   ]
  },
  {
   "cell_type": "code",
   "execution_count": 10,
   "metadata": {},
   "outputs": [
    {
     "name": "stdout",
     "output_type": "stream",
     "text": [
      "XXXXXXXXXX XX X XXXXXXX XXXXXXXX XXXXXXXXX XXXX XXXXXXXX XXX XXXXXXXX XX XXXX XXXXXX. XXXXX X XXX XX XXXX XXXXXX, XX XXX XXX X XXXXXXXXXX XXXXXXXXX XX XXXXXXXX XXXX XXXX XXXXX XXXX X XXXXXXXX XXXXX. XX XXXXXX, XXXX XXXXXX XXXX XXX XX XXX XXXX XXXXX XXXXXX XXXX XXXXXXX XXXXXXXXXX XXX/XX XXXXXXXX, XXXXX XXXX     XXXXXX XX ? XXXXXXXXX XXXXXX XXXXXX XXXX XXXXXX XXXXXXXXXX XXXXXXXXXX XXX/XX XXXXXXXX. XXXXXXXXXX XX X XXXXXX XX XXXXXXXXXXXX XXXXXXXX XXX XX X XXXXXX XXXXXXXXX! XXX XXXXXXXXXXX XXXX XXXXXXXX XXXX XX XXXX XXXXXX.? XX XXXX XXXXXXX,     XX XXX XXX XXXXXXXXXX XXXXXXXX XX XXXX / XXXX XXXXXXXX XXXXXXXX XXXX XXX XXXX XX XXXXXX XXXX XXXXXX XXX XXXX XXXXXX XXXX XXXX XXXX XX XXXXX X XXXXXXXXXX XXXXXXXXX. XXXXX, XX’XX XXXXX XX XXXX XX 5 XXXXXXX XXXXXXXXXX XXXXXXXXXX XXXX XXXX XXXXXXXXXX XXXX XX XXXX XXX XXXXX XXXX XXX XXXX   !\n"
     ]
    }
   ],
   "source": [
    "import re\n",
    "replacedLettersWithX = re.sub(r'[a-zA-Z]','X',capitalizedString)\n",
    "print(replacedLettersWithX)"
   ]
  },
  {
   "attachments": {},
   "cell_type": "markdown",
   "metadata": {},
   "source": [
    "#### Removing punctuation"
   ]
  },
  {
   "cell_type": "code",
   "execution_count": 26,
   "metadata": {},
   "outputs": [
    {
     "name": "stdout",
     "output_type": "stream",
     "text": [
      "Clustering is a Machine Learning technique that involves the grouping of data points Given a set of data points we can use a clustering algorithm to classify each data point into a specific group In theory data points that are in the same group should have similar properties andor features while data     points in  different groups should have highly dissimilar properties andor features Clustering is a method of unsupervised learning and is a common technique for statistical data analysis used in many fields In Data Science     we can use clustering analysis to gain  some valuable insights from our data by seeing what groups the data points fall into when we apply a clustering algorithm Today were going to look at 5 popular clustering algorithms that data scientists need to know and their pros and cons   \n"
     ]
    }
   ],
   "source": [
    "removedpunctuationsList = re.sub(r'[^\\w\\s]', '', whitespaceStrippedString)\n",
    "print(removedpunctuationsList)\n"
   ]
  },
  {
   "attachments": {},
   "cell_type": "markdown",
   "metadata": {},
   "source": [
    "#### removing Stopwords"
   ]
  },
  {
   "cell_type": "code",
   "execution_count": 27,
   "metadata": {},
   "outputs": [
    {
     "name": "stdout",
     "output_type": "stream",
     "text": [
      "clustering machine learning technique involves grouping data points . given set data points , use clustering algorithm classify data point specific group . theory , data points group similar properties and/or features , data points ? different groups highly dissimilar properties and/or features . clustering method unsupervised learning common technique ! statistical data analysis used many fields. ? data science , use clustering analysis gain / valuable insights data seeing groups data points fall apply clustering algorithm . today , ’ going look 5 popular clustering algorithms data scientists need know pros cons !\n"
     ]
    }
   ],
   "source": [
    "from nltk.tokenize import word_tokenize\n",
    "from nltk.corpus import stopwords\n",
    "\n",
    "wordList = stopwords.words('english')\n",
    "tokenzied_list = word_tokenize(capitalizedString.lower())\n",
    "list_without_spotwords = []\n",
    "for x in tokenzied_list:\n",
    "    if x not in wordList:\n",
    "        list_without_spotwords.append(x)\n",
    "\n",
    "final_string = ' '.join(list_without_spotwords)\n",
    "print(final_string)\n"
   ]
  },
  {
   "attachments": {},
   "cell_type": "markdown",
   "metadata": {},
   "source": [
    "#### Split Sentences"
   ]
  },
  {
   "cell_type": "code",
   "execution_count": 29,
   "metadata": {},
   "outputs": [
    {
     "name": "stdout",
     "output_type": "stream",
     "text": [
      "['Clustering is a Machine Learning technique that involves the grouping of data points', ' Given a set of data points, we can use a clustering algorithm to classify each data point into a specific group', ' In theory, data points that are in the same group should have similar properties and/or features, while data     points in ? different groups should have highly dissimilar properties and/or features', ' Clustering is a method of unsupervised learning and is a common technique! for statistical data analysis used in many fields', '? In Data Science,     we can use clustering analysis to gain / some valuable insights from our data by seeing what groups the data points fall into when we apply a clustering algorithm', ' Today, we’re going to look at 5 popular clustering algorithms that data scientists need to know and their pros and cons   !']\n"
     ]
    }
   ],
   "source": [
    "SplittedStringList = whitespaceStrippedString.split('.')\n",
    "print(SplittedStringList)"
   ]
  },
  {
   "attachments": {},
   "cell_type": "markdown",
   "metadata": {},
   "source": [
    "#### Tokenize Word : word tokeinze"
   ]
  },
  {
   "cell_type": "code",
   "execution_count": 30,
   "metadata": {},
   "outputs": [
    {
     "name": "stdout",
     "output_type": "stream",
     "text": [
      "['Clustering', 'is', 'a', 'Machine', 'Learning', 'technique', 'that', 'involves', 'the', 'grouping', 'of', 'data', 'points', '.', 'Given', 'a', 'set', 'of', 'data', 'points', ',', 'we', 'can', 'use', 'a', 'clustering', 'algorithm', 'to', 'classify', 'each', 'data', 'point', 'into', 'a', 'specific', 'group', '.', 'In', 'theory', ',', 'data', 'points', 'that', 'are', 'in', 'the', 'same', 'group', 'should', 'have', 'similar', 'properties', 'and/or', 'features', ',', 'while', 'data', 'points', 'in', '?', 'different', 'groups', 'should', 'have', 'highly', 'dissimilar', 'properties', 'and/or', 'features', '.', 'Clustering', 'is', 'a', 'method', 'of', 'unsupervised', 'learning', 'and', 'is', 'a', 'common', 'technique', '!', 'for', 'statistical', 'data', 'analysis', 'used', 'in', 'many', 'fields.', '?', 'In', 'Data', 'Science', ',', 'we', 'can', 'use', 'clustering', 'analysis', 'to', 'gain', '/', 'some', 'valuable', 'insights', 'from', 'our', 'data', 'by', 'seeing', 'what', 'groups', 'the', 'data', 'points', 'fall', 'into', 'when', 'we', 'apply', 'a', 'clustering', 'algorithm', '.', 'Today', ',', 'we', '’', 're', 'going', 'to', 'look', 'at', '5', 'popular', 'clustering', 'algorithms', 'that', 'data', 'scientists', 'need', 'to', 'know', 'and', 'their', 'pros', 'and', 'cons', '!']\n"
     ]
    }
   ],
   "source": [
    "from nltk.tokenize import word_tokenize\n",
    "tokenzied_list = word_tokenize(whitespaceStrippedString)\n",
    "print(tokenzied_list)"
   ]
  },
  {
   "attachments": {},
   "cell_type": "markdown",
   "metadata": {},
   "source": [
    "#### Tokenize Word : Sent tokeinze"
   ]
  },
  {
   "cell_type": "code",
   "execution_count": 31,
   "metadata": {},
   "outputs": [
    {
     "name": "stdout",
     "output_type": "stream",
     "text": [
      "['Clustering is a Machine Learning technique that involves the grouping of data points.', 'Given a set of data points, we can use a clustering algorithm to classify each data point into a specific group.', 'In theory, data points that are in the same group should have similar properties and/or features, while data     points in ?', 'different groups should have highly dissimilar properties and/or features.', 'Clustering is a method of unsupervised learning and is a common technique!', 'for statistical data analysis used in many fields.?', 'In Data Science,     we can use clustering analysis to gain / some valuable insights from our data by seeing what groups the data points fall into when we apply a clustering algorithm.', 'Today, we’re going to look at 5 popular clustering algorithms that data scientists need to know and their pros and cons   !']\n"
     ]
    }
   ],
   "source": [
    "from nltk.tokenize import sent_tokenize\n",
    "sent_tokenzied_list = sent_tokenize(whitespaceStrippedString)\n",
    "print(sent_tokenzied_list)"
   ]
  },
  {
   "attachments": {},
   "cell_type": "markdown",
   "metadata": {},
   "source": [
    "#### Stemming"
   ]
  },
  {
   "cell_type": "code",
   "execution_count": 37,
   "metadata": {},
   "outputs": [
    {
     "name": "stdout",
     "output_type": "stream",
     "text": [
      " Stemming on universal univers\n",
      " Stemming on university univers\n"
     ]
    }
   ],
   "source": [
    "from nltk.stem import PorterStemmer\n",
    "stemmer = PorterStemmer()\n",
    "print(\" Stemming on universal\", stemmer.stem('universal'))\n",
    "print(\" Stemming on university\", stemmer.stem('university'))"
   ]
  },
  {
   "attachments": {},
   "cell_type": "markdown",
   "metadata": {},
   "source": [
    "##### Stemming only removes the prefix and suffix and it does check the root form of the words, that is why it's not an ideal choice for words like university"
   ]
  }
 ],
 "metadata": {
  "kernelspec": {
   "display_name": "Python 3",
   "language": "python",
   "name": "python3"
  },
  "language_info": {
   "codemirror_mode": {
    "name": "ipython",
    "version": 3
   },
   "file_extension": ".py",
   "mimetype": "text/x-python",
   "name": "python",
   "nbconvert_exporter": "python",
   "pygments_lexer": "ipython3",
   "version": "3.10.11"
  },
  "orig_nbformat": 4
 },
 "nbformat": 4,
 "nbformat_minor": 2
}
