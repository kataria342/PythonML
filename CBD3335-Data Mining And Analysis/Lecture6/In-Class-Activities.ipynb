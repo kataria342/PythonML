{
 "cells": [
  {
   "attachments": {},
   "cell_type": "markdown",
   "metadata": {},
   "source": [
    "***Program to find angram string***"
   ]
  },
  {
   "cell_type": "code",
   "execution_count": 1,
   "metadata": {},
   "outputs": [
    {
     "name": "stdout",
     "output_type": "stream",
     "text": [
      "Anagrams of listen : ['silent', 'enlist', 'inlets', 'listen']\n"
     ]
    }
   ],
   "source": [
    "def find_anagrams(word, words_list):\n",
    "    sorted_word = sorted(word)\n",
    "    anagrams = []\n",
    "    \n",
    "    for word in words_list:\n",
    "        if sorted(word) == sorted_word:\n",
    "            anagrams.append(word)\n",
    "            \n",
    "    return anagrams\n",
    "\n",
    "# Example usage\n",
    "input_word = \"listen\"\n",
    "word_list = [\"silent\", \"enlist\", \"inlets\", \"banana\", \"lister\", \"listen\"]\n",
    "anagrams = find_anagrams(input_word, word_list)\n",
    "\n",
    "print(\"Anagrams of\", input_word, \":\", anagrams)\n"
   ]
  },
  {
   "attachments": {},
   "cell_type": "markdown",
   "metadata": {},
   "source": [
    "***Python program to print the original index after sorting***"
   ]
  },
  {
   "cell_type": "code",
   "execution_count": 24,
   "metadata": {},
   "outputs": [
    {
     "name": "stdout",
     "output_type": "stream",
     "text": [
      "[(0, 3), (1, 4), (2, 1), (3, 2)]\n",
      "[(2, 1), (3, 2), (0, 3), (1, 4)]\n",
      "[2, 3, 0, 1]\n"
     ]
    }
   ],
   "source": [
    "lst = [3,4,1,2]\n",
    "print(list(enumerate(lst)))\n",
    "\n",
    "print([index for index in sorted(enumerate(lst), key = lambda x: x[1])])\n",
    "\n",
    "print([index for index, value in sorted(enumerate(lst), key = lambda x: x[1])])"
   ]
  },
  {
   "cell_type": "markdown",
   "metadata": {},
   "source": []
  }
 ],
 "metadata": {
  "kernelspec": {
   "display_name": "Python 3",
   "language": "python",
   "name": "python3"
  },
  "language_info": {
   "codemirror_mode": {
    "name": "ipython",
    "version": 3
   },
   "file_extension": ".py",
   "mimetype": "text/x-python",
   "name": "python",
   "nbconvert_exporter": "python",
   "pygments_lexer": "ipython3",
   "version": "3.10.11"
  },
  "orig_nbformat": 4
 },
 "nbformat": 4,
 "nbformat_minor": 2
}
