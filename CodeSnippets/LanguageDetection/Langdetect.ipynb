{
 "cells": [
  {
   "cell_type": "code",
   "execution_count": 1,
   "metadata": {},
   "outputs": [
    {
     "name": "stdout",
     "output_type": "stream",
     "text": [
      "Word: english\tLanguage: German\n",
      "Word: savoir\tLanguage: Finnish\n",
      "Word: 早晨\tLanguage: Chinese (China)\n",
      "Word: Bonjour\tLanguage: French\n"
     ]
    }
   ],
   "source": [
    "from langdetect import detect\n",
    "\n",
    "from langcodes import Language\n",
    "\n",
    "def detect_language(sentence):\n",
    "    words = sentence.split()\n",
    "    detected_languages = []\n",
    "\n",
    "    for word in words:\n",
    "        language = detect(word)\n",
    "        detected_languages.append(language)\n",
    "\n",
    "    return detected_languages\n",
    "\n",
    "# Example usage\n",
    "sentence =\"english savoir 早晨 Bonjour\"\n",
    "languages = detect_language(sentence)\n",
    "\n",
    "for word, language in zip(sentence.split(), languages):\n",
    "    print(f\"Word: {word}\\tLanguage: {Language.get(language).display_name()}\")"
   ]
  }
 ],
 "metadata": {
  "kernelspec": {
   "display_name": "Python 3",
   "language": "python",
   "name": "python3"
  },
  "language_info": {
   "codemirror_mode": {
    "name": "ipython",
    "version": 3
   },
   "file_extension": ".py",
   "mimetype": "text/x-python",
   "name": "python",
   "nbconvert_exporter": "python",
   "pygments_lexer": "ipython3",
   "version": "3.10.11"
  },
  "orig_nbformat": 4
 },
 "nbformat": 4,
 "nbformat_minor": 2
}
