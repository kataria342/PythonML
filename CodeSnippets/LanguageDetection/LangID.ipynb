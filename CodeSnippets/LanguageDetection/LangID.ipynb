{
 "cells": [
  {
   "cell_type": "code",
   "execution_count": 2,
   "metadata": {},
   "outputs": [
    {
     "name": "stdout",
     "output_type": "stream",
     "text": [
      "('en', -22.992373943328857)\n",
      "Word: bonjour\tPredicted Language: en\n"
     ]
    }
   ],
   "source": [
    "import langid\n",
    "\n",
    "def predict_language(word):\n",
    "    language, _ = langid.classify(word)\n",
    "    print(langid.classify(word))\n",
    "    return language\n",
    "\n",
    "# Example usage\n",
    "word = \"bonjour\"\n",
    "# Emglish : I love to travel and explore new places.\n",
    "# French : Bonjour, comment ça va ?\n",
    "# Russian : Я люблю путешествовать и исследовать новые места.\n",
    "# German : Ich liebe es zu reisen und neue Orte zu erkunden.\n",
    "predicted_language = predict_language(word)\n",
    "print(f\"Word: {word}\\tPredicted Language: {predicted_language}\")\n"
   ]
  },
  {
   "cell_type": "code",
   "execution_count": null,
   "metadata": {},
   "outputs": [],
   "source": []
  }
 ],
 "metadata": {
  "kernelspec": {
   "display_name": "Python 3",
   "language": "python",
   "name": "python3"
  },
  "language_info": {
   "codemirror_mode": {
    "name": "ipython",
    "version": 3
   },
   "file_extension": ".py",
   "mimetype": "text/x-python",
   "name": "python",
   "nbconvert_exporter": "python",
   "pygments_lexer": "ipython3",
   "version": "3.10.11"
  },
  "orig_nbformat": 4
 },
 "nbformat": 4,
 "nbformat_minor": 2
}
