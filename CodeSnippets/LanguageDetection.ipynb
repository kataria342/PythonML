{
 "cells": [
  {
   "cell_type": "code",
   "execution_count": 37,
   "metadata": {},
   "outputs": [
    {
     "name": "stdout",
     "output_type": "stream",
     "text": [
      "The detected language is: zh\n"
     ]
    }
   ],
   "source": [
    "import spacy\n",
    "\n",
    "# Load the language model\n",
    "nlp = spacy.load(\"zh_core_web_sm\")\n",
    "\n",
    "def detect_language(text):\n",
    "    doc = nlp(text)\n",
    "    language_code = doc.lang_\n",
    "    return language_code\n",
    "\n",
    "text = \"ola, how are you?\"\n",
    "language = detect_language(text)\n",
    "print(f\"The detected language is: {language}\")\n"
   ]
  },
  {
   "cell_type": "code",
   "execution_count": 38,
   "metadata": {},
   "outputs": [
    {
     "name": "stdout",
     "output_type": "stream",
     "text": [
      "你好\n",
      "你好\n",
      "zh\n",
      "Non-English words: ['你好']\n"
     ]
    }
   ],
   "source": [
    "def detect_non_english_words(text):\n",
    "    doc = nlp(text)\n",
    "    non_english_words = []\n",
    "    print(doc)\n",
    "\n",
    "    for token in doc:\n",
    "        print(token)\n",
    "        print(token.lang_)\n",
    "        if not token.is_alpha:\n",
    "            continue  # Skip if the token is not alphabetic\n",
    "\n",
    "        if token.lang_ != 'en':\n",
    "            non_english_words.append(token.text)\n",
    "\n",
    "    return non_english_words\n",
    "\n",
    "text = \"你好\"\n",
    "non_english_words = detect_non_english_words(text)\n",
    "print(\"Non-English words:\", non_english_words)\n"
   ]
  },
  {
   "cell_type": "code",
   "execution_count": null,
   "metadata": {},
   "outputs": [],
   "source": []
  }
 ],
 "metadata": {
  "kernelspec": {
   "display_name": "Python 3",
   "language": "python",
   "name": "python3"
  },
  "language_info": {
   "codemirror_mode": {
    "name": "ipython",
    "version": 3
   },
   "file_extension": ".py",
   "mimetype": "text/x-python",
   "name": "python",
   "nbconvert_exporter": "python",
   "pygments_lexer": "ipython3",
   "version": "3.10.11"
  },
  "orig_nbformat": 4
 },
 "nbformat": 4,
 "nbformat_minor": 2
}
