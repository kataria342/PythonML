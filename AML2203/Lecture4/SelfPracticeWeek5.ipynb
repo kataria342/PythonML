{
 "cells": [
  {
   "attachments": {},
   "cell_type": "markdown",
   "metadata": {},
   "source": [
    "Program to find all the numbers from 0-9 from a string"
   ]
  },
  {
   "cell_type": "code",
   "execution_count": 3,
   "metadata": {},
   "outputs": [
    {
     "name": "stdout",
     "output_type": "stream",
     "text": [
      "8941\n"
     ]
    }
   ],
   "source": [
    "textString = '89ADFRE41'\n",
    "num = ''\n",
    "\n",
    "for i in textString:\n",
    "    if i.isdigit():\n",
    "        num +=i\n",
    "print(num)"
   ]
  },
  {
   "attachments": {},
   "cell_type": "markdown",
   "metadata": {},
   "source": [
    "Program to find two elements once in a list where every element appears exactly n times in the list."
   ]
  },
  {
   "cell_type": "code",
   "execution_count": null,
   "metadata": {},
   "outputs": [],
   "source": [
    "inputNum = [1, 2, 1, 3, 2, 5]\n",
    "count = 2\n",
    "rp_list = []\n",
    "si_list = []\n",
    "for i in inputNum:\n",
    "    if i in rp_list:\n",
    "        continue\n",
    "    else:\n",
    "        for j\n"
   ]
  },
  {
   "cell_type": "code",
   "execution_count": null,
   "metadata": {},
   "outputs": [],
   "source": []
  }
 ],
 "metadata": {
  "kernelspec": {
   "display_name": "Python 3",
   "language": "python",
   "name": "python3"
  },
  "language_info": {
   "codemirror_mode": {
    "name": "ipython",
    "version": 3
   },
   "file_extension": ".py",
   "mimetype": "text/x-python",
   "name": "python",
   "nbconvert_exporter": "python",
   "pygments_lexer": "ipython3",
   "version": "3.10.11"
  },
  "orig_nbformat": 4
 },
 "nbformat": 4,
 "nbformat_minor": 2
}
