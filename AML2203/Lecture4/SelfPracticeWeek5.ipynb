{
 "cells": [
  {
   "attachments": {},
   "cell_type": "markdown",
   "metadata": {},
   "source": [
    "Program to find all the numbers from 0-9 from a string"
   ]
  },
  {
   "cell_type": "code",
   "execution_count": 3,
   "metadata": {},
   "outputs": [
    {
     "name": "stdout",
     "output_type": "stream",
     "text": [
      "89412\n"
     ]
    }
   ],
   "source": [
    "textString = '89ADFRE412z'\n",
    "num = ''\n",
    "for i in textString:\n",
    "    if i.isdigit():\n",
    "        num +=i\n",
    "print(num)"
   ]
  },
  {
   "attachments": {},
   "cell_type": "markdown",
   "metadata": {},
   "source": [
    "Program to find two elements once in a list where every element appears exactly n times in the list."
   ]
  },
  {
   "cell_type": "code",
   "execution_count": 4,
   "metadata": {},
   "outputs": [],
   "source": [
    "inputNum = [1, 2, 1, 3, 2, 5]\n",
    "count = 2\n",
    "rp_list = []\n",
    "si_list = []\n",
    "for i in inputNum:\n",
    "    if i in rp_list:\n",
    "        continue\n",
    "    else:\n",
    "        pass\n"
   ]
  },
  {
   "cell_type": "code",
   "execution_count": 13,
   "metadata": {},
   "outputs": [
    {
     "name": "stdout",
     "output_type": "stream",
     "text": [
      "Entered Number is :  8786\n",
      "reversed Number is  6878\n"
     ]
    }
   ],
   "source": [
    "num = int(input('Enter the number'))\n",
    "\n",
    "print(\"Entered Number is : \", num)\n",
    "new = ''\n",
    "while num > 0:\n",
    "    temp = num % 10\n",
    "    new +=str(temp)\n",
    "    num=num//10\n",
    "    \n",
    "new = int(new)\n",
    "print(\"reversed Number is \", new)"
   ]
  },
  {
   "cell_type": "code",
   "execution_count": null,
   "metadata": {},
   "outputs": [],
   "source": []
  }
 ],
 "metadata": {
  "kernelspec": {
   "display_name": "Python 3",
   "language": "python",
   "name": "python3"
  },
  "language_info": {
   "codemirror_mode": {
    "name": "ipython",
    "version": 3
   },
   "file_extension": ".py",
   "mimetype": "text/x-python",
   "name": "python",
   "nbconvert_exporter": "python",
   "pygments_lexer": "ipython3",
   "version": "3.10.11"
  },
  "orig_nbformat": 4
 },
 "nbformat": 4,
 "nbformat_minor": 2
}
