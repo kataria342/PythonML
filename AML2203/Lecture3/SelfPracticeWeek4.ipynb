{
 "cells": [
  {
   "attachments": {},
   "cell_type": "markdown",
   "metadata": {},
   "source": [
    "Python program to find the single element in a list where every element appears multiple times except for one."
   ]
  },
  {
   "cell_type": "code",
   "execution_count": 1,
   "metadata": {},
   "outputs": [
    {
     "name": "stdout",
     "output_type": "stream",
     "text": [
      "Entered list is :  [5, 3, 4, 3, 5, 5, 3]\n",
      "Single digits in list : [4]\n"
     ]
    }
   ],
   "source": [
    "numList = [5, 3, 4, 3, 5, 5, 3]\n",
    "repeatList = []\n",
    "singleElement = []\n",
    "for i in range(len(numList)):\n",
    "    status = True\n",
    "    num = numList[i]\n",
    "    if num in repeatList:\n",
    "        status = False\n",
    "    else:\n",
    "        for j in range(i+1, len(numList)):\n",
    "            if num == numList[j]:\n",
    "                status = False\n",
    "                break            \n",
    "\n",
    "    if status:\n",
    "        singleElement.append(num)\n",
    "    else:\n",
    "        repeatList.append(num)                     \n",
    "   \n",
    "print(\"Entered list is : \", numList)\n",
    "print(\"Single digits in list :\", singleElement)"
   ]
  },
  {
   "attachments": {},
   "cell_type": "markdown",
   "metadata": {},
   "source": [
    "Python program to compute and return the square root of a given 'integer'. "
   ]
  },
  {
   "cell_type": "code",
   "execution_count": 2,
   "metadata": {},
   "outputs": [
    {
     "name": "stdout",
     "output_type": "stream",
     "text": [
      "Square root of number 100 is 10\n"
     ]
    }
   ],
   "source": [
    "def squareroot(num):\n",
    "    if num == 1:\n",
    "        return 1\n",
    "    else:\n",
    "        for i in range((num//2) + 1):\n",
    "            if i*i == num:\n",
    "                return i\n",
    "            elif i*i > num:\n",
    "                return 'not a valid Square Number'\n",
    "number = int(input(\"Enter the number: \\n\"))\n",
    "print(\"Square root of number\",number,\"is\",squareroot(number))"
   ]
  },
  {
   "attachments": {},
   "cell_type": "markdown",
   "metadata": {},
   "source": [
    "Python program to check a sequence of numbers is a geometric progression or not. "
   ]
  },
  {
   "cell_type": "code",
   "execution_count": 3,
   "metadata": {},
   "outputs": [
    {
     "name": "stdout",
     "output_type": "stream",
     "text": [
      "Given list [2, 4, 8, 16, 32, 64]  is a GP\n"
     ]
    }
   ],
   "source": [
    "status = True\n",
    "numList = [2, 4, 8, 16, 32, 64]\n",
    "numList.sort()\n",
    "diff = numList[1] // numList[0]\n",
    "for i in range(2,len(numList)):\n",
    "    if (diff**i * numList[0]) != numList[i]:\n",
    "        status = False\n",
    "        break\n",
    "if status:\n",
    "    print(\"Given list\",numList,\" is a GP\")\n",
    "else:    \n",
    "    print(\"Given list\",numList,\" is a not a GP\")"
   ]
  }
 ],
 "metadata": {
  "kernelspec": {
   "display_name": "Python 3",
   "language": "python",
   "name": "python3"
  },
  "language_info": {
   "codemirror_mode": {
    "name": "ipython",
    "version": 3
   },
   "file_extension": ".py",
   "mimetype": "text/x-python",
   "name": "python",
   "nbconvert_exporter": "python",
   "pygments_lexer": "ipython3",
   "version": "3.10.11"
  },
  "orig_nbformat": 4
 },
 "nbformat": 4,
 "nbformat_minor": 2
}
