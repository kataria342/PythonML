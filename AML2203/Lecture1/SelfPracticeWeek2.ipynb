{
 "cells": [
  {
   "cell_type": "code",
   "execution_count": 8,
   "metadata": {
    "collapsed": true
   },
   "outputs": [
    {
     "name": "stdout",
     "output_type": "stream",
     "text": [
      "64  is a Perfect square\n"
     ]
    }
   ],
   "source": [
    "value = int(input(\"Enter the number:\\n\"))\n",
    "\n",
    "for i in range(value):\n",
    "    if i * i == value:\n",
    "        print(value,\" is a Perfect square\")\n",
    "        break\n",
    "    elif i * i > value:\n",
    "        print(value,\" is not a perfect square\")\n",
    "        break"
   ]
  },
  {
   "cell_type": "code",
   "execution_count": 2,
   "metadata": {
    "collapsed": false
   },
   "outputs": [
    {
     "name": "stdout",
     "output_type": "stream",
     "text": [
      "Entered list :  [1, 2, 2, 4, 5, 7, 8, 9, 11]\n",
      "Missing Number :  [3, 6, 10]\n"
     ]
    }
   ],
   "source": [
    "inputData = input(\"Enter comma seperated list:\\n\")\n",
    "numberList = inputData.split(',')\n",
    "finalList= []\n",
    "\n",
    "for i in numberList:\n",
    "    finalList.append(int(i))\n",
    "\n",
    "print(\"Entered list : \", finalList)\n",
    "finalList.sort()\n",
    "finalList = set(finalList)\n",
    "\n",
    "missing = []\n",
    "j = 1\n",
    "\n",
    "for i in finalList:\n",
    "    if i != j:\n",
    "        if j not in missing:\n",
    "            missing.append(j)\n",
    "            j = i+1\n",
    "        else:\n",
    "            j= i+1\n",
    "    else:\n",
    "        j = j + 1\n",
    "print(\"Missing Number : \", missing)"
   ]
  },
  {
   "cell_type": "code",
   "execution_count": 14,
   "metadata": {
    "collapsed": false
   },
   "outputs": [
    {
     "name": "stdout",
     "output_type": "stream",
     "text": [
      "Entered list:  [5, 3, 4, 3, 4]\n",
      "Non repetitive numbers:  [5]\n"
     ]
    }
   ],
   "source": [
    "inputData = input(\"Enter comma seperated list:\\n\")\n",
    "numberList = inputData.split(',')\n",
    "finalList= []\n",
    "\n",
    "for i in numberList:\n",
    "    finalList.append(int(i))\n",
    "\n",
    "nonDuplicateList =[]\n",
    "repeatList=[]\n",
    "for i in range(len(finalList)): #0\n",
    "    status = True\n",
    "    if finalList[i] in repeatList:\n",
    "        status = False\n",
    "    else:\n",
    "        for j in range(i+1, len(finalList)):\n",
    "            if finalList[i] == finalList[j]:\n",
    "                status = False\n",
    "        if status:\n",
    "            nonDuplicateList.append(finalList[i])\n",
    "        else:\n",
    "            repeatList.append(finalList[i])\n",
    "print(\"Entered list: \", finalList)\n",
    "print(\"Non repetitive numbers: \",nonDuplicateList)"
   ]
  }
 ],
 "metadata": {
  "kernelspec": {
   "display_name": "Python 3",
   "language": "python",
   "name": "python3"
  },
  "language_info": {
   "codemirror_mode": {
    "name": "ipython",
    "version": 3
   },
   "file_extension": ".py",
   "mimetype": "text/x-python",
   "name": "python",
   "nbconvert_exporter": "python",
   "pygments_lexer": "ipython3",
   "version": "3.10.11"
  }
 },
 "nbformat": 4,
 "nbformat_minor": 0
}
